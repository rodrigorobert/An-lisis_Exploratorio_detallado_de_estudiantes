{
  "cells": [
    {
      "cell_type": "markdown",
      "metadata": {
        "id": "sQ3aNuP_Hzgp"
      },
      "source": [
        "# Análisis exploratorio de la tabla de estudiantes"
      ]
    },
    {
      "cell_type": "code",
      "execution_count": 1,
      "metadata": {
        "id": "PM3816uWHzgs"
      },
      "outputs": [],
      "source": [
        "import pandas as pd\n",
        "import numpy as np\n",
        "import matplotlib.pyplot as plt\n",
        "import seaborn as sns\n",
        "from scipy import stats\n",
        "# test-pr"
      ]
    },
    {
      "cell_type": "code",
      "execution_count": 2,
      "metadata": {
        "id": "jksjh_ShHzgs"
      },
      "outputs": [],
      "source": [
        "import sklearn"
      ]
    },
    {
      "cell_type": "code",
      "execution_count": 3,
      "metadata": {
        "colab": {
          "base_uri": "https://localhost:8080/",
          "height": 36
        },
        "id": "6qIZwLtGHzgt",
        "outputId": "45852f35-09b4-41db-8e44-39e0a145d16a"
      },
      "outputs": [
        {
          "data": {
            "application/vnd.google.colaboratory.intrinsic+json": {
              "type": "string"
            },
            "text/plain": [
              "'1.0.2'"
            ]
          },
          "execution_count": 3,
          "metadata": {},
          "output_type": "execute_result"
        }
      ],
      "source": [
        "# Chequeo nuestra version \n",
        "sklearn.__version__"
      ]
    },
    {
      "cell_type": "markdown",
      "metadata": {
        "id": "6BM2ykR5Hzgt"
      },
      "source": [
        "Un proyecto de data science tiene varias etapas: \n",
        "\n",
        "1. Recolección de Datos\n",
        "2. Exploración y Procesamiento de los datos\n",
        "3. Modelado \n",
        "4. Puesta en Producción\n"
      ]
    },
    {
      "cell_type": "markdown",
      "metadata": {
        "id": "C4hwIx9RHzgu"
      },
      "source": [
        "<font size=5>  🚀 Procesamiento de datos 👩🏽‍💻</font>"
      ]
    },
    {
      "cell_type": "markdown",
      "metadata": {
        "id": "54hD5YsxHzgu"
      },
      "source": [
        "Una vez que visualizamos y exploramos el dataset tenemos una idea de cómo lucen nuestros datos. Es por eso que ahora debemos empezar a preparar nuestros datos para los siguientes pasos según lo que aprendimos de ellos y las preguntas que nos planteamos."
      ]
    },
    {
      "cell_type": "code",
      "execution_count": 10,
      "metadata": {
        "id": "SktRyNpBHzgv"
      },
      "outputs": [],
      "source": [
        "# Leemos nuevamente los datos de los estudiantes\n",
        "students = pd.read_csv('StudentsPerformance.csv')"
      ]
    },
    {
      "cell_type": "code",
      "execution_count": 12,
      "metadata": {
        "colab": {
          "base_uri": "https://localhost:8080/",
          "height": 423
        },
        "id": "CIjwxT2aHzgv",
        "outputId": "67d805fc-3ec9-4b1c-d468-b17321ecfb6d"
      },
      "outputs": [
        {
          "data": {
            "text/html": [
              "\n",
              "  <div id=\"df-f8be424c-cbd1-4f0c-93b2-12e816e9a13c\">\n",
              "    <div class=\"colab-df-container\">\n",
              "      <div>\n",
              "<style scoped>\n",
              "    .dataframe tbody tr th:only-of-type {\n",
              "        vertical-align: middle;\n",
              "    }\n",
              "\n",
              "    .dataframe tbody tr th {\n",
              "        vertical-align: top;\n",
              "    }\n",
              "\n",
              "    .dataframe thead th {\n",
              "        text-align: right;\n",
              "    }\n",
              "</style>\n",
              "<table border=\"1\" class=\"dataframe\">\n",
              "  <thead>\n",
              "    <tr style=\"text-align: right;\">\n",
              "      <th></th>\n",
              "      <th>gender</th>\n",
              "      <th>race/ethnicity</th>\n",
              "      <th>parental level of education</th>\n",
              "      <th>lunch</th>\n",
              "      <th>test preparation course</th>\n",
              "      <th>math score</th>\n",
              "      <th>reading score</th>\n",
              "      <th>writing score</th>\n",
              "    </tr>\n",
              "  </thead>\n",
              "  <tbody>\n",
              "    <tr>\n",
              "      <th>0</th>\n",
              "      <td>female</td>\n",
              "      <td>group B</td>\n",
              "      <td>NaN</td>\n",
              "      <td>standard</td>\n",
              "      <td>none</td>\n",
              "      <td>1.125000</td>\n",
              "      <td>72</td>\n",
              "      <td>74</td>\n",
              "    </tr>\n",
              "    <tr>\n",
              "      <th>1</th>\n",
              "      <td>female</td>\n",
              "      <td>group C</td>\n",
              "      <td>some college</td>\n",
              "      <td>standard</td>\n",
              "      <td>completed</td>\n",
              "      <td>1.078125</td>\n",
              "      <td>90</td>\n",
              "      <td>88</td>\n",
              "    </tr>\n",
              "    <tr>\n",
              "      <th>2</th>\n",
              "      <td>female</td>\n",
              "      <td>group B</td>\n",
              "      <td>master's degree</td>\n",
              "      <td>standard</td>\n",
              "      <td>none</td>\n",
              "      <td>1.406250</td>\n",
              "      <td>95</td>\n",
              "      <td>93</td>\n",
              "    </tr>\n",
              "    <tr>\n",
              "      <th>3</th>\n",
              "      <td>male</td>\n",
              "      <td>group A</td>\n",
              "      <td>associate's degree</td>\n",
              "      <td>free/reduced</td>\n",
              "      <td>none</td>\n",
              "      <td>0.734375</td>\n",
              "      <td>57</td>\n",
              "      <td>44</td>\n",
              "    </tr>\n",
              "    <tr>\n",
              "      <th>4</th>\n",
              "      <td>male</td>\n",
              "      <td>group C</td>\n",
              "      <td>some college</td>\n",
              "      <td>standard</td>\n",
              "      <td>none</td>\n",
              "      <td>1.187500</td>\n",
              "      <td>78</td>\n",
              "      <td>75</td>\n",
              "    </tr>\n",
              "    <tr>\n",
              "      <th>...</th>\n",
              "      <td>...</td>\n",
              "      <td>...</td>\n",
              "      <td>...</td>\n",
              "      <td>...</td>\n",
              "      <td>...</td>\n",
              "      <td>...</td>\n",
              "      <td>...</td>\n",
              "      <td>...</td>\n",
              "    </tr>\n",
              "    <tr>\n",
              "      <th>995</th>\n",
              "      <td>female</td>\n",
              "      <td>group E</td>\n",
              "      <td>master's degree</td>\n",
              "      <td>standard</td>\n",
              "      <td>completed</td>\n",
              "      <td>1.375000</td>\n",
              "      <td>99</td>\n",
              "      <td>95</td>\n",
              "    </tr>\n",
              "    <tr>\n",
              "      <th>996</th>\n",
              "      <td>male</td>\n",
              "      <td>group C</td>\n",
              "      <td>high school</td>\n",
              "      <td>free/reduced</td>\n",
              "      <td>none</td>\n",
              "      <td>0.968750</td>\n",
              "      <td>55</td>\n",
              "      <td>55</td>\n",
              "    </tr>\n",
              "    <tr>\n",
              "      <th>997</th>\n",
              "      <td>female</td>\n",
              "      <td>group C</td>\n",
              "      <td>high school</td>\n",
              "      <td>free/reduced</td>\n",
              "      <td>completed</td>\n",
              "      <td>0.921875</td>\n",
              "      <td>71</td>\n",
              "      <td>65</td>\n",
              "    </tr>\n",
              "    <tr>\n",
              "      <th>998</th>\n",
              "      <td>female</td>\n",
              "      <td>group D</td>\n",
              "      <td>some college</td>\n",
              "      <td>standard</td>\n",
              "      <td>completed</td>\n",
              "      <td>1.062500</td>\n",
              "      <td>78</td>\n",
              "      <td>77</td>\n",
              "    </tr>\n",
              "    <tr>\n",
              "      <th>999</th>\n",
              "      <td>female</td>\n",
              "      <td>group D</td>\n",
              "      <td>some college</td>\n",
              "      <td>free/reduced</td>\n",
              "      <td>none</td>\n",
              "      <td>1.203125</td>\n",
              "      <td>86</td>\n",
              "      <td>86</td>\n",
              "    </tr>\n",
              "  </tbody>\n",
              "</table>\n",
              "<p>1000 rows × 8 columns</p>\n",
              "</div>\n",
              "      <button class=\"colab-df-convert\" onclick=\"convertToInteractive('df-f8be424c-cbd1-4f0c-93b2-12e816e9a13c')\"\n",
              "              title=\"Convert this dataframe to an interactive table.\"\n",
              "              style=\"display:none;\">\n",
              "        \n",
              "  <svg xmlns=\"http://www.w3.org/2000/svg\" height=\"24px\"viewBox=\"0 0 24 24\"\n",
              "       width=\"24px\">\n",
              "    <path d=\"M0 0h24v24H0V0z\" fill=\"none\"/>\n",
              "    <path d=\"M18.56 5.44l.94 2.06.94-2.06 2.06-.94-2.06-.94-.94-2.06-.94 2.06-2.06.94zm-11 1L8.5 8.5l.94-2.06 2.06-.94-2.06-.94L8.5 2.5l-.94 2.06-2.06.94zm10 10l.94 2.06.94-2.06 2.06-.94-2.06-.94-.94-2.06-.94 2.06-2.06.94z\"/><path d=\"M17.41 7.96l-1.37-1.37c-.4-.4-.92-.59-1.43-.59-.52 0-1.04.2-1.43.59L10.3 9.45l-7.72 7.72c-.78.78-.78 2.05 0 2.83L4 21.41c.39.39.9.59 1.41.59.51 0 1.02-.2 1.41-.59l7.78-7.78 2.81-2.81c.8-.78.8-2.07 0-2.86zM5.41 20L4 18.59l7.72-7.72 1.47 1.35L5.41 20z\"/>\n",
              "  </svg>\n",
              "      </button>\n",
              "      \n",
              "  <style>\n",
              "    .colab-df-container {\n",
              "      display:flex;\n",
              "      flex-wrap:wrap;\n",
              "      gap: 12px;\n",
              "    }\n",
              "\n",
              "    .colab-df-convert {\n",
              "      background-color: #E8F0FE;\n",
              "      border: none;\n",
              "      border-radius: 50%;\n",
              "      cursor: pointer;\n",
              "      display: none;\n",
              "      fill: #1967D2;\n",
              "      height: 32px;\n",
              "      padding: 0 0 0 0;\n",
              "      width: 32px;\n",
              "    }\n",
              "\n",
              "    .colab-df-convert:hover {\n",
              "      background-color: #E2EBFA;\n",
              "      box-shadow: 0px 1px 2px rgba(60, 64, 67, 0.3), 0px 1px 3px 1px rgba(60, 64, 67, 0.15);\n",
              "      fill: #174EA6;\n",
              "    }\n",
              "\n",
              "    [theme=dark] .colab-df-convert {\n",
              "      background-color: #3B4455;\n",
              "      fill: #D2E3FC;\n",
              "    }\n",
              "\n",
              "    [theme=dark] .colab-df-convert:hover {\n",
              "      background-color: #434B5C;\n",
              "      box-shadow: 0px 1px 3px 1px rgba(0, 0, 0, 0.15);\n",
              "      filter: drop-shadow(0px 1px 2px rgba(0, 0, 0, 0.3));\n",
              "      fill: #FFFFFF;\n",
              "    }\n",
              "  </style>\n",
              "\n",
              "      <script>\n",
              "        const buttonEl =\n",
              "          document.querySelector('#df-f8be424c-cbd1-4f0c-93b2-12e816e9a13c button.colab-df-convert');\n",
              "        buttonEl.style.display =\n",
              "          google.colab.kernel.accessAllowed ? 'block' : 'none';\n",
              "\n",
              "        async function convertToInteractive(key) {\n",
              "          const element = document.querySelector('#df-f8be424c-cbd1-4f0c-93b2-12e816e9a13c');\n",
              "          const dataTable =\n",
              "            await google.colab.kernel.invokeFunction('convertToInteractive',\n",
              "                                                     [key], {});\n",
              "          if (!dataTable) return;\n",
              "\n",
              "          const docLinkHtml = 'Like what you see? Visit the ' +\n",
              "            '<a target=\"_blank\" href=https://colab.research.google.com/notebooks/data_table.ipynb>data table notebook</a>'\n",
              "            + ' to learn more about interactive tables.';\n",
              "          element.innerHTML = '';\n",
              "          dataTable['output_type'] = 'display_data';\n",
              "          await google.colab.output.renderOutput(dataTable, element);\n",
              "          const docLink = document.createElement('div');\n",
              "          docLink.innerHTML = docLinkHtml;\n",
              "          element.appendChild(docLink);\n",
              "        }\n",
              "      </script>\n",
              "    </div>\n",
              "  </div>\n",
              "  "
            ],
            "text/plain": [
              "     gender race/ethnicity  ... reading score writing score\n",
              "0    female        group B  ...            72            74\n",
              "1    female        group C  ...            90            88\n",
              "2    female        group B  ...            95            93\n",
              "3      male        group A  ...            57            44\n",
              "4      male        group C  ...            78            75\n",
              "..      ...            ...  ...           ...           ...\n",
              "995  female        group E  ...            99            95\n",
              "996    male        group C  ...            55            55\n",
              "997  female        group C  ...            71            65\n",
              "998  female        group D  ...            78            77\n",
              "999  female        group D  ...            86            86\n",
              "\n",
              "[1000 rows x 8 columns]"
            ]
          },
          "execution_count": 12,
          "metadata": {},
          "output_type": "execute_result"
        }
      ],
      "source": [
        "students"
      ]
    },
    {
      "cell_type": "markdown",
      "metadata": {
        "id": "F9bsOXxtHzgv"
      },
      "source": [
        "#### MANEJO DE DATOS FALTANTES 🚨"
      ]
    },
    {
      "cell_type": "markdown",
      "metadata": {
        "id": "ztwTO9HjHzgw"
      },
      "source": [
        "Primero, chequear datos faltantes."
      ]
    },
    {
      "cell_type": "code",
      "execution_count": 14,
      "metadata": {
        "colab": {
          "base_uri": "https://localhost:8080/"
        },
        "id": "hBOkC-dRHzgw",
        "outputId": "66cf3a95-d9c3-4a83-903b-dde3d26f6e59"
      },
      "outputs": [
        {
          "data": {
            "text/plain": [
              "gender                          0\n",
              "race/ethnicity                 11\n",
              "parental level of education    10\n",
              "lunch                           5\n",
              "test preparation course        15\n",
              "math score                      0\n",
              "reading score                   0\n",
              "writing score                   0\n",
              "dtype: int64"
            ]
          },
          "execution_count": 14,
          "metadata": {},
          "output_type": "execute_result"
        }
      ],
      "source": [
        "students.isna().sum()"
      ]
    },
    {
      "cell_type": "markdown",
      "metadata": {
        "id": "pF-rpz3kHzgw"
      },
      "source": [
        "¿Cuánto representan esos valores faltantes?"
      ]
    },
    {
      "cell_type": "code",
      "execution_count": 15,
      "metadata": {
        "colab": {
          "base_uri": "https://localhost:8080/"
        },
        "id": "6SJ59X0HHzgw",
        "outputId": "5e1cd7b4-d6b2-448f-fca3-752e6e5d0bea"
      },
      "outputs": [
        {
          "data": {
            "text/plain": [
              "gender                         0.0\n",
              "race/ethnicity                 1.1\n",
              "parental level of education    1.0\n",
              "lunch                          0.5\n",
              "test preparation course        1.5\n",
              "math score                     0.0\n",
              "reading score                  0.0\n",
              "writing score                  0.0\n",
              "dtype: float64"
            ]
          },
          "execution_count": 15,
          "metadata": {},
          "output_type": "execute_result"
        }
      ],
      "source": [
        "students.isna().sum()/students.shape[0]*100"
      ]
    },
    {
      "cell_type": "markdown",
      "metadata": {
        "id": "ujuOK6KZI9UY"
      },
      "source": [
        "**¿Qué debo preguntarme al manejar datos faltantes?**\n",
        "\n",
        "- ¿Quiero conservar la información?\n",
        "- ¿Qué tipo de datos tengo en la columna que voy a imputar?\n",
        "- ¿Por qué puede ser que tengo los valores faltantes?:\n",
        "    - Valores faltantes al azar\n",
        "    - Valores faltantes no al azar"
      ]
    },
    {
      "cell_type": "markdown",
      "metadata": {
        "id": "07GJRiFeI9Ub"
      },
      "source": [
        "**¿Cómo decido qué hago con los valores faltantes?**\n",
        "\n",
        "- Entender que no hay una manera _perfecta_ de manejar los valores faltantes.\n",
        "\n",
        "- Depende de mis datos\n",
        "\n",
        "- Observar no solo la cantidad de datos faltantes sino también su patrón.\n",
        "\n",
        "- Estrategias:  \n",
        "     - **Eliminar los valores (fila)**:\n",
        "        - Si la recogida de datos no se ha realizado de forma aleatoria introduce sesgo.  \n",
        "        - En el caso de que haya mucho patrones con datos faltantes, podría reducir considerablemente la cantidad de filas disponibles. \n",
        "     - **Eliminación de la variable (columna)**:\n",
        "         - Las variables “descartadas” podrían contener información de vital importancia.      \n",
        "     - **Imputar los valores**:\n",
        "        - Sustituir por media o mediana: solo en variables numéricas  \n",
        "        - Sustituir por valor más frecuente: útil para variables categóricas\n",
        "        - Algoritmo de ML: K-NN (k-nearest neighboors)"
      ]
    },
    {
      "cell_type": "markdown",
      "metadata": {
        "id": "ruvVjVNpI9Ue"
      },
      "source": [
        "A) Si optamos por eliminar los datos, puedemos hacerlo usando la siguiente función:\n",
        "    \n",
        "`.dropna(self, axis=0, how='any', thresh=None, subset=None, inplace=False)`\n",
        "\n",
        "- **axis**: {0, 1}, default 0. 0: Filas, 1: Columnas\n",
        "- **how**: {'any', 'all'}, default 'any'. Any: Si hay un valor faltante elimina la columna o fila. All: Si todos los valores de la fila o columna son faltantes, elimina la fila o columna.\n",
        "- **thresh**: (int) requiere de un mínimo de valores no-faltantes.\n",
        "- **subset**: Nombre de filas o columnas donde buscar valores faltantes\n",
        "- **inplace**: True modifica el DataFrame original\n",
        "\n",
        "[documentación](https://pandas.pydata.org/pandas-docs/stable/reference/api/pandas.DataFrame.dropna.html)"
      ]
    },
    {
      "cell_type": "code",
      "execution_count": 16,
      "metadata": {
        "id": "EF_Sm82EHzgx"
      },
      "outputs": [],
      "source": [
        "students_drop = students.dropna()"
      ]
    },
    {
      "cell_type": "code",
      "execution_count": 17,
      "metadata": {
        "colab": {
          "base_uri": "https://localhost:8080/"
        },
        "id": "zamXyQg5Hzgy",
        "outputId": "5647fb3a-360e-4de8-a2e3-b4055e569ab6"
      },
      "outputs": [
        {
          "data": {
            "text/plain": [
              "(959, 8)"
            ]
          },
          "execution_count": 17,
          "metadata": {},
          "output_type": "execute_result"
        }
      ],
      "source": [
        "students_drop.shape"
      ]
    },
    {
      "cell_type": "code",
      "execution_count": 18,
      "metadata": {
        "colab": {
          "base_uri": "https://localhost:8080/",
          "height": 423
        },
        "id": "ybxbRH0OHzgy",
        "outputId": "543af9f2-44a7-4199-c981-f40af252ea3a"
      },
      "outputs": [
        {
          "data": {
            "text/html": [
              "\n",
              "  <div id=\"df-27a8d595-56f5-42cb-b67c-9dfaa5516477\">\n",
              "    <div class=\"colab-df-container\">\n",
              "      <div>\n",
              "<style scoped>\n",
              "    .dataframe tbody tr th:only-of-type {\n",
              "        vertical-align: middle;\n",
              "    }\n",
              "\n",
              "    .dataframe tbody tr th {\n",
              "        vertical-align: top;\n",
              "    }\n",
              "\n",
              "    .dataframe thead th {\n",
              "        text-align: right;\n",
              "    }\n",
              "</style>\n",
              "<table border=\"1\" class=\"dataframe\">\n",
              "  <thead>\n",
              "    <tr style=\"text-align: right;\">\n",
              "      <th></th>\n",
              "      <th>gender</th>\n",
              "      <th>race/ethnicity</th>\n",
              "      <th>parental level of education</th>\n",
              "      <th>lunch</th>\n",
              "      <th>test preparation course</th>\n",
              "      <th>math score</th>\n",
              "      <th>reading score</th>\n",
              "      <th>writing score</th>\n",
              "    </tr>\n",
              "  </thead>\n",
              "  <tbody>\n",
              "    <tr>\n",
              "      <th>0</th>\n",
              "      <td>female</td>\n",
              "      <td>group B</td>\n",
              "      <td>NaN</td>\n",
              "      <td>standard</td>\n",
              "      <td>none</td>\n",
              "      <td>1.125000</td>\n",
              "      <td>72</td>\n",
              "      <td>74</td>\n",
              "    </tr>\n",
              "    <tr>\n",
              "      <th>1</th>\n",
              "      <td>female</td>\n",
              "      <td>group C</td>\n",
              "      <td>some college</td>\n",
              "      <td>standard</td>\n",
              "      <td>completed</td>\n",
              "      <td>1.078125</td>\n",
              "      <td>90</td>\n",
              "      <td>88</td>\n",
              "    </tr>\n",
              "    <tr>\n",
              "      <th>2</th>\n",
              "      <td>female</td>\n",
              "      <td>group B</td>\n",
              "      <td>master's degree</td>\n",
              "      <td>standard</td>\n",
              "      <td>none</td>\n",
              "      <td>1.406250</td>\n",
              "      <td>95</td>\n",
              "      <td>93</td>\n",
              "    </tr>\n",
              "    <tr>\n",
              "      <th>3</th>\n",
              "      <td>male</td>\n",
              "      <td>group A</td>\n",
              "      <td>associate's degree</td>\n",
              "      <td>free/reduced</td>\n",
              "      <td>none</td>\n",
              "      <td>0.734375</td>\n",
              "      <td>57</td>\n",
              "      <td>44</td>\n",
              "    </tr>\n",
              "    <tr>\n",
              "      <th>4</th>\n",
              "      <td>male</td>\n",
              "      <td>group C</td>\n",
              "      <td>some college</td>\n",
              "      <td>standard</td>\n",
              "      <td>none</td>\n",
              "      <td>1.187500</td>\n",
              "      <td>78</td>\n",
              "      <td>75</td>\n",
              "    </tr>\n",
              "    <tr>\n",
              "      <th>...</th>\n",
              "      <td>...</td>\n",
              "      <td>...</td>\n",
              "      <td>...</td>\n",
              "      <td>...</td>\n",
              "      <td>...</td>\n",
              "      <td>...</td>\n",
              "      <td>...</td>\n",
              "      <td>...</td>\n",
              "    </tr>\n",
              "    <tr>\n",
              "      <th>995</th>\n",
              "      <td>female</td>\n",
              "      <td>group E</td>\n",
              "      <td>master's degree</td>\n",
              "      <td>standard</td>\n",
              "      <td>completed</td>\n",
              "      <td>1.375000</td>\n",
              "      <td>99</td>\n",
              "      <td>95</td>\n",
              "    </tr>\n",
              "    <tr>\n",
              "      <th>996</th>\n",
              "      <td>male</td>\n",
              "      <td>group C</td>\n",
              "      <td>high school</td>\n",
              "      <td>free/reduced</td>\n",
              "      <td>none</td>\n",
              "      <td>0.968750</td>\n",
              "      <td>55</td>\n",
              "      <td>55</td>\n",
              "    </tr>\n",
              "    <tr>\n",
              "      <th>997</th>\n",
              "      <td>female</td>\n",
              "      <td>group C</td>\n",
              "      <td>high school</td>\n",
              "      <td>free/reduced</td>\n",
              "      <td>completed</td>\n",
              "      <td>0.921875</td>\n",
              "      <td>71</td>\n",
              "      <td>65</td>\n",
              "    </tr>\n",
              "    <tr>\n",
              "      <th>998</th>\n",
              "      <td>female</td>\n",
              "      <td>group D</td>\n",
              "      <td>some college</td>\n",
              "      <td>standard</td>\n",
              "      <td>completed</td>\n",
              "      <td>1.062500</td>\n",
              "      <td>78</td>\n",
              "      <td>77</td>\n",
              "    </tr>\n",
              "    <tr>\n",
              "      <th>999</th>\n",
              "      <td>female</td>\n",
              "      <td>group D</td>\n",
              "      <td>some college</td>\n",
              "      <td>free/reduced</td>\n",
              "      <td>none</td>\n",
              "      <td>1.203125</td>\n",
              "      <td>86</td>\n",
              "      <td>86</td>\n",
              "    </tr>\n",
              "  </tbody>\n",
              "</table>\n",
              "<p>1000 rows × 8 columns</p>\n",
              "</div>\n",
              "      <button class=\"colab-df-convert\" onclick=\"convertToInteractive('df-27a8d595-56f5-42cb-b67c-9dfaa5516477')\"\n",
              "              title=\"Convert this dataframe to an interactive table.\"\n",
              "              style=\"display:none;\">\n",
              "        \n",
              "  <svg xmlns=\"http://www.w3.org/2000/svg\" height=\"24px\"viewBox=\"0 0 24 24\"\n",
              "       width=\"24px\">\n",
              "    <path d=\"M0 0h24v24H0V0z\" fill=\"none\"/>\n",
              "    <path d=\"M18.56 5.44l.94 2.06.94-2.06 2.06-.94-2.06-.94-.94-2.06-.94 2.06-2.06.94zm-11 1L8.5 8.5l.94-2.06 2.06-.94-2.06-.94L8.5 2.5l-.94 2.06-2.06.94zm10 10l.94 2.06.94-2.06 2.06-.94-2.06-.94-.94-2.06-.94 2.06-2.06.94z\"/><path d=\"M17.41 7.96l-1.37-1.37c-.4-.4-.92-.59-1.43-.59-.52 0-1.04.2-1.43.59L10.3 9.45l-7.72 7.72c-.78.78-.78 2.05 0 2.83L4 21.41c.39.39.9.59 1.41.59.51 0 1.02-.2 1.41-.59l7.78-7.78 2.81-2.81c.8-.78.8-2.07 0-2.86zM5.41 20L4 18.59l7.72-7.72 1.47 1.35L5.41 20z\"/>\n",
              "  </svg>\n",
              "      </button>\n",
              "      \n",
              "  <style>\n",
              "    .colab-df-container {\n",
              "      display:flex;\n",
              "      flex-wrap:wrap;\n",
              "      gap: 12px;\n",
              "    }\n",
              "\n",
              "    .colab-df-convert {\n",
              "      background-color: #E8F0FE;\n",
              "      border: none;\n",
              "      border-radius: 50%;\n",
              "      cursor: pointer;\n",
              "      display: none;\n",
              "      fill: #1967D2;\n",
              "      height: 32px;\n",
              "      padding: 0 0 0 0;\n",
              "      width: 32px;\n",
              "    }\n",
              "\n",
              "    .colab-df-convert:hover {\n",
              "      background-color: #E2EBFA;\n",
              "      box-shadow: 0px 1px 2px rgba(60, 64, 67, 0.3), 0px 1px 3px 1px rgba(60, 64, 67, 0.15);\n",
              "      fill: #174EA6;\n",
              "    }\n",
              "\n",
              "    [theme=dark] .colab-df-convert {\n",
              "      background-color: #3B4455;\n",
              "      fill: #D2E3FC;\n",
              "    }\n",
              "\n",
              "    [theme=dark] .colab-df-convert:hover {\n",
              "      background-color: #434B5C;\n",
              "      box-shadow: 0px 1px 3px 1px rgba(0, 0, 0, 0.15);\n",
              "      filter: drop-shadow(0px 1px 2px rgba(0, 0, 0, 0.3));\n",
              "      fill: #FFFFFF;\n",
              "    }\n",
              "  </style>\n",
              "\n",
              "      <script>\n",
              "        const buttonEl =\n",
              "          document.querySelector('#df-27a8d595-56f5-42cb-b67c-9dfaa5516477 button.colab-df-convert');\n",
              "        buttonEl.style.display =\n",
              "          google.colab.kernel.accessAllowed ? 'block' : 'none';\n",
              "\n",
              "        async function convertToInteractive(key) {\n",
              "          const element = document.querySelector('#df-27a8d595-56f5-42cb-b67c-9dfaa5516477');\n",
              "          const dataTable =\n",
              "            await google.colab.kernel.invokeFunction('convertToInteractive',\n",
              "                                                     [key], {});\n",
              "          if (!dataTable) return;\n",
              "\n",
              "          const docLinkHtml = 'Like what you see? Visit the ' +\n",
              "            '<a target=\"_blank\" href=https://colab.research.google.com/notebooks/data_table.ipynb>data table notebook</a>'\n",
              "            + ' to learn more about interactive tables.';\n",
              "          element.innerHTML = '';\n",
              "          dataTable['output_type'] = 'display_data';\n",
              "          await google.colab.output.renderOutput(dataTable, element);\n",
              "          const docLink = document.createElement('div');\n",
              "          docLink.innerHTML = docLinkHtml;\n",
              "          element.appendChild(docLink);\n",
              "        }\n",
              "      </script>\n",
              "    </div>\n",
              "  </div>\n",
              "  "
            ],
            "text/plain": [
              "     gender race/ethnicity  ... reading score writing score\n",
              "0    female        group B  ...            72            74\n",
              "1    female        group C  ...            90            88\n",
              "2    female        group B  ...            95            93\n",
              "3      male        group A  ...            57            44\n",
              "4      male        group C  ...            78            75\n",
              "..      ...            ...  ...           ...           ...\n",
              "995  female        group E  ...            99            95\n",
              "996    male        group C  ...            55            55\n",
              "997  female        group C  ...            71            65\n",
              "998  female        group D  ...            78            77\n",
              "999  female        group D  ...            86            86\n",
              "\n",
              "[1000 rows x 8 columns]"
            ]
          },
          "execution_count": 18,
          "metadata": {},
          "output_type": "execute_result"
        }
      ],
      "source": [
        "students.dropna(how='all')"
      ]
    },
    {
      "cell_type": "code",
      "execution_count": 19,
      "metadata": {
        "colab": {
          "base_uri": "https://localhost:8080/",
          "height": 423
        },
        "id": "l8jpLshOHzgy",
        "outputId": "37bf5422-0207-4342-da6a-769157540c33"
      },
      "outputs": [
        {
          "data": {
            "text/html": [
              "\n",
              "  <div id=\"df-d595e882-0dd3-4ce0-a8c4-4ce1131202b4\">\n",
              "    <div class=\"colab-df-container\">\n",
              "      <div>\n",
              "<style scoped>\n",
              "    .dataframe tbody tr th:only-of-type {\n",
              "        vertical-align: middle;\n",
              "    }\n",
              "\n",
              "    .dataframe tbody tr th {\n",
              "        vertical-align: top;\n",
              "    }\n",
              "\n",
              "    .dataframe thead th {\n",
              "        text-align: right;\n",
              "    }\n",
              "</style>\n",
              "<table border=\"1\" class=\"dataframe\">\n",
              "  <thead>\n",
              "    <tr style=\"text-align: right;\">\n",
              "      <th></th>\n",
              "      <th>gender</th>\n",
              "      <th>race/ethnicity</th>\n",
              "      <th>parental level of education</th>\n",
              "      <th>lunch</th>\n",
              "      <th>test preparation course</th>\n",
              "      <th>math score</th>\n",
              "      <th>reading score</th>\n",
              "      <th>writing score</th>\n",
              "    </tr>\n",
              "  </thead>\n",
              "  <tbody>\n",
              "    <tr>\n",
              "      <th>0</th>\n",
              "      <td>female</td>\n",
              "      <td>group B</td>\n",
              "      <td>NaN</td>\n",
              "      <td>standard</td>\n",
              "      <td>none</td>\n",
              "      <td>1.125000</td>\n",
              "      <td>72</td>\n",
              "      <td>74</td>\n",
              "    </tr>\n",
              "    <tr>\n",
              "      <th>1</th>\n",
              "      <td>female</td>\n",
              "      <td>group C</td>\n",
              "      <td>some college</td>\n",
              "      <td>standard</td>\n",
              "      <td>completed</td>\n",
              "      <td>1.078125</td>\n",
              "      <td>90</td>\n",
              "      <td>88</td>\n",
              "    </tr>\n",
              "    <tr>\n",
              "      <th>2</th>\n",
              "      <td>female</td>\n",
              "      <td>group B</td>\n",
              "      <td>master's degree</td>\n",
              "      <td>standard</td>\n",
              "      <td>none</td>\n",
              "      <td>1.406250</td>\n",
              "      <td>95</td>\n",
              "      <td>93</td>\n",
              "    </tr>\n",
              "    <tr>\n",
              "      <th>3</th>\n",
              "      <td>male</td>\n",
              "      <td>group A</td>\n",
              "      <td>associate's degree</td>\n",
              "      <td>free/reduced</td>\n",
              "      <td>none</td>\n",
              "      <td>0.734375</td>\n",
              "      <td>57</td>\n",
              "      <td>44</td>\n",
              "    </tr>\n",
              "    <tr>\n",
              "      <th>4</th>\n",
              "      <td>male</td>\n",
              "      <td>group C</td>\n",
              "      <td>some college</td>\n",
              "      <td>standard</td>\n",
              "      <td>none</td>\n",
              "      <td>1.187500</td>\n",
              "      <td>78</td>\n",
              "      <td>75</td>\n",
              "    </tr>\n",
              "    <tr>\n",
              "      <th>...</th>\n",
              "      <td>...</td>\n",
              "      <td>...</td>\n",
              "      <td>...</td>\n",
              "      <td>...</td>\n",
              "      <td>...</td>\n",
              "      <td>...</td>\n",
              "      <td>...</td>\n",
              "      <td>...</td>\n",
              "    </tr>\n",
              "    <tr>\n",
              "      <th>995</th>\n",
              "      <td>female</td>\n",
              "      <td>group E</td>\n",
              "      <td>master's degree</td>\n",
              "      <td>standard</td>\n",
              "      <td>completed</td>\n",
              "      <td>1.375000</td>\n",
              "      <td>99</td>\n",
              "      <td>95</td>\n",
              "    </tr>\n",
              "    <tr>\n",
              "      <th>996</th>\n",
              "      <td>male</td>\n",
              "      <td>group C</td>\n",
              "      <td>high school</td>\n",
              "      <td>free/reduced</td>\n",
              "      <td>none</td>\n",
              "      <td>0.968750</td>\n",
              "      <td>55</td>\n",
              "      <td>55</td>\n",
              "    </tr>\n",
              "    <tr>\n",
              "      <th>997</th>\n",
              "      <td>female</td>\n",
              "      <td>group C</td>\n",
              "      <td>high school</td>\n",
              "      <td>free/reduced</td>\n",
              "      <td>completed</td>\n",
              "      <td>0.921875</td>\n",
              "      <td>71</td>\n",
              "      <td>65</td>\n",
              "    </tr>\n",
              "    <tr>\n",
              "      <th>998</th>\n",
              "      <td>female</td>\n",
              "      <td>group D</td>\n",
              "      <td>some college</td>\n",
              "      <td>standard</td>\n",
              "      <td>completed</td>\n",
              "      <td>1.062500</td>\n",
              "      <td>78</td>\n",
              "      <td>77</td>\n",
              "    </tr>\n",
              "    <tr>\n",
              "      <th>999</th>\n",
              "      <td>female</td>\n",
              "      <td>group D</td>\n",
              "      <td>some college</td>\n",
              "      <td>free/reduced</td>\n",
              "      <td>none</td>\n",
              "      <td>1.203125</td>\n",
              "      <td>86</td>\n",
              "      <td>86</td>\n",
              "    </tr>\n",
              "  </tbody>\n",
              "</table>\n",
              "<p>989 rows × 8 columns</p>\n",
              "</div>\n",
              "      <button class=\"colab-df-convert\" onclick=\"convertToInteractive('df-d595e882-0dd3-4ce0-a8c4-4ce1131202b4')\"\n",
              "              title=\"Convert this dataframe to an interactive table.\"\n",
              "              style=\"display:none;\">\n",
              "        \n",
              "  <svg xmlns=\"http://www.w3.org/2000/svg\" height=\"24px\"viewBox=\"0 0 24 24\"\n",
              "       width=\"24px\">\n",
              "    <path d=\"M0 0h24v24H0V0z\" fill=\"none\"/>\n",
              "    <path d=\"M18.56 5.44l.94 2.06.94-2.06 2.06-.94-2.06-.94-.94-2.06-.94 2.06-2.06.94zm-11 1L8.5 8.5l.94-2.06 2.06-.94-2.06-.94L8.5 2.5l-.94 2.06-2.06.94zm10 10l.94 2.06.94-2.06 2.06-.94-2.06-.94-.94-2.06-.94 2.06-2.06.94z\"/><path d=\"M17.41 7.96l-1.37-1.37c-.4-.4-.92-.59-1.43-.59-.52 0-1.04.2-1.43.59L10.3 9.45l-7.72 7.72c-.78.78-.78 2.05 0 2.83L4 21.41c.39.39.9.59 1.41.59.51 0 1.02-.2 1.41-.59l7.78-7.78 2.81-2.81c.8-.78.8-2.07 0-2.86zM5.41 20L4 18.59l7.72-7.72 1.47 1.35L5.41 20z\"/>\n",
              "  </svg>\n",
              "      </button>\n",
              "      \n",
              "  <style>\n",
              "    .colab-df-container {\n",
              "      display:flex;\n",
              "      flex-wrap:wrap;\n",
              "      gap: 12px;\n",
              "    }\n",
              "\n",
              "    .colab-df-convert {\n",
              "      background-color: #E8F0FE;\n",
              "      border: none;\n",
              "      border-radius: 50%;\n",
              "      cursor: pointer;\n",
              "      display: none;\n",
              "      fill: #1967D2;\n",
              "      height: 32px;\n",
              "      padding: 0 0 0 0;\n",
              "      width: 32px;\n",
              "    }\n",
              "\n",
              "    .colab-df-convert:hover {\n",
              "      background-color: #E2EBFA;\n",
              "      box-shadow: 0px 1px 2px rgba(60, 64, 67, 0.3), 0px 1px 3px 1px rgba(60, 64, 67, 0.15);\n",
              "      fill: #174EA6;\n",
              "    }\n",
              "\n",
              "    [theme=dark] .colab-df-convert {\n",
              "      background-color: #3B4455;\n",
              "      fill: #D2E3FC;\n",
              "    }\n",
              "\n",
              "    [theme=dark] .colab-df-convert:hover {\n",
              "      background-color: #434B5C;\n",
              "      box-shadow: 0px 1px 3px 1px rgba(0, 0, 0, 0.15);\n",
              "      filter: drop-shadow(0px 1px 2px rgba(0, 0, 0, 0.3));\n",
              "      fill: #FFFFFF;\n",
              "    }\n",
              "  </style>\n",
              "\n",
              "      <script>\n",
              "        const buttonEl =\n",
              "          document.querySelector('#df-d595e882-0dd3-4ce0-a8c4-4ce1131202b4 button.colab-df-convert');\n",
              "        buttonEl.style.display =\n",
              "          google.colab.kernel.accessAllowed ? 'block' : 'none';\n",
              "\n",
              "        async function convertToInteractive(key) {\n",
              "          const element = document.querySelector('#df-d595e882-0dd3-4ce0-a8c4-4ce1131202b4');\n",
              "          const dataTable =\n",
              "            await google.colab.kernel.invokeFunction('convertToInteractive',\n",
              "                                                     [key], {});\n",
              "          if (!dataTable) return;\n",
              "\n",
              "          const docLinkHtml = 'Like what you see? Visit the ' +\n",
              "            '<a target=\"_blank\" href=https://colab.research.google.com/notebooks/data_table.ipynb>data table notebook</a>'\n",
              "            + ' to learn more about interactive tables.';\n",
              "          element.innerHTML = '';\n",
              "          dataTable['output_type'] = 'display_data';\n",
              "          await google.colab.output.renderOutput(dataTable, element);\n",
              "          const docLink = document.createElement('div');\n",
              "          docLink.innerHTML = docLinkHtml;\n",
              "          element.appendChild(docLink);\n",
              "        }\n",
              "      </script>\n",
              "    </div>\n",
              "  </div>\n",
              "  "
            ],
            "text/plain": [
              "     gender race/ethnicity  ... reading score writing score\n",
              "0    female        group B  ...            72            74\n",
              "1    female        group C  ...            90            88\n",
              "2    female        group B  ...            95            93\n",
              "3      male        group A  ...            57            44\n",
              "4      male        group C  ...            78            75\n",
              "..      ...            ...  ...           ...           ...\n",
              "995  female        group E  ...            99            95\n",
              "996    male        group C  ...            55            55\n",
              "997  female        group C  ...            71            65\n",
              "998  female        group D  ...            78            77\n",
              "999  female        group D  ...            86            86\n",
              "\n",
              "[989 rows x 8 columns]"
            ]
          },
          "execution_count": 19,
          "metadata": {},
          "output_type": "execute_result"
        }
      ],
      "source": [
        "students.dropna(subset=['race/ethnicity'])"
      ]
    },
    {
      "cell_type": "code",
      "execution_count": 20,
      "metadata": {
        "id": "vFMgkLvsHzgy"
      },
      "outputs": [],
      "source": [
        "students.dropna(subset=['race/ethnicity', 'parental level of education'], inplace=True)"
      ]
    },
    {
      "cell_type": "code",
      "execution_count": 21,
      "metadata": {
        "colab": {
          "base_uri": "https://localhost:8080/",
          "height": 423
        },
        "id": "b_K5gijNHzgy",
        "outputId": "5b44e1e7-2c32-4ff0-b3c6-16ba56ae0b63"
      },
      "outputs": [
        {
          "data": {
            "text/html": [
              "\n",
              "  <div id=\"df-71feef8a-e1af-4a42-9be1-a31b642f8de1\">\n",
              "    <div class=\"colab-df-container\">\n",
              "      <div>\n",
              "<style scoped>\n",
              "    .dataframe tbody tr th:only-of-type {\n",
              "        vertical-align: middle;\n",
              "    }\n",
              "\n",
              "    .dataframe tbody tr th {\n",
              "        vertical-align: top;\n",
              "    }\n",
              "\n",
              "    .dataframe thead th {\n",
              "        text-align: right;\n",
              "    }\n",
              "</style>\n",
              "<table border=\"1\" class=\"dataframe\">\n",
              "  <thead>\n",
              "    <tr style=\"text-align: right;\">\n",
              "      <th></th>\n",
              "      <th>gender</th>\n",
              "      <th>race/ethnicity</th>\n",
              "      <th>parental level of education</th>\n",
              "      <th>lunch</th>\n",
              "      <th>test preparation course</th>\n",
              "      <th>math score</th>\n",
              "      <th>reading score</th>\n",
              "      <th>writing score</th>\n",
              "    </tr>\n",
              "  </thead>\n",
              "  <tbody>\n",
              "    <tr>\n",
              "      <th>1</th>\n",
              "      <td>female</td>\n",
              "      <td>group C</td>\n",
              "      <td>some college</td>\n",
              "      <td>standard</td>\n",
              "      <td>completed</td>\n",
              "      <td>1.078125</td>\n",
              "      <td>90</td>\n",
              "      <td>88</td>\n",
              "    </tr>\n",
              "    <tr>\n",
              "      <th>2</th>\n",
              "      <td>female</td>\n",
              "      <td>group B</td>\n",
              "      <td>master's degree</td>\n",
              "      <td>standard</td>\n",
              "      <td>none</td>\n",
              "      <td>1.406250</td>\n",
              "      <td>95</td>\n",
              "      <td>93</td>\n",
              "    </tr>\n",
              "    <tr>\n",
              "      <th>3</th>\n",
              "      <td>male</td>\n",
              "      <td>group A</td>\n",
              "      <td>associate's degree</td>\n",
              "      <td>free/reduced</td>\n",
              "      <td>none</td>\n",
              "      <td>0.734375</td>\n",
              "      <td>57</td>\n",
              "      <td>44</td>\n",
              "    </tr>\n",
              "    <tr>\n",
              "      <th>4</th>\n",
              "      <td>male</td>\n",
              "      <td>group C</td>\n",
              "      <td>some college</td>\n",
              "      <td>standard</td>\n",
              "      <td>none</td>\n",
              "      <td>1.187500</td>\n",
              "      <td>78</td>\n",
              "      <td>75</td>\n",
              "    </tr>\n",
              "    <tr>\n",
              "      <th>5</th>\n",
              "      <td>female</td>\n",
              "      <td>group B</td>\n",
              "      <td>associate's degree</td>\n",
              "      <td>standard</td>\n",
              "      <td>none</td>\n",
              "      <td>1.109375</td>\n",
              "      <td>83</td>\n",
              "      <td>78</td>\n",
              "    </tr>\n",
              "    <tr>\n",
              "      <th>...</th>\n",
              "      <td>...</td>\n",
              "      <td>...</td>\n",
              "      <td>...</td>\n",
              "      <td>...</td>\n",
              "      <td>...</td>\n",
              "      <td>...</td>\n",
              "      <td>...</td>\n",
              "      <td>...</td>\n",
              "    </tr>\n",
              "    <tr>\n",
              "      <th>995</th>\n",
              "      <td>female</td>\n",
              "      <td>group E</td>\n",
              "      <td>master's degree</td>\n",
              "      <td>standard</td>\n",
              "      <td>completed</td>\n",
              "      <td>1.375000</td>\n",
              "      <td>99</td>\n",
              "      <td>95</td>\n",
              "    </tr>\n",
              "    <tr>\n",
              "      <th>996</th>\n",
              "      <td>male</td>\n",
              "      <td>group C</td>\n",
              "      <td>high school</td>\n",
              "      <td>free/reduced</td>\n",
              "      <td>none</td>\n",
              "      <td>0.968750</td>\n",
              "      <td>55</td>\n",
              "      <td>55</td>\n",
              "    </tr>\n",
              "    <tr>\n",
              "      <th>997</th>\n",
              "      <td>female</td>\n",
              "      <td>group C</td>\n",
              "      <td>high school</td>\n",
              "      <td>free/reduced</td>\n",
              "      <td>completed</td>\n",
              "      <td>0.921875</td>\n",
              "      <td>71</td>\n",
              "      <td>65</td>\n",
              "    </tr>\n",
              "    <tr>\n",
              "      <th>998</th>\n",
              "      <td>female</td>\n",
              "      <td>group D</td>\n",
              "      <td>some college</td>\n",
              "      <td>standard</td>\n",
              "      <td>completed</td>\n",
              "      <td>1.062500</td>\n",
              "      <td>78</td>\n",
              "      <td>77</td>\n",
              "    </tr>\n",
              "    <tr>\n",
              "      <th>999</th>\n",
              "      <td>female</td>\n",
              "      <td>group D</td>\n",
              "      <td>some college</td>\n",
              "      <td>free/reduced</td>\n",
              "      <td>none</td>\n",
              "      <td>1.203125</td>\n",
              "      <td>86</td>\n",
              "      <td>86</td>\n",
              "    </tr>\n",
              "  </tbody>\n",
              "</table>\n",
              "<p>979 rows × 8 columns</p>\n",
              "</div>\n",
              "      <button class=\"colab-df-convert\" onclick=\"convertToInteractive('df-71feef8a-e1af-4a42-9be1-a31b642f8de1')\"\n",
              "              title=\"Convert this dataframe to an interactive table.\"\n",
              "              style=\"display:none;\">\n",
              "        \n",
              "  <svg xmlns=\"http://www.w3.org/2000/svg\" height=\"24px\"viewBox=\"0 0 24 24\"\n",
              "       width=\"24px\">\n",
              "    <path d=\"M0 0h24v24H0V0z\" fill=\"none\"/>\n",
              "    <path d=\"M18.56 5.44l.94 2.06.94-2.06 2.06-.94-2.06-.94-.94-2.06-.94 2.06-2.06.94zm-11 1L8.5 8.5l.94-2.06 2.06-.94-2.06-.94L8.5 2.5l-.94 2.06-2.06.94zm10 10l.94 2.06.94-2.06 2.06-.94-2.06-.94-.94-2.06-.94 2.06-2.06.94z\"/><path d=\"M17.41 7.96l-1.37-1.37c-.4-.4-.92-.59-1.43-.59-.52 0-1.04.2-1.43.59L10.3 9.45l-7.72 7.72c-.78.78-.78 2.05 0 2.83L4 21.41c.39.39.9.59 1.41.59.51 0 1.02-.2 1.41-.59l7.78-7.78 2.81-2.81c.8-.78.8-2.07 0-2.86zM5.41 20L4 18.59l7.72-7.72 1.47 1.35L5.41 20z\"/>\n",
              "  </svg>\n",
              "      </button>\n",
              "      \n",
              "  <style>\n",
              "    .colab-df-container {\n",
              "      display:flex;\n",
              "      flex-wrap:wrap;\n",
              "      gap: 12px;\n",
              "    }\n",
              "\n",
              "    .colab-df-convert {\n",
              "      background-color: #E8F0FE;\n",
              "      border: none;\n",
              "      border-radius: 50%;\n",
              "      cursor: pointer;\n",
              "      display: none;\n",
              "      fill: #1967D2;\n",
              "      height: 32px;\n",
              "      padding: 0 0 0 0;\n",
              "      width: 32px;\n",
              "    }\n",
              "\n",
              "    .colab-df-convert:hover {\n",
              "      background-color: #E2EBFA;\n",
              "      box-shadow: 0px 1px 2px rgba(60, 64, 67, 0.3), 0px 1px 3px 1px rgba(60, 64, 67, 0.15);\n",
              "      fill: #174EA6;\n",
              "    }\n",
              "\n",
              "    [theme=dark] .colab-df-convert {\n",
              "      background-color: #3B4455;\n",
              "      fill: #D2E3FC;\n",
              "    }\n",
              "\n",
              "    [theme=dark] .colab-df-convert:hover {\n",
              "      background-color: #434B5C;\n",
              "      box-shadow: 0px 1px 3px 1px rgba(0, 0, 0, 0.15);\n",
              "      filter: drop-shadow(0px 1px 2px rgba(0, 0, 0, 0.3));\n",
              "      fill: #FFFFFF;\n",
              "    }\n",
              "  </style>\n",
              "\n",
              "      <script>\n",
              "        const buttonEl =\n",
              "          document.querySelector('#df-71feef8a-e1af-4a42-9be1-a31b642f8de1 button.colab-df-convert');\n",
              "        buttonEl.style.display =\n",
              "          google.colab.kernel.accessAllowed ? 'block' : 'none';\n",
              "\n",
              "        async function convertToInteractive(key) {\n",
              "          const element = document.querySelector('#df-71feef8a-e1af-4a42-9be1-a31b642f8de1');\n",
              "          const dataTable =\n",
              "            await google.colab.kernel.invokeFunction('convertToInteractive',\n",
              "                                                     [key], {});\n",
              "          if (!dataTable) return;\n",
              "\n",
              "          const docLinkHtml = 'Like what you see? Visit the ' +\n",
              "            '<a target=\"_blank\" href=https://colab.research.google.com/notebooks/data_table.ipynb>data table notebook</a>'\n",
              "            + ' to learn more about interactive tables.';\n",
              "          element.innerHTML = '';\n",
              "          dataTable['output_type'] = 'display_data';\n",
              "          await google.colab.output.renderOutput(dataTable, element);\n",
              "          const docLink = document.createElement('div');\n",
              "          docLink.innerHTML = docLinkHtml;\n",
              "          element.appendChild(docLink);\n",
              "        }\n",
              "      </script>\n",
              "    </div>\n",
              "  </div>\n",
              "  "
            ],
            "text/plain": [
              "     gender race/ethnicity  ... reading score writing score\n",
              "1    female        group C  ...            90            88\n",
              "2    female        group B  ...            95            93\n",
              "3      male        group A  ...            57            44\n",
              "4      male        group C  ...            78            75\n",
              "5    female        group B  ...            83            78\n",
              "..      ...            ...  ...           ...           ...\n",
              "995  female        group E  ...            99            95\n",
              "996    male        group C  ...            55            55\n",
              "997  female        group C  ...            71            65\n",
              "998  female        group D  ...            78            77\n",
              "999  female        group D  ...            86            86\n",
              "\n",
              "[979 rows x 8 columns]"
            ]
          },
          "execution_count": 21,
          "metadata": {},
          "output_type": "execute_result"
        }
      ],
      "source": [
        "students"
      ]
    },
    {
      "cell_type": "markdown",
      "metadata": {
        "id": "WQ3SUks0I9Uc"
      },
      "source": [
        "B) Si optamos por imputar los datos, podemos hacerlo usando la siguiente función:\n",
        "    \n",
        "`sklearn.impute.SimpleImputer(missing_values=nan, strategy=’mean’, fill_value=None, copy=True, add_indicator=False)`\n",
        "    \n",
        "- **missing_values**: Indica cómo son representados los valores faltantes (np.nan es el estándard)\n",
        "- **strategy**: `mean`, `median`, `most_frequent`, `constant`.\n",
        "- **fill_value**: Si uso `constant`, puedo usar `fill_value` para indicar por cuál valor debe ser reemplazado\n",
        "- **copy**: Si pongo True, crea una copia de X\n",
        "- **add_indicator**: Agrega un indicador para los valores faltantes.\n",
        "\n",
        "\n",
        "[documentación](https://scikit-learn.org/stable/modules/generated/sklearn.impute.SimpleImputer.html#sklearn.impute.SimpleImputer)"
      ]
    },
    {
      "cell_type": "code",
      "execution_count": 22,
      "metadata": {
        "id": "UQlsiesiHzgz"
      },
      "outputs": [],
      "source": [
        "from sklearn.impute import SimpleImputer"
      ]
    },
    {
      "cell_type": "markdown",
      "metadata": {
        "id": "45sEZ8kpHzgz"
      },
      "source": [
        "**Variable: `lunch`**"
      ]
    },
    {
      "cell_type": "code",
      "execution_count": 23,
      "metadata": {
        "colab": {
          "base_uri": "https://localhost:8080/",
          "height": 279
        },
        "id": "JgGNZtZrHzgz",
        "outputId": "8a5ec9f4-1e62-4e0d-d18c-8b5e439d1e59"
      },
      "outputs": [
        {
          "data": {
            "image/png": "[encoded data removed]",
            "text/plain": [
              "<Figure size 432x288 with 1 Axes>"
            ]
          },
          "metadata": {
            "needs_background": "light"
          },
          "output_type": "display_data"
        }
      ],
      "source": [
        "sns.countplot(x='lunch', data=students, palette='Set3')\n",
        "sns.despine()"
      ]
    },
    {
      "cell_type": "code",
      "execution_count": 24,
      "metadata": {
        "colab": {
          "base_uri": "https://localhost:8080/"
        },
        "id": "cnGL50W-Hzgz",
        "outputId": "18288ead-ee53-4024-f3ff-9dede7e1ccd9"
      },
      "outputs": [
        {
          "data": {
            "text/plain": [
              "standard        622\n",
              "free/reduced    352\n",
              "Name: lunch, dtype: int64"
            ]
          },
          "execution_count": 24,
          "metadata": {},
          "output_type": "execute_result"
        }
      ],
      "source": [
        "students['lunch'].value_counts()"
      ]
    },
    {
      "cell_type": "code",
      "execution_count": 25,
      "metadata": {
        "id": "tTP_g9EpHzgz"
      },
      "outputs": [],
      "source": [
        "imputer = SimpleImputer(missing_values=np.nan, strategy='most_frequent')"
      ]
    },
    {
      "cell_type": "code",
      "execution_count": 26,
      "metadata": {
        "id": "AQisYNsBHzg0"
      },
      "outputs": [],
      "source": [
        "lunch_imputados = imputer.fit_transform(students[['lunch']])"
      ]
    },
    {
      "cell_type": "code",
      "execution_count": 27,
      "metadata": {
        "colab": {
          "base_uri": "https://localhost:8080/"
        },
        "id": "N8Q7tn3KHzg0",
        "outputId": "86473e15-5b34-4e1a-c177-a845e58705cf"
      },
      "outputs": [
        {
          "data": {
            "text/plain": [
              "(979, 1)"
            ]
          },
          "execution_count": 27,
          "metadata": {},
          "output_type": "execute_result"
        }
      ],
      "source": [
        "np.shape(lunch_imputados)"
      ]
    },
    {
      "cell_type": "code",
      "execution_count": 28,
      "metadata": {
        "colab": {
          "base_uri": "https://localhost:8080/"
        },
        "id": "ReOu46eVHzg0",
        "outputId": "108f1871-eba5-4831-f1fb-f9214a96b9dd"
      },
      "outputs": [
        {
          "data": {
            "text/plain": [
              "array([['standard'],\n",
              "       ['standard'],\n",
              "       ['free/reduced'],\n",
              "       ['standard'],\n",
              "       ['standard'],\n",
              "       ['standard'],\n",
              "       ['free/reduced'],\n",
              "       ['free/reduced'],\n",
              "       ['free/reduced'],\n",
              "       ['standard']], dtype=object)"
            ]
          },
          "execution_count": 28,
          "metadata": {},
          "output_type": "execute_result"
        }
      ],
      "source": [
        "lunch_imputados[:10]"
      ]
    },
    {
      "cell_type": "code",
      "execution_count": 29,
      "metadata": {
        "id": "XsrmK7X3Hzg0"
      },
      "outputs": [],
      "source": [
        "students['lunch'] = lunch_imputados"
      ]
    },
    {
      "cell_type": "code",
      "execution_count": 30,
      "metadata": {
        "colab": {
          "base_uri": "https://localhost:8080/",
          "height": 206
        },
        "id": "4iavx55pHzg0",
        "outputId": "19c455ea-6ea6-466b-fe5f-9c693e5a89c2"
      },
      "outputs": [
        {
          "data": {
            "text/html": [
              "\n",
              "  <div id=\"df-973e8ac6-fb56-4318-8c75-56d776456647\">\n",
              "    <div class=\"colab-df-container\">\n",
              "      <div>\n",
              "<style scoped>\n",
              "    .dataframe tbody tr th:only-of-type {\n",
              "        vertical-align: middle;\n",
              "    }\n",
              "\n",
              "    .dataframe tbody tr th {\n",
              "        vertical-align: top;\n",
              "    }\n",
              "\n",
              "    .dataframe thead th {\n",
              "        text-align: right;\n",
              "    }\n",
              "</style>\n",
              "<table border=\"1\" class=\"dataframe\">\n",
              "  <thead>\n",
              "    <tr style=\"text-align: right;\">\n",
              "      <th></th>\n",
              "      <th>gender</th>\n",
              "      <th>race/ethnicity</th>\n",
              "      <th>parental level of education</th>\n",
              "      <th>lunch</th>\n",
              "      <th>test preparation course</th>\n",
              "      <th>math score</th>\n",
              "      <th>reading score</th>\n",
              "      <th>writing score</th>\n",
              "    </tr>\n",
              "  </thead>\n",
              "  <tbody>\n",
              "    <tr>\n",
              "      <th>1</th>\n",
              "      <td>female</td>\n",
              "      <td>group C</td>\n",
              "      <td>some college</td>\n",
              "      <td>standard</td>\n",
              "      <td>completed</td>\n",
              "      <td>1.078125</td>\n",
              "      <td>90</td>\n",
              "      <td>88</td>\n",
              "    </tr>\n",
              "    <tr>\n",
              "      <th>2</th>\n",
              "      <td>female</td>\n",
              "      <td>group B</td>\n",
              "      <td>master's degree</td>\n",
              "      <td>standard</td>\n",
              "      <td>none</td>\n",
              "      <td>1.406250</td>\n",
              "      <td>95</td>\n",
              "      <td>93</td>\n",
              "    </tr>\n",
              "    <tr>\n",
              "      <th>3</th>\n",
              "      <td>male</td>\n",
              "      <td>group A</td>\n",
              "      <td>associate's degree</td>\n",
              "      <td>free/reduced</td>\n",
              "      <td>none</td>\n",
              "      <td>0.734375</td>\n",
              "      <td>57</td>\n",
              "      <td>44</td>\n",
              "    </tr>\n",
              "    <tr>\n",
              "      <th>4</th>\n",
              "      <td>male</td>\n",
              "      <td>group C</td>\n",
              "      <td>some college</td>\n",
              "      <td>standard</td>\n",
              "      <td>none</td>\n",
              "      <td>1.187500</td>\n",
              "      <td>78</td>\n",
              "      <td>75</td>\n",
              "    </tr>\n",
              "    <tr>\n",
              "      <th>5</th>\n",
              "      <td>female</td>\n",
              "      <td>group B</td>\n",
              "      <td>associate's degree</td>\n",
              "      <td>standard</td>\n",
              "      <td>none</td>\n",
              "      <td>1.109375</td>\n",
              "      <td>83</td>\n",
              "      <td>78</td>\n",
              "    </tr>\n",
              "  </tbody>\n",
              "</table>\n",
              "</div>\n",
              "      <button class=\"colab-df-convert\" onclick=\"convertToInteractive('df-973e8ac6-fb56-4318-8c75-56d776456647')\"\n",
              "              title=\"Convert this dataframe to an interactive table.\"\n",
              "              style=\"display:none;\">\n",
              "        \n",
              "  <svg xmlns=\"http://www.w3.org/2000/svg\" height=\"24px\"viewBox=\"0 0 24 24\"\n",
              "       width=\"24px\">\n",
              "    <path d=\"M0 0h24v24H0V0z\" fill=\"none\"/>\n",
              "    <path d=\"M18.56 5.44l.94 2.06.94-2.06 2.06-.94-2.06-.94-.94-2.06-.94 2.06-2.06.94zm-11 1L8.5 8.5l.94-2.06 2.06-.94-2.06-.94L8.5 2.5l-.94 2.06-2.06.94zm10 10l.94 2.06.94-2.06 2.06-.94-2.06-.94-.94-2.06-.94 2.06-2.06.94z\"/><path d=\"M17.41 7.96l-1.37-1.37c-.4-.4-.92-.59-1.43-.59-.52 0-1.04.2-1.43.59L10.3 9.45l-7.72 7.72c-.78.78-.78 2.05 0 2.83L4 21.41c.39.39.9.59 1.41.59.51 0 1.02-.2 1.41-.59l7.78-7.78 2.81-2.81c.8-.78.8-2.07 0-2.86zM5.41 20L4 18.59l7.72-7.72 1.47 1.35L5.41 20z\"/>\n",
              "  </svg>\n",
              "      </button>\n",
              "      \n",
              "  <style>\n",
              "    .colab-df-container {\n",
              "      display:flex;\n",
              "      flex-wrap:wrap;\n",
              "      gap: 12px;\n",
              "    }\n",
              "\n",
              "    .colab-df-convert {\n",
              "      background-color: #E8F0FE;\n",
              "      border: none;\n",
              "      border-radius: 50%;\n",
              "      cursor: pointer;\n",
              "      display: none;\n",
              "      fill: #1967D2;\n",
              "      height: 32px;\n",
              "      padding: 0 0 0 0;\n",
              "      width: 32px;\n",
              "    }\n",
              "\n",
              "    .colab-df-convert:hover {\n",
              "      background-color: #E2EBFA;\n",
              "      box-shadow: 0px 1px 2px rgba(60, 64, 67, 0.3), 0px 1px 3px 1px rgba(60, 64, 67, 0.15);\n",
              "      fill: #174EA6;\n",
              "    }\n",
              "\n",
              "    [theme=dark] .colab-df-convert {\n",
              "      background-color: #3B4455;\n",
              "      fill: #D2E3FC;\n",
              "    }\n",
              "\n",
              "    [theme=dark] .colab-df-convert:hover {\n",
              "      background-color: #434B5C;\n",
              "      box-shadow: 0px 1px 3px 1px rgba(0, 0, 0, 0.15);\n",
              "      filter: drop-shadow(0px 1px 2px rgba(0, 0, 0, 0.3));\n",
              "      fill: #FFFFFF;\n",
              "    }\n",
              "  </style>\n",
              "\n",
              "      <script>\n",
              "        const buttonEl =\n",
              "          document.querySelector('#df-973e8ac6-fb56-4318-8c75-56d776456647 button.colab-df-convert');\n",
              "        buttonEl.style.display =\n",
              "          google.colab.kernel.accessAllowed ? 'block' : 'none';\n",
              "\n",
              "        async function convertToInteractive(key) {\n",
              "          const element = document.querySelector('#df-973e8ac6-fb56-4318-8c75-56d776456647');\n",
              "          const dataTable =\n",
              "            await google.colab.kernel.invokeFunction('convertToInteractive',\n",
              "                                                     [key], {});\n",
              "          if (!dataTable) return;\n",
              "\n",
              "          const docLinkHtml = 'Like what you see? Visit the ' +\n",
              "            '<a target=\"_blank\" href=https://colab.research.google.com/notebooks/data_table.ipynb>data table notebook</a>'\n",
              "            + ' to learn more about interactive tables.';\n",
              "          element.innerHTML = '';\n",
              "          dataTable['output_type'] = 'display_data';\n",
              "          await google.colab.output.renderOutput(dataTable, element);\n",
              "          const docLink = document.createElement('div');\n",
              "          docLink.innerHTML = docLinkHtml;\n",
              "          element.appendChild(docLink);\n",
              "        }\n",
              "      </script>\n",
              "    </div>\n",
              "  </div>\n",
              "  "
            ],
            "text/plain": [
              "   gender race/ethnicity  ... reading score writing score\n",
              "1  female        group C  ...            90            88\n",
              "2  female        group B  ...            95            93\n",
              "3    male        group A  ...            57            44\n",
              "4    male        group C  ...            78            75\n",
              "5  female        group B  ...            83            78\n",
              "\n",
              "[5 rows x 8 columns]"
            ]
          },
          "execution_count": 30,
          "metadata": {},
          "output_type": "execute_result"
        }
      ],
      "source": [
        "students.head()"
      ]
    },
    {
      "cell_type": "code",
      "execution_count": 31,
      "metadata": {
        "colab": {
          "base_uri": "https://localhost:8080/"
        },
        "id": "85cR4JIVHzg0",
        "outputId": "f782b8c7-c8fe-4ac9-8a06-2bcdd8ecca07"
      },
      "outputs": [
        {
          "data": {
            "text/plain": [
              "standard        627\n",
              "free/reduced    352\n",
              "Name: lunch, dtype: int64"
            ]
          },
          "execution_count": 31,
          "metadata": {},
          "output_type": "execute_result"
        }
      ],
      "source": [
        "students['lunch'].value_counts()"
      ]
    },
    {
      "cell_type": "markdown",
      "metadata": {
        "id": "EswAjQWzHzg0"
      },
      "source": [
        "**Variable: `test preparation course`**"
      ]
    },
    {
      "cell_type": "code",
      "execution_count": 32,
      "metadata": {
        "colab": {
          "base_uri": "https://localhost:8080/"
        },
        "id": "3W4JRt3xHzg0",
        "outputId": "568221fd-5775-4859-da5a-55a54d5485a9"
      },
      "outputs": [
        {
          "data": {
            "text/plain": [
              "none         621\n",
              "completed    343\n",
              "Name: test preparation course, dtype: int64"
            ]
          },
          "execution_count": 32,
          "metadata": {},
          "output_type": "execute_result"
        }
      ],
      "source": [
        "students['test preparation course'].value_counts()"
      ]
    },
    {
      "cell_type": "code",
      "execution_count": 33,
      "metadata": {
        "id": "PBTjZo46Hzg1"
      },
      "outputs": [],
      "source": [
        "imputer_cursos = SimpleImputer(missing_values=np.nan, strategy='constant', fill_value='none')"
      ]
    },
    {
      "cell_type": "code",
      "execution_count": 34,
      "metadata": {
        "id": "8_kw3LzpHzg1"
      },
      "outputs": [],
      "source": [
        "students['test preparation course'] = imputer_cursos.fit_transform(students[['test preparation course']])"
      ]
    },
    {
      "cell_type": "code",
      "execution_count": 35,
      "metadata": {
        "colab": {
          "base_uri": "https://localhost:8080/"
        },
        "id": "doUxWN93Hzg1",
        "outputId": "1272e943-8664-413f-b991-4d4791a409b3"
      },
      "outputs": [
        {
          "data": {
            "text/plain": [
              "none         636\n",
              "completed    343\n",
              "Name: test preparation course, dtype: int64"
            ]
          },
          "execution_count": 35,
          "metadata": {},
          "output_type": "execute_result"
        }
      ],
      "source": [
        "students['test preparation course'].value_counts()"
      ]
    },
    {
      "cell_type": "code",
      "execution_count": 36,
      "metadata": {
        "colab": {
          "base_uri": "https://localhost:8080/",
          "height": 206
        },
        "id": "iab_jG02Hzg1",
        "outputId": "19c60657-af3d-4ba3-cb51-5905c177ae05"
      },
      "outputs": [
        {
          "data": {
            "text/html": [
              "\n",
              "  <div id=\"df-2f1113c2-452d-440d-9a94-6d194bc7d844\">\n",
              "    <div class=\"colab-df-container\">\n",
              "      <div>\n",
              "<style scoped>\n",
              "    .dataframe tbody tr th:only-of-type {\n",
              "        vertical-align: middle;\n",
              "    }\n",
              "\n",
              "    .dataframe tbody tr th {\n",
              "        vertical-align: top;\n",
              "    }\n",
              "\n",
              "    .dataframe thead th {\n",
              "        text-align: right;\n",
              "    }\n",
              "</style>\n",
              "<table border=\"1\" class=\"dataframe\">\n",
              "  <thead>\n",
              "    <tr style=\"text-align: right;\">\n",
              "      <th></th>\n",
              "      <th>gender</th>\n",
              "      <th>race/ethnicity</th>\n",
              "      <th>parental level of education</th>\n",
              "      <th>lunch</th>\n",
              "      <th>test preparation course</th>\n",
              "      <th>math score</th>\n",
              "      <th>reading score</th>\n",
              "      <th>writing score</th>\n",
              "    </tr>\n",
              "  </thead>\n",
              "  <tbody>\n",
              "    <tr>\n",
              "      <th>1</th>\n",
              "      <td>female</td>\n",
              "      <td>group C</td>\n",
              "      <td>some college</td>\n",
              "      <td>standard</td>\n",
              "      <td>completed</td>\n",
              "      <td>1.078125</td>\n",
              "      <td>90</td>\n",
              "      <td>88</td>\n",
              "    </tr>\n",
              "    <tr>\n",
              "      <th>2</th>\n",
              "      <td>female</td>\n",
              "      <td>group B</td>\n",
              "      <td>master's degree</td>\n",
              "      <td>standard</td>\n",
              "      <td>none</td>\n",
              "      <td>1.406250</td>\n",
              "      <td>95</td>\n",
              "      <td>93</td>\n",
              "    </tr>\n",
              "    <tr>\n",
              "      <th>3</th>\n",
              "      <td>male</td>\n",
              "      <td>group A</td>\n",
              "      <td>associate's degree</td>\n",
              "      <td>free/reduced</td>\n",
              "      <td>none</td>\n",
              "      <td>0.734375</td>\n",
              "      <td>57</td>\n",
              "      <td>44</td>\n",
              "    </tr>\n",
              "    <tr>\n",
              "      <th>4</th>\n",
              "      <td>male</td>\n",
              "      <td>group C</td>\n",
              "      <td>some college</td>\n",
              "      <td>standard</td>\n",
              "      <td>none</td>\n",
              "      <td>1.187500</td>\n",
              "      <td>78</td>\n",
              "      <td>75</td>\n",
              "    </tr>\n",
              "    <tr>\n",
              "      <th>5</th>\n",
              "      <td>female</td>\n",
              "      <td>group B</td>\n",
              "      <td>associate's degree</td>\n",
              "      <td>standard</td>\n",
              "      <td>none</td>\n",
              "      <td>1.109375</td>\n",
              "      <td>83</td>\n",
              "      <td>78</td>\n",
              "    </tr>\n",
              "  </tbody>\n",
              "</table>\n",
              "</div>\n",
              "      <button class=\"colab-df-convert\" onclick=\"convertToInteractive('df-2f1113c2-452d-440d-9a94-6d194bc7d844')\"\n",
              "              title=\"Convert this dataframe to an interactive table.\"\n",
              "              style=\"display:none;\">\n",
              "        \n",
              "  <svg xmlns=\"http://www.w3.org/2000/svg\" height=\"24px\"viewBox=\"0 0 24 24\"\n",
              "       width=\"24px\">\n",
              "    <path d=\"M0 0h24v24H0V0z\" fill=\"none\"/>\n",
              "    <path d=\"M18.56 5.44l.94 2.06.94-2.06 2.06-.94-2.06-.94-.94-2.06-.94 2.06-2.06.94zm-11 1L8.5 8.5l.94-2.06 2.06-.94-2.06-.94L8.5 2.5l-.94 2.06-2.06.94zm10 10l.94 2.06.94-2.06 2.06-.94-2.06-.94-.94-2.06-.94 2.06-2.06.94z\"/><path d=\"M17.41 7.96l-1.37-1.37c-.4-.4-.92-.59-1.43-.59-.52 0-1.04.2-1.43.59L10.3 9.45l-7.72 7.72c-.78.78-.78 2.05 0 2.83L4 21.41c.39.39.9.59 1.41.59.51 0 1.02-.2 1.41-.59l7.78-7.78 2.81-2.81c.8-.78.8-2.07 0-2.86zM5.41 20L4 18.59l7.72-7.72 1.47 1.35L5.41 20z\"/>\n",
              "  </svg>\n",
              "      </button>\n",
              "      \n",
              "  <style>\n",
              "    .colab-df-container {\n",
              "      display:flex;\n",
              "      flex-wrap:wrap;\n",
              "      gap: 12px;\n",
              "    }\n",
              "\n",
              "    .colab-df-convert {\n",
              "      background-color: #E8F0FE;\n",
              "      border: none;\n",
              "      border-radius: 50%;\n",
              "      cursor: pointer;\n",
              "      display: none;\n",
              "      fill: #1967D2;\n",
              "      height: 32px;\n",
              "      padding: 0 0 0 0;\n",
              "      width: 32px;\n",
              "    }\n",
              "\n",
              "    .colab-df-convert:hover {\n",
              "      background-color: #E2EBFA;\n",
              "      box-shadow: 0px 1px 2px rgba(60, 64, 67, 0.3), 0px 1px 3px 1px rgba(60, 64, 67, 0.15);\n",
              "      fill: #174EA6;\n",
              "    }\n",
              "\n",
              "    [theme=dark] .colab-df-convert {\n",
              "      background-color: #3B4455;\n",
              "      fill: #D2E3FC;\n",
              "    }\n",
              "\n",
              "    [theme=dark] .colab-df-convert:hover {\n",
              "      background-color: #434B5C;\n",
              "      box-shadow: 0px 1px 3px 1px rgba(0, 0, 0, 0.15);\n",
              "      filter: drop-shadow(0px 1px 2px rgba(0, 0, 0, 0.3));\n",
              "      fill: #FFFFFF;\n",
              "    }\n",
              "  </style>\n",
              "\n",
              "      <script>\n",
              "        const buttonEl =\n",
              "          document.querySelector('#df-2f1113c2-452d-440d-9a94-6d194bc7d844 button.colab-df-convert');\n",
              "        buttonEl.style.display =\n",
              "          google.colab.kernel.accessAllowed ? 'block' : 'none';\n",
              "\n",
              "        async function convertToInteractive(key) {\n",
              "          const element = document.querySelector('#df-2f1113c2-452d-440d-9a94-6d194bc7d844');\n",
              "          const dataTable =\n",
              "            await google.colab.kernel.invokeFunction('convertToInteractive',\n",
              "                                                     [key], {});\n",
              "          if (!dataTable) return;\n",
              "\n",
              "          const docLinkHtml = 'Like what you see? Visit the ' +\n",
              "            '<a target=\"_blank\" href=https://colab.research.google.com/notebooks/data_table.ipynb>data table notebook</a>'\n",
              "            + ' to learn more about interactive tables.';\n",
              "          element.innerHTML = '';\n",
              "          dataTable['output_type'] = 'display_data';\n",
              "          await google.colab.output.renderOutput(dataTable, element);\n",
              "          const docLink = document.createElement('div');\n",
              "          docLink.innerHTML = docLinkHtml;\n",
              "          element.appendChild(docLink);\n",
              "        }\n",
              "      </script>\n",
              "    </div>\n",
              "  </div>\n",
              "  "
            ],
            "text/plain": [
              "   gender race/ethnicity  ... reading score writing score\n",
              "1  female        group C  ...            90            88\n",
              "2  female        group B  ...            95            93\n",
              "3    male        group A  ...            57            44\n",
              "4    male        group C  ...            78            75\n",
              "5  female        group B  ...            83            78\n",
              "\n",
              "[5 rows x 8 columns]"
            ]
          },
          "execution_count": 36,
          "metadata": {},
          "output_type": "execute_result"
        }
      ],
      "source": [
        "students.head()"
      ]
    },
    {
      "cell_type": "code",
      "execution_count": 37,
      "metadata": {
        "colab": {
          "base_uri": "https://localhost:8080/"
        },
        "id": "QBtjf4RmHzg1",
        "outputId": "32678c2e-bd5e-49d8-d7b9-819b8b700756"
      },
      "outputs": [
        {
          "data": {
            "text/plain": [
              "gender                         0\n",
              "race/ethnicity                 0\n",
              "parental level of education    0\n",
              "lunch                          0\n",
              "test preparation course        0\n",
              "math score                     0\n",
              "reading score                  0\n",
              "writing score                  0\n",
              "dtype: int64"
            ]
          },
          "execution_count": 37,
          "metadata": {},
          "output_type": "execute_result"
        }
      ],
      "source": [
        "students.isna().sum()"
      ]
    },
    {
      "cell_type": "markdown",
      "metadata": {
        "id": "C6E2IGeuHzg1"
      },
      "source": [
        "#### DETECCIÓN DE OUTLIERS"
      ]
    },
    {
      "cell_type": "markdown",
      "metadata": {
        "id": "H9rKNyKwHzg1"
      },
      "source": [
        "¿Qué es un outlier? Es una observación anormal y extrema en una muestra estadística o serie temporal de datos que puede afectar potencialmente a la estimación de los parámetros del mismo.\n",
        "\n",
        "- Manera de detectar outliers:\n",
        "    - z-score\n",
        "        - Considera que todo valor que se aleje mucho de la media es un outlier.\n",
        "        - Depende de la media y el desvío estandard para medir la centralidad y dispersión, los cuales son muy afectados por outliers. Si las variables no tienen una distribución normal, termino removiendo muchos outliers del dataset.\n",
        "        - No funciona bien en dataset muy pequeños.\n",
        "    - Rango Intercuartil: \n",
        "        - Es robusto y no es tan sensible a outliers."
      ]
    },
    {
      "cell_type": "code",
      "execution_count": 38,
      "metadata": {
        "colab": {
          "base_uri": "https://localhost:8080/",
          "height": 369
        },
        "id": "2EsTynG6Hzg1",
        "outputId": "7f0f4dde-6f71-4e58-ebac-ba62f0ff5c15"
      },
      "outputs": [
        {
          "data": {
            "image/png": "[encoded data removed]",
            "text/plain": [
              "<Figure size 360x360 with 1 Axes>"
            ]
          },
          "metadata": {
            "needs_background": "light"
          },
          "output_type": "display_data"
        }
      ],
      "source": [
        "sns.displot(students['math score'])\n",
        "sns.despine()"
      ]
    },
    {
      "cell_type": "code",
      "execution_count": 39,
      "metadata": {
        "colab": {
          "base_uri": "https://localhost:8080/",
          "height": 335
        },
        "id": "dUckV3_fHzg2",
        "outputId": "57925616-a08b-4a79-96a7-050fc7e95712"
      },
      "outputs": [
        {
          "name": "stderr",
          "output_type": "stream",
          "text": [
            "/usr/local/lib/python3.7/dist-packages/seaborn/_decorators.py:43: FutureWarning: Pass the following variable as a keyword arg: x. From version 0.12, the only valid positional argument will be `data`, and passing other arguments without an explicit keyword will result in an error or misinterpretation.\n",
            "  FutureWarning\n"
          ]
        },
        {
          "data": {
            "image/png": "[encoded data removed]",
            "text/plain": [
              "<Figure size 432x288 with 1 Axes>"
            ]
          },
          "metadata": {
            "needs_background": "light"
          },
          "output_type": "display_data"
        }
      ],
      "source": [
        "sns.boxplot(students['math score'], color='Green')\n",
        "sns.despine()"
      ]
    },
    {
      "cell_type": "code",
      "execution_count": 41,
      "metadata": {
        "id": "BirUTPcnHzg2"
      },
      "outputs": [],
      "source": [
        "z = stats.zscore(np.array(students['math score']))\n",
        "\n",
        "# (x-xm)/dvs"
      ]
    },
    {
      "cell_type": "code",
      "execution_count": 42,
      "metadata": {
        "id": "VzR1OwqjHzg2"
      },
      "outputs": [],
      "source": [
        "threshold = 2.5\n",
        "#umbral para el outlier"
      ]
    },
    {
      "cell_type": "code",
      "execution_count": 43,
      "metadata": {
        "id": "0feiEztqHzg2"
      },
      "outputs": [],
      "source": [
        "z_index = students['math score'] [np.abs(z) < threshold].index\n",
        "# abs es para pasar a positivos los negativos\n",
        "students = students.loc[z_index]"
      ]
    },
    {
      "cell_type": "code",
      "execution_count": 44,
      "metadata": {
        "colab": {
          "base_uri": "https://localhost:8080/",
          "height": 335
        },
        "id": "i6EBkCr0Hzg2",
        "outputId": "78704189-ef3e-423d-ce03-4a2ca98b5b43"
      },
      "outputs": [
        {
          "name": "stderr",
          "output_type": "stream",
          "text": [
            "/usr/local/lib/python3.7/dist-packages/seaborn/_decorators.py:43: FutureWarning: Pass the following variable as a keyword arg: x. From version 0.12, the only valid positional argument will be `data`, and passing other arguments without an explicit keyword will result in an error or misinterpretation.\n",
            "  FutureWarning\n"
          ]
        },
        {
          "data": {
            "image/png": "[encoded data removed]",
            "text/plain": [
              "<Figure size 432x288 with 1 Axes>"
            ]
          },
          "metadata": {
            "needs_background": "light"
          },
          "output_type": "display_data"
        }
      ],
      "source": [
        "sns.boxplot(students['reading score'], color='Green')\n",
        "sns.despine()"
      ]
    },
    {
      "cell_type": "code",
      "execution_count": 45,
      "metadata": {
        "id": "5fN95V57Hzg2"
      },
      "outputs": [],
      "source": [
        "q1 = students['reading score'].quantile(0.25) # primer cuartil\n",
        "q3 = students['reading score'].quantile(0.75) # tercer cuartil"
      ]
    },
    {
      "cell_type": "code",
      "execution_count": 46,
      "metadata": {
        "id": "WheK1RG_Hzg2"
      },
      "outputs": [],
      "source": [
        "iqr = q3 - q1 #rango interquartil\n",
        "lb = q1 - (iqr * 1.5) #limite inferior\n",
        "ub = q3 + (iqr * 1.5) #limite superior"
      ]
    },
    {
      "cell_type": "code",
      "execution_count": 47,
      "metadata": {
        "id": "E5AEFRlGHzg2"
      },
      "outputs": [],
      "source": [
        "students = students[(students['reading score'] > lb) & (students['reading score'] < ub)]"
      ]
    },
    {
      "cell_type": "code",
      "execution_count": 48,
      "metadata": {
        "id": "m5d44oouHzg2"
      },
      "outputs": [],
      "source": [
        "students.reset_index(drop=True, inplace=True)"
      ]
    },
    {
      "cell_type": "code",
      "execution_count": 49,
      "metadata": {
        "colab": {
          "base_uri": "https://localhost:8080/",
          "height": 335
        },
        "id": "unRKdZcIHzg2",
        "outputId": "07b35017-453b-4369-d1a9-0d2d8c113bd1"
      },
      "outputs": [
        {
          "name": "stderr",
          "output_type": "stream",
          "text": [
            "/usr/local/lib/python3.7/dist-packages/seaborn/_decorators.py:43: FutureWarning: Pass the following variable as a keyword arg: x. From version 0.12, the only valid positional argument will be `data`, and passing other arguments without an explicit keyword will result in an error or misinterpretation.\n",
            "  FutureWarning\n"
          ]
        },
        {
          "data": {
            "image/png": "[encoded data removed]",
            "text/plain": [
              "<Figure size 432x288 with 1 Axes>"
            ]
          },
          "metadata": {
            "needs_background": "light"
          },
          "output_type": "display_data"
        }
      ],
      "source": [
        "sns.boxplot(students['reading score'], color='Green')\n",
        "sns.despine()"
      ]
    },
    {
      "cell_type": "markdown",
      "metadata": {
        "id": "nqkla0d0Hzg3"
      },
      "source": [
        "#### GENERACIÓN DE NUEVAS VARIABLES"
      ]
    },
    {
      "cell_type": "markdown",
      "metadata": {
        "id": "cDhzfrsxHzg3"
      },
      "source": [
        "- La manera de combinar variables ya presentes que puedan capturar efectos dependientes entre ambos y afectar el resultado es:\n",
        "    * Sumando o restando variables\n",
        "    * Multiplicando o dividiendo variables"
      ]
    },
    {
      "cell_type": "code",
      "execution_count": 50,
      "metadata": {
        "id": "5LBxHsETHzg3"
      },
      "outputs": [],
      "source": [
        "students['english score'] = (students['writing score']+students['reading score'])/2"
      ]
    },
    {
      "cell_type": "markdown",
      "metadata": {
        "id": "AUyC7IhgHzg3"
      },
      "source": [
        "#### TRANSFORMACIÓN DE VARIABLES"
      ]
    },
    {
      "cell_type": "markdown",
      "metadata": {
        "id": "xZyMPLpvHzg3"
      },
      "source": [
        "- La mayoría de los algoritmos de machine learning no admiten `strings` como variables y requieren que las variables sean numéricas. Por ese motivo, es necesario convertir las variables categoricas en su representación numérica. "
      ]
    },
    {
      "cell_type": "markdown",
      "metadata": {
        "id": "GlBVJcRfHzg3"
      },
      "source": [
        "**`apply`**"
      ]
    },
    {
      "cell_type": "code",
      "execution_count": null,
      "metadata": {
        "id": "_yOzdjzfHzg3"
      },
      "outputs": [],
      "source": [
        "students['test preparation course'] = students['test preparation course'].apply(lambda x:0 if x== 'none' else 1 )"
      ]
    },
    {
      "cell_type": "code",
      "execution_count": null,
      "metadata": {
        "id": "zNKwCt0RHzg3",
        "outputId": "724f08df-d6b8-4e46-8481-77ffc7526d7a"
      },
      "outputs": [
        {
          "data": {
            "text/html": [
              "<div>\n",
              "<style scoped>\n",
              "    .dataframe tbody tr th:only-of-type {\n",
              "        vertical-align: middle;\n",
              "    }\n",
              "\n",
              "    .dataframe tbody tr th {\n",
              "        vertical-align: top;\n",
              "    }\n",
              "\n",
              "    .dataframe thead th {\n",
              "        text-align: right;\n",
              "    }\n",
              "</style>\n",
              "<table border=\"1\" class=\"dataframe\">\n",
              "  <thead>\n",
              "    <tr style=\"text-align: right;\">\n",
              "      <th></th>\n",
              "      <th>gender</th>\n",
              "      <th>race/ethnicity</th>\n",
              "      <th>parental level of education</th>\n",
              "      <th>lunch</th>\n",
              "      <th>test preparation course</th>\n",
              "      <th>math score</th>\n",
              "      <th>reading score</th>\n",
              "      <th>writing score</th>\n",
              "      <th>english score</th>\n",
              "    </tr>\n",
              "  </thead>\n",
              "  <tbody>\n",
              "    <tr>\n",
              "      <th>0</th>\n",
              "      <td>female</td>\n",
              "      <td>group C</td>\n",
              "      <td>some college</td>\n",
              "      <td>standard</td>\n",
              "      <td>1</td>\n",
              "      <td>1.078125</td>\n",
              "      <td>90</td>\n",
              "      <td>88</td>\n",
              "      <td>89.0</td>\n",
              "    </tr>\n",
              "    <tr>\n",
              "      <th>1</th>\n",
              "      <td>female</td>\n",
              "      <td>group B</td>\n",
              "      <td>master's degree</td>\n",
              "      <td>standard</td>\n",
              "      <td>0</td>\n",
              "      <td>1.406250</td>\n",
              "      <td>95</td>\n",
              "      <td>93</td>\n",
              "      <td>94.0</td>\n",
              "    </tr>\n",
              "    <tr>\n",
              "      <th>2</th>\n",
              "      <td>male</td>\n",
              "      <td>group A</td>\n",
              "      <td>associate's degree</td>\n",
              "      <td>free/reduced</td>\n",
              "      <td>0</td>\n",
              "      <td>0.734375</td>\n",
              "      <td>57</td>\n",
              "      <td>44</td>\n",
              "      <td>50.5</td>\n",
              "    </tr>\n",
              "    <tr>\n",
              "      <th>3</th>\n",
              "      <td>male</td>\n",
              "      <td>group C</td>\n",
              "      <td>some college</td>\n",
              "      <td>standard</td>\n",
              "      <td>0</td>\n",
              "      <td>1.187500</td>\n",
              "      <td>78</td>\n",
              "      <td>75</td>\n",
              "      <td>76.5</td>\n",
              "    </tr>\n",
              "    <tr>\n",
              "      <th>4</th>\n",
              "      <td>female</td>\n",
              "      <td>group B</td>\n",
              "      <td>associate's degree</td>\n",
              "      <td>standard</td>\n",
              "      <td>0</td>\n",
              "      <td>1.109375</td>\n",
              "      <td>83</td>\n",
              "      <td>78</td>\n",
              "      <td>80.5</td>\n",
              "    </tr>\n",
              "  </tbody>\n",
              "</table>\n",
              "</div>"
            ],
            "text/plain": [
              "   gender race/ethnicity parental level of education         lunch  \\\n",
              "0  female        group C                some college      standard   \n",
              "1  female        group B             master's degree      standard   \n",
              "2    male        group A          associate's degree  free/reduced   \n",
              "3    male        group C                some college      standard   \n",
              "4  female        group B          associate's degree      standard   \n",
              "\n",
              "   test preparation course  math score  reading score  writing score  \\\n",
              "0                        1    1.078125             90             88   \n",
              "1                        0    1.406250             95             93   \n",
              "2                        0    0.734375             57             44   \n",
              "3                        0    1.187500             78             75   \n",
              "4                        0    1.109375             83             78   \n",
              "\n",
              "   english score  \n",
              "0           89.0  \n",
              "1           94.0  \n",
              "2           50.5  \n",
              "3           76.5  \n",
              "4           80.5  "
            ]
          },
          "execution_count": 43,
          "metadata": {},
          "output_type": "execute_result"
        }
      ],
      "source": [
        "students.head()"
      ]
    },
    {
      "cell_type": "markdown",
      "metadata": {
        "id": "cSEscc1JHzg3"
      },
      "source": [
        "**`get_dummies()`**"
      ]
    },
    {
      "cell_type": "code",
      "execution_count": 51,
      "metadata": {
        "id": "9v12VJCmHzg3"
      },
      "outputs": [],
      "source": [
        "students[['female', 'male']] = pd.get_dummies(students['gender'])"
      ]
    },
    {
      "cell_type": "code",
      "execution_count": 52,
      "metadata": {
        "colab": {
          "base_uri": "https://localhost:8080/",
          "height": 250
        },
        "id": "nRhVdgHZHzg4",
        "outputId": "ce217a7b-a26a-4545-e7ef-9381edb81774"
      },
      "outputs": [
        {
          "data": {
            "text/html": [
              "\n",
              "  <div id=\"df-ef081197-7ce6-45c3-8070-a19a04e45fae\">\n",
              "    <div class=\"colab-df-container\">\n",
              "      <div>\n",
              "<style scoped>\n",
              "    .dataframe tbody tr th:only-of-type {\n",
              "        vertical-align: middle;\n",
              "    }\n",
              "\n",
              "    .dataframe tbody tr th {\n",
              "        vertical-align: top;\n",
              "    }\n",
              "\n",
              "    .dataframe thead th {\n",
              "        text-align: right;\n",
              "    }\n",
              "</style>\n",
              "<table border=\"1\" class=\"dataframe\">\n",
              "  <thead>\n",
              "    <tr style=\"text-align: right;\">\n",
              "      <th></th>\n",
              "      <th>gender</th>\n",
              "      <th>race/ethnicity</th>\n",
              "      <th>parental level of education</th>\n",
              "      <th>lunch</th>\n",
              "      <th>test preparation course</th>\n",
              "      <th>math score</th>\n",
              "      <th>reading score</th>\n",
              "      <th>writing score</th>\n",
              "      <th>english score</th>\n",
              "      <th>female</th>\n",
              "      <th>male</th>\n",
              "    </tr>\n",
              "  </thead>\n",
              "  <tbody>\n",
              "    <tr>\n",
              "      <th>0</th>\n",
              "      <td>female</td>\n",
              "      <td>group C</td>\n",
              "      <td>some college</td>\n",
              "      <td>standard</td>\n",
              "      <td>completed</td>\n",
              "      <td>1.078125</td>\n",
              "      <td>90</td>\n",
              "      <td>88</td>\n",
              "      <td>89.0</td>\n",
              "      <td>1</td>\n",
              "      <td>0</td>\n",
              "    </tr>\n",
              "    <tr>\n",
              "      <th>1</th>\n",
              "      <td>female</td>\n",
              "      <td>group B</td>\n",
              "      <td>master's degree</td>\n",
              "      <td>standard</td>\n",
              "      <td>none</td>\n",
              "      <td>1.406250</td>\n",
              "      <td>95</td>\n",
              "      <td>93</td>\n",
              "      <td>94.0</td>\n",
              "      <td>1</td>\n",
              "      <td>0</td>\n",
              "    </tr>\n",
              "    <tr>\n",
              "      <th>2</th>\n",
              "      <td>male</td>\n",
              "      <td>group A</td>\n",
              "      <td>associate's degree</td>\n",
              "      <td>free/reduced</td>\n",
              "      <td>none</td>\n",
              "      <td>0.734375</td>\n",
              "      <td>57</td>\n",
              "      <td>44</td>\n",
              "      <td>50.5</td>\n",
              "      <td>0</td>\n",
              "      <td>1</td>\n",
              "    </tr>\n",
              "    <tr>\n",
              "      <th>3</th>\n",
              "      <td>male</td>\n",
              "      <td>group C</td>\n",
              "      <td>some college</td>\n",
              "      <td>standard</td>\n",
              "      <td>none</td>\n",
              "      <td>1.187500</td>\n",
              "      <td>78</td>\n",
              "      <td>75</td>\n",
              "      <td>76.5</td>\n",
              "      <td>0</td>\n",
              "      <td>1</td>\n",
              "    </tr>\n",
              "    <tr>\n",
              "      <th>4</th>\n",
              "      <td>female</td>\n",
              "      <td>group B</td>\n",
              "      <td>associate's degree</td>\n",
              "      <td>standard</td>\n",
              "      <td>none</td>\n",
              "      <td>1.109375</td>\n",
              "      <td>83</td>\n",
              "      <td>78</td>\n",
              "      <td>80.5</td>\n",
              "      <td>1</td>\n",
              "      <td>0</td>\n",
              "    </tr>\n",
              "  </tbody>\n",
              "</table>\n",
              "</div>\n",
              "      <button class=\"colab-df-convert\" onclick=\"convertToInteractive('df-ef081197-7ce6-45c3-8070-a19a04e45fae')\"\n",
              "              title=\"Convert this dataframe to an interactive table.\"\n",
              "              style=\"display:none;\">\n",
              "        \n",
              "  <svg xmlns=\"http://www.w3.org/2000/svg\" height=\"24px\"viewBox=\"0 0 24 24\"\n",
              "       width=\"24px\">\n",
              "    <path d=\"M0 0h24v24H0V0z\" fill=\"none\"/>\n",
              "    <path d=\"M18.56 5.44l.94 2.06.94-2.06 2.06-.94-2.06-.94-.94-2.06-.94 2.06-2.06.94zm-11 1L8.5 8.5l.94-2.06 2.06-.94-2.06-.94L8.5 2.5l-.94 2.06-2.06.94zm10 10l.94 2.06.94-2.06 2.06-.94-2.06-.94-.94-2.06-.94 2.06-2.06.94z\"/><path d=\"M17.41 7.96l-1.37-1.37c-.4-.4-.92-.59-1.43-.59-.52 0-1.04.2-1.43.59L10.3 9.45l-7.72 7.72c-.78.78-.78 2.05 0 2.83L4 21.41c.39.39.9.59 1.41.59.51 0 1.02-.2 1.41-.59l7.78-7.78 2.81-2.81c.8-.78.8-2.07 0-2.86zM5.41 20L4 18.59l7.72-7.72 1.47 1.35L5.41 20z\"/>\n",
              "  </svg>\n",
              "      </button>\n",
              "      \n",
              "  <style>\n",
              "    .colab-df-container {\n",
              "      display:flex;\n",
              "      flex-wrap:wrap;\n",
              "      gap: 12px;\n",
              "    }\n",
              "\n",
              "    .colab-df-convert {\n",
              "      background-color: #E8F0FE;\n",
              "      border: none;\n",
              "      border-radius: 50%;\n",
              "      cursor: pointer;\n",
              "      display: none;\n",
              "      fill: #1967D2;\n",
              "      height: 32px;\n",
              "      padding: 0 0 0 0;\n",
              "      width: 32px;\n",
              "    }\n",
              "\n",
              "    .colab-df-convert:hover {\n",
              "      background-color: #E2EBFA;\n",
              "      box-shadow: 0px 1px 2px rgba(60, 64, 67, 0.3), 0px 1px 3px 1px rgba(60, 64, 67, 0.15);\n",
              "      fill: #174EA6;\n",
              "    }\n",
              "\n",
              "    [theme=dark] .colab-df-convert {\n",
              "      background-color: #3B4455;\n",
              "      fill: #D2E3FC;\n",
              "    }\n",
              "\n",
              "    [theme=dark] .colab-df-convert:hover {\n",
              "      background-color: #434B5C;\n",
              "      box-shadow: 0px 1px 3px 1px rgba(0, 0, 0, 0.15);\n",
              "      filter: drop-shadow(0px 1px 2px rgba(0, 0, 0, 0.3));\n",
              "      fill: #FFFFFF;\n",
              "    }\n",
              "  </style>\n",
              "\n",
              "      <script>\n",
              "        const buttonEl =\n",
              "          document.querySelector('#df-ef081197-7ce6-45c3-8070-a19a04e45fae button.colab-df-convert');\n",
              "        buttonEl.style.display =\n",
              "          google.colab.kernel.accessAllowed ? 'block' : 'none';\n",
              "\n",
              "        async function convertToInteractive(key) {\n",
              "          const element = document.querySelector('#df-ef081197-7ce6-45c3-8070-a19a04e45fae');\n",
              "          const dataTable =\n",
              "            await google.colab.kernel.invokeFunction('convertToInteractive',\n",
              "                                                     [key], {});\n",
              "          if (!dataTable) return;\n",
              "\n",
              "          const docLinkHtml = 'Like what you see? Visit the ' +\n",
              "            '<a target=\"_blank\" href=https://colab.research.google.com/notebooks/data_table.ipynb>data table notebook</a>'\n",
              "            + ' to learn more about interactive tables.';\n",
              "          element.innerHTML = '';\n",
              "          dataTable['output_type'] = 'display_data';\n",
              "          await google.colab.output.renderOutput(dataTable, element);\n",
              "          const docLink = document.createElement('div');\n",
              "          docLink.innerHTML = docLinkHtml;\n",
              "          element.appendChild(docLink);\n",
              "        }\n",
              "      </script>\n",
              "    </div>\n",
              "  </div>\n",
              "  "
            ],
            "text/plain": [
              "   gender race/ethnicity  ... female male\n",
              "0  female        group C  ...      1    0\n",
              "1  female        group B  ...      1    0\n",
              "2    male        group A  ...      0    1\n",
              "3    male        group C  ...      0    1\n",
              "4  female        group B  ...      1    0\n",
              "\n",
              "[5 rows x 11 columns]"
            ]
          },
          "execution_count": 52,
          "metadata": {},
          "output_type": "execute_result"
        }
      ],
      "source": [
        "students.head()"
      ]
    },
    {
      "cell_type": "markdown",
      "metadata": {
        "id": "FL_x8GbdHzg4"
      },
      "source": [
        "**`LabelEncoder()`**"
      ]
    },
    {
      "cell_type": "code",
      "execution_count": 55,
      "metadata": {
        "id": "PPqium-xHzg4"
      },
      "outputs": [],
      "source": [
        "from sklearn.preprocessing import LabelEncoder"
      ]
    },
    {
      "cell_type": "code",
      "execution_count": 60,
      "metadata": {
        "id": "L2oW_yv1Hzg4"
      },
      "outputs": [],
      "source": [
        "test_encoder = LabelEncoder()"
      ]
    },
    {
      "cell_type": "code",
      "execution_count": 61,
      "metadata": {
        "id": "vExsLY63M9xZ"
      },
      "outputs": [],
      "source": [
        "students.loc[:, 'race/ethnicity'] = test_encoder.fit_transform(students['race/ethnicity'])"
      ]
    },
    {
      "cell_type": "code",
      "execution_count": 62,
      "metadata": {
        "colab": {
          "base_uri": "https://localhost:8080/",
          "height": 250
        },
        "id": "83inyc5CHzg4",
        "outputId": "17d604c0-400a-44d5-be7e-aae9f968e873"
      },
      "outputs": [
        {
          "data": {
            "text/html": [
              "\n",
              "  <div id=\"df-04438dab-4ce0-4187-b7f7-5dcbad89de01\">\n",
              "    <div class=\"colab-df-container\">\n",
              "      <div>\n",
              "<style scoped>\n",
              "    .dataframe tbody tr th:only-of-type {\n",
              "        vertical-align: middle;\n",
              "    }\n",
              "\n",
              "    .dataframe tbody tr th {\n",
              "        vertical-align: top;\n",
              "    }\n",
              "\n",
              "    .dataframe thead th {\n",
              "        text-align: right;\n",
              "    }\n",
              "</style>\n",
              "<table border=\"1\" class=\"dataframe\">\n",
              "  <thead>\n",
              "    <tr style=\"text-align: right;\">\n",
              "      <th></th>\n",
              "      <th>gender</th>\n",
              "      <th>race/ethnicity</th>\n",
              "      <th>parental level of education</th>\n",
              "      <th>lunch</th>\n",
              "      <th>test preparation course</th>\n",
              "      <th>math score</th>\n",
              "      <th>reading score</th>\n",
              "      <th>writing score</th>\n",
              "      <th>english score</th>\n",
              "      <th>female</th>\n",
              "      <th>male</th>\n",
              "    </tr>\n",
              "  </thead>\n",
              "  <tbody>\n",
              "    <tr>\n",
              "      <th>0</th>\n",
              "      <td>female</td>\n",
              "      <td>2</td>\n",
              "      <td>some college</td>\n",
              "      <td>standard</td>\n",
              "      <td>completed</td>\n",
              "      <td>1.078125</td>\n",
              "      <td>90</td>\n",
              "      <td>88</td>\n",
              "      <td>89.0</td>\n",
              "      <td>1</td>\n",
              "      <td>0</td>\n",
              "    </tr>\n",
              "    <tr>\n",
              "      <th>1</th>\n",
              "      <td>female</td>\n",
              "      <td>1</td>\n",
              "      <td>master's degree</td>\n",
              "      <td>standard</td>\n",
              "      <td>none</td>\n",
              "      <td>1.406250</td>\n",
              "      <td>95</td>\n",
              "      <td>93</td>\n",
              "      <td>94.0</td>\n",
              "      <td>1</td>\n",
              "      <td>0</td>\n",
              "    </tr>\n",
              "    <tr>\n",
              "      <th>2</th>\n",
              "      <td>male</td>\n",
              "      <td>0</td>\n",
              "      <td>associate's degree</td>\n",
              "      <td>free/reduced</td>\n",
              "      <td>none</td>\n",
              "      <td>0.734375</td>\n",
              "      <td>57</td>\n",
              "      <td>44</td>\n",
              "      <td>50.5</td>\n",
              "      <td>0</td>\n",
              "      <td>1</td>\n",
              "    </tr>\n",
              "    <tr>\n",
              "      <th>3</th>\n",
              "      <td>male</td>\n",
              "      <td>2</td>\n",
              "      <td>some college</td>\n",
              "      <td>standard</td>\n",
              "      <td>none</td>\n",
              "      <td>1.187500</td>\n",
              "      <td>78</td>\n",
              "      <td>75</td>\n",
              "      <td>76.5</td>\n",
              "      <td>0</td>\n",
              "      <td>1</td>\n",
              "    </tr>\n",
              "    <tr>\n",
              "      <th>4</th>\n",
              "      <td>female</td>\n",
              "      <td>1</td>\n",
              "      <td>associate's degree</td>\n",
              "      <td>standard</td>\n",
              "      <td>none</td>\n",
              "      <td>1.109375</td>\n",
              "      <td>83</td>\n",
              "      <td>78</td>\n",
              "      <td>80.5</td>\n",
              "      <td>1</td>\n",
              "      <td>0</td>\n",
              "    </tr>\n",
              "  </tbody>\n",
              "</table>\n",
              "</div>\n",
              "      <button class=\"colab-df-convert\" onclick=\"convertToInteractive('df-04438dab-4ce0-4187-b7f7-5dcbad89de01')\"\n",
              "              title=\"Convert this dataframe to an interactive table.\"\n",
              "              style=\"display:none;\">\n",
              "        \n",
              "  <svg xmlns=\"http://www.w3.org/2000/svg\" height=\"24px\"viewBox=\"0 0 24 24\"\n",
              "       width=\"24px\">\n",
              "    <path d=\"M0 0h24v24H0V0z\" fill=\"none\"/>\n",
              "    <path d=\"M18.56 5.44l.94 2.06.94-2.06 2.06-.94-2.06-.94-.94-2.06-.94 2.06-2.06.94zm-11 1L8.5 8.5l.94-2.06 2.06-.94-2.06-.94L8.5 2.5l-.94 2.06-2.06.94zm10 10l.94 2.06.94-2.06 2.06-.94-2.06-.94-.94-2.06-.94 2.06-2.06.94z\"/><path d=\"M17.41 7.96l-1.37-1.37c-.4-.4-.92-.59-1.43-.59-.52 0-1.04.2-1.43.59L10.3 9.45l-7.72 7.72c-.78.78-.78 2.05 0 2.83L4 21.41c.39.39.9.59 1.41.59.51 0 1.02-.2 1.41-.59l7.78-7.78 2.81-2.81c.8-.78.8-2.07 0-2.86zM5.41 20L4 18.59l7.72-7.72 1.47 1.35L5.41 20z\"/>\n",
              "  </svg>\n",
              "      </button>\n",
              "      \n",
              "  <style>\n",
              "    .colab-df-container {\n",
              "      display:flex;\n",
              "      flex-wrap:wrap;\n",
              "      gap: 12px;\n",
              "    }\n",
              "\n",
              "    .colab-df-convert {\n",
              "      background-color: #E8F0FE;\n",
              "      border: none;\n",
              "      border-radius: 50%;\n",
              "      cursor: pointer;\n",
              "      display: none;\n",
              "      fill: #1967D2;\n",
              "      height: 32px;\n",
              "      padding: 0 0 0 0;\n",
              "      width: 32px;\n",
              "    }\n",
              "\n",
              "    .colab-df-convert:hover {\n",
              "      background-color: #E2EBFA;\n",
              "      box-shadow: 0px 1px 2px rgba(60, 64, 67, 0.3), 0px 1px 3px 1px rgba(60, 64, 67, 0.15);\n",
              "      fill: #174EA6;\n",
              "    }\n",
              "\n",
              "    [theme=dark] .colab-df-convert {\n",
              "      background-color: #3B4455;\n",
              "      fill: #D2E3FC;\n",
              "    }\n",
              "\n",
              "    [theme=dark] .colab-df-convert:hover {\n",
              "      background-color: #434B5C;\n",
              "      box-shadow: 0px 1px 3px 1px rgba(0, 0, 0, 0.15);\n",
              "      filter: drop-shadow(0px 1px 2px rgba(0, 0, 0, 0.3));\n",
              "      fill: #FFFFFF;\n",
              "    }\n",
              "  </style>\n",
              "\n",
              "      <script>\n",
              "        const buttonEl =\n",
              "          document.querySelector('#df-04438dab-4ce0-4187-b7f7-5dcbad89de01 button.colab-df-convert');\n",
              "        buttonEl.style.display =\n",
              "          google.colab.kernel.accessAllowed ? 'block' : 'none';\n",
              "\n",
              "        async function convertToInteractive(key) {\n",
              "          const element = document.querySelector('#df-04438dab-4ce0-4187-b7f7-5dcbad89de01');\n",
              "          const dataTable =\n",
              "            await google.colab.kernel.invokeFunction('convertToInteractive',\n",
              "                                                     [key], {});\n",
              "          if (!dataTable) return;\n",
              "\n",
              "          const docLinkHtml = 'Like what you see? Visit the ' +\n",
              "            '<a target=\"_blank\" href=https://colab.research.google.com/notebooks/data_table.ipynb>data table notebook</a>'\n",
              "            + ' to learn more about interactive tables.';\n",
              "          element.innerHTML = '';\n",
              "          dataTable['output_type'] = 'display_data';\n",
              "          await google.colab.output.renderOutput(dataTable, element);\n",
              "          const docLink = document.createElement('div');\n",
              "          docLink.innerHTML = docLinkHtml;\n",
              "          element.appendChild(docLink);\n",
              "        }\n",
              "      </script>\n",
              "    </div>\n",
              "  </div>\n",
              "  "
            ],
            "text/plain": [
              "   gender  race/ethnicity  ... female male\n",
              "0  female               2  ...      1    0\n",
              "1  female               1  ...      1    0\n",
              "2    male               0  ...      0    1\n",
              "3    male               2  ...      0    1\n",
              "4  female               1  ...      1    0\n",
              "\n",
              "[5 rows x 11 columns]"
            ]
          },
          "execution_count": 62,
          "metadata": {},
          "output_type": "execute_result"
        }
      ],
      "source": [
        "students.head()"
      ]
    },
    {
      "cell_type": "code",
      "execution_count": null,
      "metadata": {
        "id": "GrDIFb2XHzg4"
      },
      "outputs": [],
      "source": []
    },
    {
      "cell_type": "markdown",
      "metadata": {
        "id": "AX0YL3Z9Hzg4"
      },
      "source": [
        "**`OneHotEncoder()`**"
      ]
    },
    {
      "cell_type": "code",
      "execution_count": 63,
      "metadata": {
        "id": "z0laua2sHzg4"
      },
      "outputs": [],
      "source": [
        "from sklearn.preprocessing import OneHotEncoder"
      ]
    },
    {
      "cell_type": "code",
      "execution_count": 64,
      "metadata": {
        "id": "BNICJQcHHzg4"
      },
      "outputs": [],
      "source": [
        "parental_encoder = OneHotEncoder()"
      ]
    },
    {
      "cell_type": "code",
      "execution_count": 65,
      "metadata": {
        "colab": {
          "base_uri": "https://localhost:8080/"
        },
        "id": "KunpMujnHzg4",
        "outputId": "8e570e15-8519-4277-e127-ee820ab0ff5d"
      },
      "outputs": [
        {
          "data": {
            "text/plain": [
              "array([[0., 0., 0., 0., 1., 0.],\n",
              "       [0., 0., 0., 1., 0., 0.],\n",
              "       [1., 0., 0., 0., 0., 0.],\n",
              "       ...,\n",
              "       [0., 0., 1., 0., 0., 0.],\n",
              "       [0., 0., 0., 0., 1., 0.],\n",
              "       [0., 0., 0., 0., 1., 0.]])"
            ]
          },
          "execution_count": 65,
          "metadata": {},
          "output_type": "execute_result"
        }
      ],
      "source": [
        "parental_encoder.fit_transform(students[['parental level of education']]).toarray()"
      ]
    },
    {
      "cell_type": "code",
      "execution_count": 66,
      "metadata": {
        "colab": {
          "base_uri": "https://localhost:8080/"
        },
        "id": "OOSkg0ytHzg5",
        "outputId": "f4dd3149-a5c1-4628-aa02-3fcf8f2cf938"
      },
      "outputs": [
        {
          "data": {
            "text/plain": [
              "[array([\"associate's degree\", \"bachelor's degree\", 'high school',\n",
              "        \"master's degree\", 'some college', 'some high school'],\n",
              "       dtype=object)]"
            ]
          },
          "execution_count": 66,
          "metadata": {},
          "output_type": "execute_result"
        }
      ],
      "source": [
        "parental_encoder.categories_"
      ]
    },
    {
      "cell_type": "code",
      "execution_count": 67,
      "metadata": {
        "id": "MFMPYb1vHzg5"
      },
      "outputs": [],
      "source": [
        "niveles = parental_encoder.categories_[0].tolist()"
      ]
    },
    {
      "cell_type": "code",
      "execution_count": 68,
      "metadata": {
        "id": "oQzNQhMvOHal"
      },
      "outputs": [],
      "source": [
        "one_hot_students = pd.DataFrame(parental_encoder.fit_transform(students[['parental level of education']]).toarray(), columns=niveles)"
      ]
    },
    {
      "cell_type": "code",
      "execution_count": 69,
      "metadata": {
        "id": "3lMIbCs6Hzg5"
      },
      "outputs": [],
      "source": [
        "students = pd.concat([students, one_hot_students], axis=1)"
      ]
    },
    {
      "cell_type": "code",
      "execution_count": 70,
      "metadata": {
        "colab": {
          "base_uri": "https://localhost:8080/",
          "height": 391
        },
        "id": "TESDrP88Hzg5",
        "outputId": "b59b15ef-72cb-454c-cb3f-9e4c139109ed"
      },
      "outputs": [
        {
          "data": {
            "text/html": [
              "\n",
              "  <div id=\"df-487b5136-e432-4130-b57f-1d5007976dbf\">\n",
              "    <div class=\"colab-df-container\">\n",
              "      <div>\n",
              "<style scoped>\n",
              "    .dataframe tbody tr th:only-of-type {\n",
              "        vertical-align: middle;\n",
              "    }\n",
              "\n",
              "    .dataframe tbody tr th {\n",
              "        vertical-align: top;\n",
              "    }\n",
              "\n",
              "    .dataframe thead th {\n",
              "        text-align: right;\n",
              "    }\n",
              "</style>\n",
              "<table border=\"1\" class=\"dataframe\">\n",
              "  <thead>\n",
              "    <tr style=\"text-align: right;\">\n",
              "      <th></th>\n",
              "      <th>gender</th>\n",
              "      <th>race/ethnicity</th>\n",
              "      <th>parental level of education</th>\n",
              "      <th>lunch</th>\n",
              "      <th>test preparation course</th>\n",
              "      <th>math score</th>\n",
              "      <th>reading score</th>\n",
              "      <th>writing score</th>\n",
              "      <th>english score</th>\n",
              "      <th>female</th>\n",
              "      <th>male</th>\n",
              "      <th>associate's degree</th>\n",
              "      <th>bachelor's degree</th>\n",
              "      <th>high school</th>\n",
              "      <th>master's degree</th>\n",
              "      <th>some college</th>\n",
              "      <th>some high school</th>\n",
              "    </tr>\n",
              "  </thead>\n",
              "  <tbody>\n",
              "    <tr>\n",
              "      <th>0</th>\n",
              "      <td>female</td>\n",
              "      <td>2</td>\n",
              "      <td>some college</td>\n",
              "      <td>standard</td>\n",
              "      <td>completed</td>\n",
              "      <td>1.078125</td>\n",
              "      <td>90</td>\n",
              "      <td>88</td>\n",
              "      <td>89.0</td>\n",
              "      <td>1</td>\n",
              "      <td>0</td>\n",
              "      <td>0.0</td>\n",
              "      <td>0.0</td>\n",
              "      <td>0.0</td>\n",
              "      <td>0.0</td>\n",
              "      <td>1.0</td>\n",
              "      <td>0.0</td>\n",
              "    </tr>\n",
              "    <tr>\n",
              "      <th>1</th>\n",
              "      <td>female</td>\n",
              "      <td>1</td>\n",
              "      <td>master's degree</td>\n",
              "      <td>standard</td>\n",
              "      <td>none</td>\n",
              "      <td>1.406250</td>\n",
              "      <td>95</td>\n",
              "      <td>93</td>\n",
              "      <td>94.0</td>\n",
              "      <td>1</td>\n",
              "      <td>0</td>\n",
              "      <td>0.0</td>\n",
              "      <td>0.0</td>\n",
              "      <td>0.0</td>\n",
              "      <td>1.0</td>\n",
              "      <td>0.0</td>\n",
              "      <td>0.0</td>\n",
              "    </tr>\n",
              "    <tr>\n",
              "      <th>2</th>\n",
              "      <td>male</td>\n",
              "      <td>0</td>\n",
              "      <td>associate's degree</td>\n",
              "      <td>free/reduced</td>\n",
              "      <td>none</td>\n",
              "      <td>0.734375</td>\n",
              "      <td>57</td>\n",
              "      <td>44</td>\n",
              "      <td>50.5</td>\n",
              "      <td>0</td>\n",
              "      <td>1</td>\n",
              "      <td>1.0</td>\n",
              "      <td>0.0</td>\n",
              "      <td>0.0</td>\n",
              "      <td>0.0</td>\n",
              "      <td>0.0</td>\n",
              "      <td>0.0</td>\n",
              "    </tr>\n",
              "    <tr>\n",
              "      <th>3</th>\n",
              "      <td>male</td>\n",
              "      <td>2</td>\n",
              "      <td>some college</td>\n",
              "      <td>standard</td>\n",
              "      <td>none</td>\n",
              "      <td>1.187500</td>\n",
              "      <td>78</td>\n",
              "      <td>75</td>\n",
              "      <td>76.5</td>\n",
              "      <td>0</td>\n",
              "      <td>1</td>\n",
              "      <td>0.0</td>\n",
              "      <td>0.0</td>\n",
              "      <td>0.0</td>\n",
              "      <td>0.0</td>\n",
              "      <td>1.0</td>\n",
              "      <td>0.0</td>\n",
              "    </tr>\n",
              "    <tr>\n",
              "      <th>4</th>\n",
              "      <td>female</td>\n",
              "      <td>1</td>\n",
              "      <td>associate's degree</td>\n",
              "      <td>standard</td>\n",
              "      <td>none</td>\n",
              "      <td>1.109375</td>\n",
              "      <td>83</td>\n",
              "      <td>78</td>\n",
              "      <td>80.5</td>\n",
              "      <td>1</td>\n",
              "      <td>0</td>\n",
              "      <td>1.0</td>\n",
              "      <td>0.0</td>\n",
              "      <td>0.0</td>\n",
              "      <td>0.0</td>\n",
              "      <td>0.0</td>\n",
              "      <td>0.0</td>\n",
              "    </tr>\n",
              "  </tbody>\n",
              "</table>\n",
              "</div>\n",
              "      <button class=\"colab-df-convert\" onclick=\"convertToInteractive('df-487b5136-e432-4130-b57f-1d5007976dbf')\"\n",
              "              title=\"Convert this dataframe to an interactive table.\"\n",
              "              style=\"display:none;\">\n",
              "        \n",
              "  <svg xmlns=\"http://www.w3.org/2000/svg\" height=\"24px\"viewBox=\"0 0 24 24\"\n",
              "       width=\"24px\">\n",
              "    <path d=\"M0 0h24v24H0V0z\" fill=\"none\"/>\n",
              "    <path d=\"M18.56 5.44l.94 2.06.94-2.06 2.06-.94-2.06-.94-.94-2.06-.94 2.06-2.06.94zm-11 1L8.5 8.5l.94-2.06 2.06-.94-2.06-.94L8.5 2.5l-.94 2.06-2.06.94zm10 10l.94 2.06.94-2.06 2.06-.94-2.06-.94-.94-2.06-.94 2.06-2.06.94z\"/><path d=\"M17.41 7.96l-1.37-1.37c-.4-.4-.92-.59-1.43-.59-.52 0-1.04.2-1.43.59L10.3 9.45l-7.72 7.72c-.78.78-.78 2.05 0 2.83L4 21.41c.39.39.9.59 1.41.59.51 0 1.02-.2 1.41-.59l7.78-7.78 2.81-2.81c.8-.78.8-2.07 0-2.86zM5.41 20L4 18.59l7.72-7.72 1.47 1.35L5.41 20z\"/>\n",
              "  </svg>\n",
              "      </button>\n",
              "      \n",
              "  <style>\n",
              "    .colab-df-container {\n",
              "      display:flex;\n",
              "      flex-wrap:wrap;\n",
              "      gap: 12px;\n",
              "    }\n",
              "\n",
              "    .colab-df-convert {\n",
              "      background-color: #E8F0FE;\n",
              "      border: none;\n",
              "      border-radius: 50%;\n",
              "      cursor: pointer;\n",
              "      display: none;\n",
              "      fill: #1967D2;\n",
              "      height: 32px;\n",
              "      padding: 0 0 0 0;\n",
              "      width: 32px;\n",
              "    }\n",
              "\n",
              "    .colab-df-convert:hover {\n",
              "      background-color: #E2EBFA;\n",
              "      box-shadow: 0px 1px 2px rgba(60, 64, 67, 0.3), 0px 1px 3px 1px rgba(60, 64, 67, 0.15);\n",
              "      fill: #174EA6;\n",
              "    }\n",
              "\n",
              "    [theme=dark] .colab-df-convert {\n",
              "      background-color: #3B4455;\n",
              "      fill: #D2E3FC;\n",
              "    }\n",
              "\n",
              "    [theme=dark] .colab-df-convert:hover {\n",
              "      background-color: #434B5C;\n",
              "      box-shadow: 0px 1px 3px 1px rgba(0, 0, 0, 0.15);\n",
              "      filter: drop-shadow(0px 1px 2px rgba(0, 0, 0, 0.3));\n",
              "      fill: #FFFFFF;\n",
              "    }\n",
              "  </style>\n",
              "\n",
              "      <script>\n",
              "        const buttonEl =\n",
              "          document.querySelector('#df-487b5136-e432-4130-b57f-1d5007976dbf button.colab-df-convert');\n",
              "        buttonEl.style.display =\n",
              "          google.colab.kernel.accessAllowed ? 'block' : 'none';\n",
              "\n",
              "        async function convertToInteractive(key) {\n",
              "          const element = document.querySelector('#df-487b5136-e432-4130-b57f-1d5007976dbf');\n",
              "          const dataTable =\n",
              "            await google.colab.kernel.invokeFunction('convertToInteractive',\n",
              "                                                     [key], {});\n",
              "          if (!dataTable) return;\n",
              "\n",
              "          const docLinkHtml = 'Like what you see? Visit the ' +\n",
              "            '<a target=\"_blank\" href=https://colab.research.google.com/notebooks/data_table.ipynb>data table notebook</a>'\n",
              "            + ' to learn more about interactive tables.';\n",
              "          element.innerHTML = '';\n",
              "          dataTable['output_type'] = 'display_data';\n",
              "          await google.colab.output.renderOutput(dataTable, element);\n",
              "          const docLink = document.createElement('div');\n",
              "          docLink.innerHTML = docLinkHtml;\n",
              "          element.appendChild(docLink);\n",
              "        }\n",
              "      </script>\n",
              "    </div>\n",
              "  </div>\n",
              "  "
            ],
            "text/plain": [
              "   gender  race/ethnicity  ... some college some high school\n",
              "0  female               2  ...          1.0              0.0\n",
              "1  female               1  ...          0.0              0.0\n",
              "2    male               0  ...          0.0              0.0\n",
              "3    male               2  ...          1.0              0.0\n",
              "4  female               1  ...          0.0              0.0\n",
              "\n",
              "[5 rows x 17 columns]"
            ]
          },
          "execution_count": 70,
          "metadata": {},
          "output_type": "execute_result"
        }
      ],
      "source": [
        "students.head()"
      ]
    },
    {
      "cell_type": "markdown",
      "metadata": {
        "id": "aTOYSvcRHzg5"
      },
      "source": [
        "**`LabelBinarizer`**"
      ]
    },
    {
      "cell_type": "code",
      "execution_count": 71,
      "metadata": {
        "id": "LY3iTXOAHzg5"
      },
      "outputs": [],
      "source": [
        "from sklearn.preprocessing import LabelBinarizer"
      ]
    },
    {
      "cell_type": "code",
      "execution_count": 72,
      "metadata": {
        "id": "z0xsZf2MHzg5"
      },
      "outputs": [],
      "source": [
        "lb_lunch = LabelBinarizer()"
      ]
    },
    {
      "cell_type": "code",
      "execution_count": 73,
      "metadata": {
        "id": "qdNs_Ht5Hzg5"
      },
      "outputs": [],
      "source": [
        "students['lunch'] = lb_lunch.fit_transform(students['lunch'])"
      ]
    },
    {
      "cell_type": "code",
      "execution_count": 74,
      "metadata": {
        "colab": {
          "base_uri": "https://localhost:8080/",
          "height": 391
        },
        "id": "uFlud-E8Hzg5",
        "outputId": "17d74d9a-94c6-4ae0-b474-6bda581f3438"
      },
      "outputs": [
        {
          "data": {
            "text/html": [
              "\n",
              "  <div id=\"df-e1ba6dca-6977-49b2-b4e6-d360124fb030\">\n",
              "    <div class=\"colab-df-container\">\n",
              "      <div>\n",
              "<style scoped>\n",
              "    .dataframe tbody tr th:only-of-type {\n",
              "        vertical-align: middle;\n",
              "    }\n",
              "\n",
              "    .dataframe tbody tr th {\n",
              "        vertical-align: top;\n",
              "    }\n",
              "\n",
              "    .dataframe thead th {\n",
              "        text-align: right;\n",
              "    }\n",
              "</style>\n",
              "<table border=\"1\" class=\"dataframe\">\n",
              "  <thead>\n",
              "    <tr style=\"text-align: right;\">\n",
              "      <th></th>\n",
              "      <th>gender</th>\n",
              "      <th>race/ethnicity</th>\n",
              "      <th>parental level of education</th>\n",
              "      <th>lunch</th>\n",
              "      <th>test preparation course</th>\n",
              "      <th>math score</th>\n",
              "      <th>reading score</th>\n",
              "      <th>writing score</th>\n",
              "      <th>english score</th>\n",
              "      <th>female</th>\n",
              "      <th>male</th>\n",
              "      <th>associate's degree</th>\n",
              "      <th>bachelor's degree</th>\n",
              "      <th>high school</th>\n",
              "      <th>master's degree</th>\n",
              "      <th>some college</th>\n",
              "      <th>some high school</th>\n",
              "    </tr>\n",
              "  </thead>\n",
              "  <tbody>\n",
              "    <tr>\n",
              "      <th>0</th>\n",
              "      <td>female</td>\n",
              "      <td>2</td>\n",
              "      <td>some college</td>\n",
              "      <td>1</td>\n",
              "      <td>completed</td>\n",
              "      <td>1.078125</td>\n",
              "      <td>90</td>\n",
              "      <td>88</td>\n",
              "      <td>89.0</td>\n",
              "      <td>1</td>\n",
              "      <td>0</td>\n",
              "      <td>0.0</td>\n",
              "      <td>0.0</td>\n",
              "      <td>0.0</td>\n",
              "      <td>0.0</td>\n",
              "      <td>1.0</td>\n",
              "      <td>0.0</td>\n",
              "    </tr>\n",
              "    <tr>\n",
              "      <th>1</th>\n",
              "      <td>female</td>\n",
              "      <td>1</td>\n",
              "      <td>master's degree</td>\n",
              "      <td>1</td>\n",
              "      <td>none</td>\n",
              "      <td>1.406250</td>\n",
              "      <td>95</td>\n",
              "      <td>93</td>\n",
              "      <td>94.0</td>\n",
              "      <td>1</td>\n",
              "      <td>0</td>\n",
              "      <td>0.0</td>\n",
              "      <td>0.0</td>\n",
              "      <td>0.0</td>\n",
              "      <td>1.0</td>\n",
              "      <td>0.0</td>\n",
              "      <td>0.0</td>\n",
              "    </tr>\n",
              "    <tr>\n",
              "      <th>2</th>\n",
              "      <td>male</td>\n",
              "      <td>0</td>\n",
              "      <td>associate's degree</td>\n",
              "      <td>0</td>\n",
              "      <td>none</td>\n",
              "      <td>0.734375</td>\n",
              "      <td>57</td>\n",
              "      <td>44</td>\n",
              "      <td>50.5</td>\n",
              "      <td>0</td>\n",
              "      <td>1</td>\n",
              "      <td>1.0</td>\n",
              "      <td>0.0</td>\n",
              "      <td>0.0</td>\n",
              "      <td>0.0</td>\n",
              "      <td>0.0</td>\n",
              "      <td>0.0</td>\n",
              "    </tr>\n",
              "    <tr>\n",
              "      <th>3</th>\n",
              "      <td>male</td>\n",
              "      <td>2</td>\n",
              "      <td>some college</td>\n",
              "      <td>1</td>\n",
              "      <td>none</td>\n",
              "      <td>1.187500</td>\n",
              "      <td>78</td>\n",
              "      <td>75</td>\n",
              "      <td>76.5</td>\n",
              "      <td>0</td>\n",
              "      <td>1</td>\n",
              "      <td>0.0</td>\n",
              "      <td>0.0</td>\n",
              "      <td>0.0</td>\n",
              "      <td>0.0</td>\n",
              "      <td>1.0</td>\n",
              "      <td>0.0</td>\n",
              "    </tr>\n",
              "    <tr>\n",
              "      <th>4</th>\n",
              "      <td>female</td>\n",
              "      <td>1</td>\n",
              "      <td>associate's degree</td>\n",
              "      <td>1</td>\n",
              "      <td>none</td>\n",
              "      <td>1.109375</td>\n",
              "      <td>83</td>\n",
              "      <td>78</td>\n",
              "      <td>80.5</td>\n",
              "      <td>1</td>\n",
              "      <td>0</td>\n",
              "      <td>1.0</td>\n",
              "      <td>0.0</td>\n",
              "      <td>0.0</td>\n",
              "      <td>0.0</td>\n",
              "      <td>0.0</td>\n",
              "      <td>0.0</td>\n",
              "    </tr>\n",
              "  </tbody>\n",
              "</table>\n",
              "</div>\n",
              "      <button class=\"colab-df-convert\" onclick=\"convertToInteractive('df-e1ba6dca-6977-49b2-b4e6-d360124fb030')\"\n",
              "              title=\"Convert this dataframe to an interactive table.\"\n",
              "              style=\"display:none;\">\n",
              "        \n",
              "  <svg xmlns=\"http://www.w3.org/2000/svg\" height=\"24px\"viewBox=\"0 0 24 24\"\n",
              "       width=\"24px\">\n",
              "    <path d=\"M0 0h24v24H0V0z\" fill=\"none\"/>\n",
              "    <path d=\"M18.56 5.44l.94 2.06.94-2.06 2.06-.94-2.06-.94-.94-2.06-.94 2.06-2.06.94zm-11 1L8.5 8.5l.94-2.06 2.06-.94-2.06-.94L8.5 2.5l-.94 2.06-2.06.94zm10 10l.94 2.06.94-2.06 2.06-.94-2.06-.94-.94-2.06-.94 2.06-2.06.94z\"/><path d=\"M17.41 7.96l-1.37-1.37c-.4-.4-.92-.59-1.43-.59-.52 0-1.04.2-1.43.59L10.3 9.45l-7.72 7.72c-.78.78-.78 2.05 0 2.83L4 21.41c.39.39.9.59 1.41.59.51 0 1.02-.2 1.41-.59l7.78-7.78 2.81-2.81c.8-.78.8-2.07 0-2.86zM5.41 20L4 18.59l7.72-7.72 1.47 1.35L5.41 20z\"/>\n",
              "  </svg>\n",
              "      </button>\n",
              "      \n",
              "  <style>\n",
              "    .colab-df-container {\n",
              "      display:flex;\n",
              "      flex-wrap:wrap;\n",
              "      gap: 12px;\n",
              "    }\n",
              "\n",
              "    .colab-df-convert {\n",
              "      background-color: #E8F0FE;\n",
              "      border: none;\n",
              "      border-radius: 50%;\n",
              "      cursor: pointer;\n",
              "      display: none;\n",
              "      fill: #1967D2;\n",
              "      height: 32px;\n",
              "      padding: 0 0 0 0;\n",
              "      width: 32px;\n",
              "    }\n",
              "\n",
              "    .colab-df-convert:hover {\n",
              "      background-color: #E2EBFA;\n",
              "      box-shadow: 0px 1px 2px rgba(60, 64, 67, 0.3), 0px 1px 3px 1px rgba(60, 64, 67, 0.15);\n",
              "      fill: #174EA6;\n",
              "    }\n",
              "\n",
              "    [theme=dark] .colab-df-convert {\n",
              "      background-color: #3B4455;\n",
              "      fill: #D2E3FC;\n",
              "    }\n",
              "\n",
              "    [theme=dark] .colab-df-convert:hover {\n",
              "      background-color: #434B5C;\n",
              "      box-shadow: 0px 1px 3px 1px rgba(0, 0, 0, 0.15);\n",
              "      filter: drop-shadow(0px 1px 2px rgba(0, 0, 0, 0.3));\n",
              "      fill: #FFFFFF;\n",
              "    }\n",
              "  </style>\n",
              "\n",
              "      <script>\n",
              "        const buttonEl =\n",
              "          document.querySelector('#df-e1ba6dca-6977-49b2-b4e6-d360124fb030 button.colab-df-convert');\n",
              "        buttonEl.style.display =\n",
              "          google.colab.kernel.accessAllowed ? 'block' : 'none';\n",
              "\n",
              "        async function convertToInteractive(key) {\n",
              "          const element = document.querySelector('#df-e1ba6dca-6977-49b2-b4e6-d360124fb030');\n",
              "          const dataTable =\n",
              "            await google.colab.kernel.invokeFunction('convertToInteractive',\n",
              "                                                     [key], {});\n",
              "          if (!dataTable) return;\n",
              "\n",
              "          const docLinkHtml = 'Like what you see? Visit the ' +\n",
              "            '<a target=\"_blank\" href=https://colab.research.google.com/notebooks/data_table.ipynb>data table notebook</a>'\n",
              "            + ' to learn more about interactive tables.';\n",
              "          element.innerHTML = '';\n",
              "          dataTable['output_type'] = 'display_data';\n",
              "          await google.colab.output.renderOutput(dataTable, element);\n",
              "          const docLink = document.createElement('div');\n",
              "          docLink.innerHTML = docLinkHtml;\n",
              "          element.appendChild(docLink);\n",
              "        }\n",
              "      </script>\n",
              "    </div>\n",
              "  </div>\n",
              "  "
            ],
            "text/plain": [
              "   gender  race/ethnicity  ... some college  some high school\n",
              "0  female               2  ...          1.0               0.0\n",
              "1  female               1  ...          0.0               0.0\n",
              "2    male               0  ...          0.0               0.0\n",
              "3    male               2  ...          1.0               0.0\n",
              "4  female               1  ...          0.0               0.0\n",
              "\n",
              "[5 rows x 17 columns]"
            ]
          },
          "execution_count": 74,
          "metadata": {},
          "output_type": "execute_result"
        }
      ],
      "source": [
        "students.head()"
      ]
    },
    {
      "cell_type": "code",
      "execution_count": 75,
      "metadata": {
        "id": "qT0a-yCyHzg6"
      },
      "outputs": [],
      "source": [
        "students.drop(['gender', 'parental level of education'], axis=1, inplace=True)"
      ]
    },
    {
      "cell_type": "code",
      "execution_count": 76,
      "metadata": {
        "colab": {
          "base_uri": "https://localhost:8080/",
          "height": 285
        },
        "id": "8l8RdNPWHzg6",
        "outputId": "136c362e-11e9-4150-da57-de185c695061"
      },
      "outputs": [
        {
          "data": {
            "text/html": [
              "\n",
              "  <div id=\"df-80b2feab-17be-49d8-9829-f7249dadc82f\">\n",
              "    <div class=\"colab-df-container\">\n",
              "      <div>\n",
              "<style scoped>\n",
              "    .dataframe tbody tr th:only-of-type {\n",
              "        vertical-align: middle;\n",
              "    }\n",
              "\n",
              "    .dataframe tbody tr th {\n",
              "        vertical-align: top;\n",
              "    }\n",
              "\n",
              "    .dataframe thead th {\n",
              "        text-align: right;\n",
              "    }\n",
              "</style>\n",
              "<table border=\"1\" class=\"dataframe\">\n",
              "  <thead>\n",
              "    <tr style=\"text-align: right;\">\n",
              "      <th></th>\n",
              "      <th>race/ethnicity</th>\n",
              "      <th>lunch</th>\n",
              "      <th>test preparation course</th>\n",
              "      <th>math score</th>\n",
              "      <th>reading score</th>\n",
              "      <th>writing score</th>\n",
              "      <th>english score</th>\n",
              "      <th>female</th>\n",
              "      <th>male</th>\n",
              "      <th>associate's degree</th>\n",
              "      <th>bachelor's degree</th>\n",
              "      <th>high school</th>\n",
              "      <th>master's degree</th>\n",
              "      <th>some college</th>\n",
              "      <th>some high school</th>\n",
              "    </tr>\n",
              "  </thead>\n",
              "  <tbody>\n",
              "    <tr>\n",
              "      <th>0</th>\n",
              "      <td>2</td>\n",
              "      <td>1</td>\n",
              "      <td>completed</td>\n",
              "      <td>1.078125</td>\n",
              "      <td>90</td>\n",
              "      <td>88</td>\n",
              "      <td>89.0</td>\n",
              "      <td>1</td>\n",
              "      <td>0</td>\n",
              "      <td>0.0</td>\n",
              "      <td>0.0</td>\n",
              "      <td>0.0</td>\n",
              "      <td>0.0</td>\n",
              "      <td>1.0</td>\n",
              "      <td>0.0</td>\n",
              "    </tr>\n",
              "    <tr>\n",
              "      <th>1</th>\n",
              "      <td>1</td>\n",
              "      <td>1</td>\n",
              "      <td>none</td>\n",
              "      <td>1.406250</td>\n",
              "      <td>95</td>\n",
              "      <td>93</td>\n",
              "      <td>94.0</td>\n",
              "      <td>1</td>\n",
              "      <td>0</td>\n",
              "      <td>0.0</td>\n",
              "      <td>0.0</td>\n",
              "      <td>0.0</td>\n",
              "      <td>1.0</td>\n",
              "      <td>0.0</td>\n",
              "      <td>0.0</td>\n",
              "    </tr>\n",
              "    <tr>\n",
              "      <th>2</th>\n",
              "      <td>0</td>\n",
              "      <td>0</td>\n",
              "      <td>none</td>\n",
              "      <td>0.734375</td>\n",
              "      <td>57</td>\n",
              "      <td>44</td>\n",
              "      <td>50.5</td>\n",
              "      <td>0</td>\n",
              "      <td>1</td>\n",
              "      <td>1.0</td>\n",
              "      <td>0.0</td>\n",
              "      <td>0.0</td>\n",
              "      <td>0.0</td>\n",
              "      <td>0.0</td>\n",
              "      <td>0.0</td>\n",
              "    </tr>\n",
              "    <tr>\n",
              "      <th>3</th>\n",
              "      <td>2</td>\n",
              "      <td>1</td>\n",
              "      <td>none</td>\n",
              "      <td>1.187500</td>\n",
              "      <td>78</td>\n",
              "      <td>75</td>\n",
              "      <td>76.5</td>\n",
              "      <td>0</td>\n",
              "      <td>1</td>\n",
              "      <td>0.0</td>\n",
              "      <td>0.0</td>\n",
              "      <td>0.0</td>\n",
              "      <td>0.0</td>\n",
              "      <td>1.0</td>\n",
              "      <td>0.0</td>\n",
              "    </tr>\n",
              "    <tr>\n",
              "      <th>4</th>\n",
              "      <td>1</td>\n",
              "      <td>1</td>\n",
              "      <td>none</td>\n",
              "      <td>1.109375</td>\n",
              "      <td>83</td>\n",
              "      <td>78</td>\n",
              "      <td>80.5</td>\n",
              "      <td>1</td>\n",
              "      <td>0</td>\n",
              "      <td>1.0</td>\n",
              "      <td>0.0</td>\n",
              "      <td>0.0</td>\n",
              "      <td>0.0</td>\n",
              "      <td>0.0</td>\n",
              "      <td>0.0</td>\n",
              "    </tr>\n",
              "  </tbody>\n",
              "</table>\n",
              "</div>\n",
              "      <button class=\"colab-df-convert\" onclick=\"convertToInteractive('df-80b2feab-17be-49d8-9829-f7249dadc82f')\"\n",
              "              title=\"Convert this dataframe to an interactive table.\"\n",
              "              style=\"display:none;\">\n",
              "        \n",
              "  <svg xmlns=\"http://www.w3.org/2000/svg\" height=\"24px\"viewBox=\"0 0 24 24\"\n",
              "       width=\"24px\">\n",
              "    <path d=\"M0 0h24v24H0V0z\" fill=\"none\"/>\n",
              "    <path d=\"M18.56 5.44l.94 2.06.94-2.06 2.06-.94-2.06-.94-.94-2.06-.94 2.06-2.06.94zm-11 1L8.5 8.5l.94-2.06 2.06-.94-2.06-.94L8.5 2.5l-.94 2.06-2.06.94zm10 10l.94 2.06.94-2.06 2.06-.94-2.06-.94-.94-2.06-.94 2.06-2.06.94z\"/><path d=\"M17.41 7.96l-1.37-1.37c-.4-.4-.92-.59-1.43-.59-.52 0-1.04.2-1.43.59L10.3 9.45l-7.72 7.72c-.78.78-.78 2.05 0 2.83L4 21.41c.39.39.9.59 1.41.59.51 0 1.02-.2 1.41-.59l7.78-7.78 2.81-2.81c.8-.78.8-2.07 0-2.86zM5.41 20L4 18.59l7.72-7.72 1.47 1.35L5.41 20z\"/>\n",
              "  </svg>\n",
              "      </button>\n",
              "      \n",
              "  <style>\n",
              "    .colab-df-container {\n",
              "      display:flex;\n",
              "      flex-wrap:wrap;\n",
              "      gap: 12px;\n",
              "    }\n",
              "\n",
              "    .colab-df-convert {\n",
              "      background-color: #E8F0FE;\n",
              "      border: none;\n",
              "      border-radius: 50%;\n",
              "      cursor: pointer;\n",
              "      display: none;\n",
              "      fill: #1967D2;\n",
              "      height: 32px;\n",
              "      padding: 0 0 0 0;\n",
              "      width: 32px;\n",
              "    }\n",
              "\n",
              "    .colab-df-convert:hover {\n",
              "      background-color: #E2EBFA;\n",
              "      box-shadow: 0px 1px 2px rgba(60, 64, 67, 0.3), 0px 1px 3px 1px rgba(60, 64, 67, 0.15);\n",
              "      fill: #174EA6;\n",
              "    }\n",
              "\n",
              "    [theme=dark] .colab-df-convert {\n",
              "      background-color: #3B4455;\n",
              "      fill: #D2E3FC;\n",
              "    }\n",
              "\n",
              "    [theme=dark] .colab-df-convert:hover {\n",
              "      background-color: #434B5C;\n",
              "      box-shadow: 0px 1px 3px 1px rgba(0, 0, 0, 0.15);\n",
              "      filter: drop-shadow(0px 1px 2px rgba(0, 0, 0, 0.3));\n",
              "      fill: #FFFFFF;\n",
              "    }\n",
              "  </style>\n",
              "\n",
              "      <script>\n",
              "        const buttonEl =\n",
              "          document.querySelector('#df-80b2feab-17be-49d8-9829-f7249dadc82f button.colab-df-convert');\n",
              "        buttonEl.style.display =\n",
              "          google.colab.kernel.accessAllowed ? 'block' : 'none';\n",
              "\n",
              "        async function convertToInteractive(key) {\n",
              "          const element = document.querySelector('#df-80b2feab-17be-49d8-9829-f7249dadc82f');\n",
              "          const dataTable =\n",
              "            await google.colab.kernel.invokeFunction('convertToInteractive',\n",
              "                                                     [key], {});\n",
              "          if (!dataTable) return;\n",
              "\n",
              "          const docLinkHtml = 'Like what you see? Visit the ' +\n",
              "            '<a target=\"_blank\" href=https://colab.research.google.com/notebooks/data_table.ipynb>data table notebook</a>'\n",
              "            + ' to learn more about interactive tables.';\n",
              "          element.innerHTML = '';\n",
              "          dataTable['output_type'] = 'display_data';\n",
              "          await google.colab.output.renderOutput(dataTable, element);\n",
              "          const docLink = document.createElement('div');\n",
              "          docLink.innerHTML = docLinkHtml;\n",
              "          element.appendChild(docLink);\n",
              "        }\n",
              "      </script>\n",
              "    </div>\n",
              "  </div>\n",
              "  "
            ],
            "text/plain": [
              "   race/ethnicity  lunch  ... some college  some high school\n",
              "0               2      1  ...          1.0               0.0\n",
              "1               1      1  ...          0.0               0.0\n",
              "2               0      0  ...          0.0               0.0\n",
              "3               2      1  ...          1.0               0.0\n",
              "4               1      1  ...          0.0               0.0\n",
              "\n",
              "[5 rows x 15 columns]"
            ]
          },
          "execution_count": 76,
          "metadata": {},
          "output_type": "execute_result"
        }
      ],
      "source": [
        "students.head()"
      ]
    },
    {
      "cell_type": "markdown",
      "metadata": {
        "id": "V5Shjs4SHzg6"
      },
      "source": [
        "**`binning`**"
      ]
    },
    {
      "cell_type": "code",
      "execution_count": 77,
      "metadata": {
        "id": "gJhC6AKkHzg6"
      },
      "outputs": [],
      "source": [
        "bins_score = [0, 60, 70, 80, 90, 100]\n",
        "score_categorias = pd.cut(students['reading score'], bins=bins_score, \n",
        "                          labels=['desaprobado', 'regular', 'bien', 'muy bien', 'sobresaliente'])"
      ]
    },
    {
      "cell_type": "code",
      "execution_count": 78,
      "metadata": {
        "colab": {
          "base_uri": "https://localhost:8080/"
        },
        "id": "bz6JQzSGHzg6",
        "outputId": "9cf493af-90b7-4120-c53d-6b9db6abfa18"
      },
      "outputs": [
        {
          "data": {
            "text/plain": [
              "0           muy bien\n",
              "1      sobresaliente\n",
              "2        desaprobado\n",
              "3               bien\n",
              "4           muy bien\n",
              "           ...      \n",
              "957    sobresaliente\n",
              "958      desaprobado\n",
              "959             bien\n",
              "960             bien\n",
              "961         muy bien\n",
              "Name: reading score, Length: 962, dtype: category\n",
              "Categories (5, object): ['desaprobado' < 'regular' < 'bien' < 'muy bien' < 'sobresaliente']"
            ]
          },
          "execution_count": 78,
          "metadata": {},
          "output_type": "execute_result"
        }
      ],
      "source": [
        "score_categorias"
      ]
    },
    {
      "cell_type": "code",
      "execution_count": 79,
      "metadata": {
        "colab": {
          "base_uri": "https://localhost:8080/",
          "height": 335
        },
        "id": "gDG_43SWHzg6",
        "outputId": "1609079d-729a-4b1e-bf73-d0df494b12e7"
      },
      "outputs": [
        {
          "name": "stderr",
          "output_type": "stream",
          "text": [
            "/usr/local/lib/python3.7/dist-packages/seaborn/_decorators.py:43: FutureWarning: Pass the following variable as a keyword arg: x. From version 0.12, the only valid positional argument will be `data`, and passing other arguments without an explicit keyword will result in an error or misinterpretation.\n",
            "  FutureWarning\n"
          ]
        },
        {
          "data": {
            "image/png": "[encoded data removed]",
            "text/plain": [
              "<Figure size 432x288 with 1 Axes>"
            ]
          },
          "metadata": {
            "needs_background": "light"
          },
          "output_type": "display_data"
        }
      ],
      "source": [
        "sns.countplot(score_categorias, palette='Purples')\n",
        "sns.despine()"
      ]
    },
    {
      "cell_type": "markdown",
      "metadata": {
        "id": "TFO4woX4Hzg6"
      },
      "source": [
        "**`KBinsDiscretizer`**"
      ]
    },
    {
      "cell_type": "markdown",
      "metadata": {
        "id": "j2WR4jwiHzg6"
      },
      "source": [
        "[documentacion](https://scikit-learn.org/stable/modules/generated/sklearn.preprocessing.KBinsDiscretizer.html)"
      ]
    },
    {
      "cell_type": "code",
      "execution_count": 80,
      "metadata": {
        "id": "9-8McvxKHzg6"
      },
      "outputs": [],
      "source": [
        "from sklearn.preprocessing import KBinsDiscretizer"
      ]
    },
    {
      "cell_type": "code",
      "execution_count": 82,
      "metadata": {
        "id": "OzhdhsNFHzg6"
      },
      "outputs": [],
      "source": [
        "kbins = KBinsDiscretizer(n_bins=6, encode='ordinal', strategy='quantile')"
      ]
    },
    {
      "cell_type": "code",
      "execution_count": 85,
      "metadata": {
        "id": "UP2P2z-gHzg6"
      },
      "outputs": [],
      "source": [
        "bins = kbins.fit_transform(students[['reading score']]).flatten()"
      ]
    },
    {
      "cell_type": "code",
      "execution_count": 86,
      "metadata": {
        "colab": {
          "base_uri": "https://localhost:8080/"
        },
        "id": "Zb8-Q-OWHzg7",
        "outputId": "a83ac8ef-7485-4059-d5c9-caea67412b18"
      },
      "outputs": [
        {
          "data": {
            "text/plain": [
              "array([5., 5., 1., 4., 4., 5., 0., 2., 1., 0., 0., 4., 3., 0., 3., 5., 0.,\n",
              "       1., 2., 3., 0., 3., 3., 3., 0., 2., 3., 3., 3., 2., 3., 0., 5., 4.,\n",
              "       4., 2., 5., 1., 1., 3., 1., 2., 1., 0., 2., 3., 3., 5., 2., 0., 4.,\n",
              "       5., 0., 5., 0., 1., 3., 0., 1., 4., 1., 2., 0., 3., 1., 2., 1., 0.,\n",
              "       0., 1., 0., 0., 4., 3., 2., 0., 0., 0., 2., 0., 4., 4., 3., 3., 5.,\n",
              "       3., 4., 0., 5., 4., 2., 3., 2., 2., 2., 3., 5., 0., 2., 5., 1., 4.,\n",
              "       2., 5., 0., 0., 1., 5., 4., 5., 4., 1., 2., 5., 5., 5., 1., 4., 5.,\n",
              "       2., 4., 4., 0., 5., 0., 3., 4., 4., 0., 0., 0., 2., 1., 3., 1., 0.,\n",
              "       0., 3., 5., 2., 3., 5., 2., 2., 3., 0., 2., 5., 3., 1., 5., 1., 4.,\n",
              "       5., 0., 0., 5., 0., 4., 4., 3., 3., 5., 5., 2., 0., 5., 0., 4., 3.,\n",
              "       5., 2., 2., 0., 2., 0., 2., 4., 2., 0., 5., 2., 4., 1., 5., 0., 2.,\n",
              "       1., 0., 4., 5., 4., 4., 2., 0., 3., 1., 4., 4., 1., 4., 1., 0., 5.,\n",
              "       4., 5., 0., 4., 1., 2., 5., 2., 4., 2., 1., 3., 0., 3., 5., 2., 0.,\n",
              "       5., 5., 4., 3., 2., 1., 0., 4., 2., 4., 0., 0., 3., 4., 4., 3., 2.,\n",
              "       1., 0., 4., 3., 4., 0., 3., 3., 4., 3., 4., 4., 4., 0., 5., 3., 0.,\n",
              "       3., 3., 4., 1., 0., 0., 3., 5., 4., 5., 1., 5., 1., 0., 0., 4., 4.,\n",
              "       0., 4., 4., 5., 3., 4., 3., 3., 1., 3., 4., 1., 3., 0., 5., 4., 0.,\n",
              "       5., 4., 3., 2., 5., 0., 3., 1., 4., 1., 1., 2., 2., 2., 4., 3., 3.,\n",
              "       2., 4., 5., 4., 0., 0., 5., 1., 3., 0., 1., 0., 1., 4., 5., 2., 3.,\n",
              "       0., 0., 1., 3., 4., 3., 3., 4., 1., 5., 3., 3., 2., 1., 4., 1., 3.,\n",
              "       3., 1., 2., 1., 5., 1., 5., 1., 1., 1., 1., 2., 2., 5., 4., 3., 3.,\n",
              "       5., 3., 0., 5., 5., 4., 2., 5., 5., 4., 0., 0., 4., 3., 4., 2., 3.,\n",
              "       2., 2., 0., 3., 0., 2., 5., 1., 1., 0., 0., 2., 5., 1., 3., 2., 4.,\n",
              "       1., 5., 3., 4., 2., 2., 3., 3., 3., 3., 1., 1., 5., 1., 1., 5., 0.,\n",
              "       2., 4., 3., 1., 2., 3., 1., 1., 2., 0., 2., 2., 1., 5., 4., 4., 3.,\n",
              "       4., 4., 3., 2., 4., 0., 3., 5., 5., 4., 1., 1., 1., 5., 0., 5., 2.,\n",
              "       1., 0., 3., 5., 1., 5., 2., 5., 3., 5., 2., 5., 2., 5., 4., 1., 2.,\n",
              "       2., 3., 3., 1., 2., 0., 0., 3., 0., 3., 0., 4., 5., 2., 4., 5., 2.,\n",
              "       2., 0., 4., 2., 3., 4., 5., 1., 5., 1., 4., 3., 1., 4., 5., 3., 0.,\n",
              "       0., 1., 5., 5., 5., 3., 4., 4., 0., 5., 1., 1., 0., 1., 1., 0., 0.,\n",
              "       3., 2., 0., 1., 5., 2., 4., 1., 2., 2., 5., 2., 4., 5., 1., 4., 5.,\n",
              "       2., 2., 3., 4., 5., 0., 1., 0., 0., 3., 2., 3., 2., 3., 3., 5., 4.,\n",
              "       0., 0., 5., 3., 0., 2., 3., 5., 1., 2., 4., 0., 0., 5., 1., 1., 5.,\n",
              "       4., 3., 3., 4., 4., 3., 1., 2., 2., 1., 1., 2., 4., 5., 4., 0., 4.,\n",
              "       4., 1., 4., 1., 5., 3., 5., 1., 2., 1., 1., 1., 5., 4., 5., 2., 0.,\n",
              "       4., 4., 3., 1., 1., 0., 5., 1., 5., 3., 0., 1., 0., 2., 1., 3., 5.,\n",
              "       5., 3., 4., 5., 4., 3., 0., 5., 4., 4., 2., 4., 3., 1., 0., 4., 1.,\n",
              "       4., 5., 3., 4., 2., 2., 2., 1., 5., 4., 2., 3., 2., 1., 1., 3., 5.,\n",
              "       3., 3., 4., 1., 4., 5., 4., 4., 4., 3., 1., 3., 2., 0., 0., 2., 5.,\n",
              "       3., 4., 1., 5., 0., 4., 3., 4., 1., 5., 3., 4., 2., 4., 2., 5., 2.,\n",
              "       1., 3., 1., 5., 1., 5., 5., 5., 4., 3., 5., 4., 4., 3., 3., 1., 5.,\n",
              "       0., 3., 3., 0., 5., 0., 4., 0., 5., 0., 1., 1., 4., 2., 3., 1., 3.,\n",
              "       1., 5., 3., 0., 4., 3., 2., 1., 5., 2., 3., 4., 5., 0., 5., 1., 2.,\n",
              "       1., 4., 3., 1., 4., 1., 1., 3., 3., 1., 3., 1., 0., 3., 2., 4., 2.,\n",
              "       1., 3., 0., 4., 5., 1., 5., 5., 1., 4., 0., 4., 2., 2., 1., 2., 3.,\n",
              "       5., 0., 2., 3., 5., 1., 0., 3., 4., 5., 4., 4., 3., 0., 3., 0., 0.,\n",
              "       2., 5., 5., 1., 3., 3., 5., 5., 5., 0., 5., 1., 2., 2., 2., 5., 0.,\n",
              "       1., 5., 1., 4., 0., 2., 2., 1., 4., 0., 1., 4., 2., 5., 5., 0., 3.,\n",
              "       2., 2., 5., 2., 2., 5., 2., 4., 0., 3., 1., 5., 0., 3., 5., 4., 0.,\n",
              "       0., 3., 0., 1., 3., 5., 5., 1., 2., 4., 1., 3., 4., 2., 3., 3., 0.,\n",
              "       0., 4., 5., 3., 2., 0., 5., 5., 2., 3., 1., 0., 4., 0., 4., 5., 4.,\n",
              "       0., 5., 5., 4., 0., 5., 3., 2., 0., 5., 1., 1., 1., 3., 5., 1., 4.,\n",
              "       5., 3., 0., 2., 2., 3., 2., 1., 1., 0., 1., 3., 1., 3., 3., 5., 1.,\n",
              "       1., 1., 4., 2., 2., 5., 2., 1., 2., 1., 4., 0., 3., 3., 4., 3., 0.,\n",
              "       2., 1., 5., 5., 1., 4., 1., 0., 5., 4., 1., 3., 2., 1., 4., 5., 5.,\n",
              "       3., 0., 2., 1., 4., 1., 2., 0., 5., 5., 5., 3., 0., 1., 3., 0., 5.,\n",
              "       4., 4., 4., 3., 1., 5., 0., 3., 4., 5.])"
            ]
          },
          "execution_count": 86,
          "metadata": {},
          "output_type": "execute_result"
        }
      ],
      "source": [
        "bins"
      ]
    },
    {
      "cell_type": "code",
      "execution_count": 87,
      "metadata": {
        "colab": {
          "base_uri": "https://localhost:8080/",
          "height": 321
        },
        "id": "KPpUH8A1Hzg7",
        "outputId": "5bffa8b8-8c4e-48f5-ef97-d46d188467a4"
      },
      "outputs": [
        {
          "name": "stderr",
          "output_type": "stream",
          "text": [
            "/usr/local/lib/python3.7/dist-packages/seaborn/_decorators.py:43: FutureWarning: Pass the following variable as a keyword arg: x. From version 0.12, the only valid positional argument will be `data`, and passing other arguments without an explicit keyword will result in an error or misinterpretation.\n",
            "  FutureWarning\n"
          ]
        },
        {
          "data": {
            "image/png": "[encoded data removed]",
            "text/plain": [
              "<Figure size 432x288 with 1 Axes>"
            ]
          },
          "metadata": {
            "needs_background": "light"
          },
          "output_type": "display_data"
        }
      ],
      "source": [
        "sns.countplot(bins, palette='summer')\n",
        "sns.despine()"
      ]
    },
    {
      "cell_type": "markdown",
      "metadata": {
        "id": "5LxLDvfRHzg7"
      },
      "source": [
        "#### ESTANDARIZACIÓN DE DATOS"
      ]
    },
    {
      "cell_type": "code",
      "execution_count": 88,
      "metadata": {
        "id": "Nof8m-wRHzg7"
      },
      "outputs": [],
      "source": [
        "from sklearn.preprocessing import MinMaxScaler"
      ]
    },
    {
      "cell_type": "code",
      "execution_count": 89,
      "metadata": {
        "id": "dCJmc_SiHzg7"
      },
      "outputs": [],
      "source": [
        "scaler = MinMaxScaler(feature_range=(0, 100))"
      ]
    },
    {
      "cell_type": "code",
      "execution_count": 90,
      "metadata": {
        "id": "kIohmwAWHzg7"
      },
      "outputs": [],
      "source": [
        "students['math score'] = scaler.fit_transform(students[['math score']])"
      ]
    },
    {
      "cell_type": "code",
      "execution_count": 91,
      "metadata": {
        "colab": {
          "base_uri": "https://localhost:8080/",
          "height": 285
        },
        "id": "kTjDgR7tHzg7",
        "outputId": "c10b4e89-6482-4729-9fd0-0aab1ac208be"
      },
      "outputs": [
        {
          "data": {
            "text/html": [
              "\n",
              "  <div id=\"df-d36e0fcb-59e1-4b21-8d28-a04e74f6de23\">\n",
              "    <div class=\"colab-df-container\">\n",
              "      <div>\n",
              "<style scoped>\n",
              "    .dataframe tbody tr th:only-of-type {\n",
              "        vertical-align: middle;\n",
              "    }\n",
              "\n",
              "    .dataframe tbody tr th {\n",
              "        vertical-align: top;\n",
              "    }\n",
              "\n",
              "    .dataframe thead th {\n",
              "        text-align: right;\n",
              "    }\n",
              "</style>\n",
              "<table border=\"1\" class=\"dataframe\">\n",
              "  <thead>\n",
              "    <tr style=\"text-align: right;\">\n",
              "      <th></th>\n",
              "      <th>race/ethnicity</th>\n",
              "      <th>lunch</th>\n",
              "      <th>test preparation course</th>\n",
              "      <th>math score</th>\n",
              "      <th>reading score</th>\n",
              "      <th>writing score</th>\n",
              "      <th>english score</th>\n",
              "      <th>female</th>\n",
              "      <th>male</th>\n",
              "      <th>associate's degree</th>\n",
              "      <th>bachelor's degree</th>\n",
              "      <th>high school</th>\n",
              "      <th>master's degree</th>\n",
              "      <th>some college</th>\n",
              "      <th>some high school</th>\n",
              "    </tr>\n",
              "  </thead>\n",
              "  <tbody>\n",
              "    <tr>\n",
              "      <th>0</th>\n",
              "      <td>2</td>\n",
              "      <td>1</td>\n",
              "      <td>completed</td>\n",
              "      <td>56.338028</td>\n",
              "      <td>90</td>\n",
              "      <td>88</td>\n",
              "      <td>89.0</td>\n",
              "      <td>1</td>\n",
              "      <td>0</td>\n",
              "      <td>0.0</td>\n",
              "      <td>0.0</td>\n",
              "      <td>0.0</td>\n",
              "      <td>0.0</td>\n",
              "      <td>1.0</td>\n",
              "      <td>0.0</td>\n",
              "    </tr>\n",
              "    <tr>\n",
              "      <th>1</th>\n",
              "      <td>1</td>\n",
              "      <td>1</td>\n",
              "      <td>none</td>\n",
              "      <td>85.915493</td>\n",
              "      <td>95</td>\n",
              "      <td>93</td>\n",
              "      <td>94.0</td>\n",
              "      <td>1</td>\n",
              "      <td>0</td>\n",
              "      <td>0.0</td>\n",
              "      <td>0.0</td>\n",
              "      <td>0.0</td>\n",
              "      <td>1.0</td>\n",
              "      <td>0.0</td>\n",
              "      <td>0.0</td>\n",
              "    </tr>\n",
              "    <tr>\n",
              "      <th>2</th>\n",
              "      <td>0</td>\n",
              "      <td>0</td>\n",
              "      <td>none</td>\n",
              "      <td>25.352113</td>\n",
              "      <td>57</td>\n",
              "      <td>44</td>\n",
              "      <td>50.5</td>\n",
              "      <td>0</td>\n",
              "      <td>1</td>\n",
              "      <td>1.0</td>\n",
              "      <td>0.0</td>\n",
              "      <td>0.0</td>\n",
              "      <td>0.0</td>\n",
              "      <td>0.0</td>\n",
              "      <td>0.0</td>\n",
              "    </tr>\n",
              "    <tr>\n",
              "      <th>3</th>\n",
              "      <td>2</td>\n",
              "      <td>1</td>\n",
              "      <td>none</td>\n",
              "      <td>66.197183</td>\n",
              "      <td>78</td>\n",
              "      <td>75</td>\n",
              "      <td>76.5</td>\n",
              "      <td>0</td>\n",
              "      <td>1</td>\n",
              "      <td>0.0</td>\n",
              "      <td>0.0</td>\n",
              "      <td>0.0</td>\n",
              "      <td>0.0</td>\n",
              "      <td>1.0</td>\n",
              "      <td>0.0</td>\n",
              "    </tr>\n",
              "    <tr>\n",
              "      <th>4</th>\n",
              "      <td>1</td>\n",
              "      <td>1</td>\n",
              "      <td>none</td>\n",
              "      <td>59.154930</td>\n",
              "      <td>83</td>\n",
              "      <td>78</td>\n",
              "      <td>80.5</td>\n",
              "      <td>1</td>\n",
              "      <td>0</td>\n",
              "      <td>1.0</td>\n",
              "      <td>0.0</td>\n",
              "      <td>0.0</td>\n",
              "      <td>0.0</td>\n",
              "      <td>0.0</td>\n",
              "      <td>0.0</td>\n",
              "    </tr>\n",
              "  </tbody>\n",
              "</table>\n",
              "</div>\n",
              "      <button class=\"colab-df-convert\" onclick=\"convertToInteractive('df-d36e0fcb-59e1-4b21-8d28-a04e74f6de23')\"\n",
              "              title=\"Convert this dataframe to an interactive table.\"\n",
              "              style=\"display:none;\">\n",
              "        \n",
              "  <svg xmlns=\"http://www.w3.org/2000/svg\" height=\"24px\"viewBox=\"0 0 24 24\"\n",
              "       width=\"24px\">\n",
              "    <path d=\"M0 0h24v24H0V0z\" fill=\"none\"/>\n",
              "    <path d=\"M18.56 5.44l.94 2.06.94-2.06 2.06-.94-2.06-.94-.94-2.06-.94 2.06-2.06.94zm-11 1L8.5 8.5l.94-2.06 2.06-.94-2.06-.94L8.5 2.5l-.94 2.06-2.06.94zm10 10l.94 2.06.94-2.06 2.06-.94-2.06-.94-.94-2.06-.94 2.06-2.06.94z\"/><path d=\"M17.41 7.96l-1.37-1.37c-.4-.4-.92-.59-1.43-.59-.52 0-1.04.2-1.43.59L10.3 9.45l-7.72 7.72c-.78.78-.78 2.05 0 2.83L4 21.41c.39.39.9.59 1.41.59.51 0 1.02-.2 1.41-.59l7.78-7.78 2.81-2.81c.8-.78.8-2.07 0-2.86zM5.41 20L4 18.59l7.72-7.72 1.47 1.35L5.41 20z\"/>\n",
              "  </svg>\n",
              "      </button>\n",
              "      \n",
              "  <style>\n",
              "    .colab-df-container {\n",
              "      display:flex;\n",
              "      flex-wrap:wrap;\n",
              "      gap: 12px;\n",
              "    }\n",
              "\n",
              "    .colab-df-convert {\n",
              "      background-color: #E8F0FE;\n",
              "      border: none;\n",
              "      border-radius: 50%;\n",
              "      cursor: pointer;\n",
              "      display: none;\n",
              "      fill: #1967D2;\n",
              "      height: 32px;\n",
              "      padding: 0 0 0 0;\n",
              "      width: 32px;\n",
              "    }\n",
              "\n",
              "    .colab-df-convert:hover {\n",
              "      background-color: #E2EBFA;\n",
              "      box-shadow: 0px 1px 2px rgba(60, 64, 67, 0.3), 0px 1px 3px 1px rgba(60, 64, 67, 0.15);\n",
              "      fill: #174EA6;\n",
              "    }\n",
              "\n",
              "    [theme=dark] .colab-df-convert {\n",
              "      background-color: #3B4455;\n",
              "      fill: #D2E3FC;\n",
              "    }\n",
              "\n",
              "    [theme=dark] .colab-df-convert:hover {\n",
              "      background-color: #434B5C;\n",
              "      box-shadow: 0px 1px 3px 1px rgba(0, 0, 0, 0.15);\n",
              "      filter: drop-shadow(0px 1px 2px rgba(0, 0, 0, 0.3));\n",
              "      fill: #FFFFFF;\n",
              "    }\n",
              "  </style>\n",
              "\n",
              "      <script>\n",
              "        const buttonEl =\n",
              "          document.querySelector('#df-d36e0fcb-59e1-4b21-8d28-a04e74f6de23 button.colab-df-convert');\n",
              "        buttonEl.style.display =\n",
              "          google.colab.kernel.accessAllowed ? 'block' : 'none';\n",
              "\n",
              "        async function convertToInteractive(key) {\n",
              "          const element = document.querySelector('#df-d36e0fcb-59e1-4b21-8d28-a04e74f6de23');\n",
              "          const dataTable =\n",
              "            await google.colab.kernel.invokeFunction('convertToInteractive',\n",
              "                                                     [key], {});\n",
              "          if (!dataTable) return;\n",
              "\n",
              "          const docLinkHtml = 'Like what you see? Visit the ' +\n",
              "            '<a target=\"_blank\" href=https://colab.research.google.com/notebooks/data_table.ipynb>data table notebook</a>'\n",
              "            + ' to learn more about interactive tables.';\n",
              "          element.innerHTML = '';\n",
              "          dataTable['output_type'] = 'display_data';\n",
              "          await google.colab.output.renderOutput(dataTable, element);\n",
              "          const docLink = document.createElement('div');\n",
              "          docLink.innerHTML = docLinkHtml;\n",
              "          element.appendChild(docLink);\n",
              "        }\n",
              "      </script>\n",
              "    </div>\n",
              "  </div>\n",
              "  "
            ],
            "text/plain": [
              "   race/ethnicity  lunch  ... some college  some high school\n",
              "0               2      1  ...          1.0               0.0\n",
              "1               1      1  ...          0.0               0.0\n",
              "2               0      0  ...          0.0               0.0\n",
              "3               2      1  ...          1.0               0.0\n",
              "4               1      1  ...          0.0               0.0\n",
              "\n",
              "[5 rows x 15 columns]"
            ]
          },
          "execution_count": 91,
          "metadata": {},
          "output_type": "execute_result"
        }
      ],
      "source": [
        "students.head()"
      ]
    },
    {
      "cell_type": "code",
      "execution_count": 92,
      "metadata": {
        "colab": {
          "base_uri": "https://localhost:8080/"
        },
        "id": "81lN35ngHzg7",
        "outputId": "a6aa195c-cd0e-4845-87ca-189d48b20570"
      },
      "outputs": [
        {
          "data": {
            "text/plain": [
              "count    962.000000\n",
              "mean      53.147785\n",
              "std       20.001309\n",
              "min        0.000000\n",
              "25%       39.436620\n",
              "50%       52.112676\n",
              "75%       67.605634\n",
              "max      100.000000\n",
              "Name: math score, dtype: float64"
            ]
          },
          "execution_count": 92,
          "metadata": {},
          "output_type": "execute_result"
        }
      ],
      "source": [
        "students['math score'].describe()"
      ]
    },
    {
      "cell_type": "markdown",
      "metadata": {
        "id": "Q3TDCKVBHzg7"
      },
      "source": [
        "#### 💾 &nbsp; GUARDANDO EL ARCHIVO PARA LOS SIGUIENTES PASOS"
      ]
    },
    {
      "cell_type": "code",
      "execution_count": 93,
      "metadata": {
        "colab": {
          "base_uri": "https://localhost:8080/",
          "height": 143
        },
        "id": "VkmrybOzHzg7",
        "outputId": "79f431aa-2c93-4cae-a0a0-b4b68f57ad35"
      },
      "outputs": [
        {
          "data": {
            "application/vnd.google.colaboratory.intrinsic+json": {
              "type": "string"
            },
            "text/plain": [
              "\",race/ethnicity,lunch,test preparation course,math score,reading score,writing score,english score,female,male,associate's degree,bachelor's degree,high school,master's degree,some college,some high school\\n0,2,1,completed,56.33802816901407,90,88,89.0,1,0,0.0,0.0,0.0,0.0,1.0,0.0\\n1,1,1,none,85.91549295774647,95,93,94.0,1,0,0.0,0.0,0.0,1.0,0.0,0.0\\n2,0,0,none,25.352112676056343,57,44,50.5,0,1,1.0,0.0,0.0,0.0,0.0,0.0\\n3,2,1,none,66.19718309859155,78,75,76.5,0,1,0.0,0.0,0.0,0.0,1.0,0.0\\n4,1,1,none,59.15492957746479,83,78,80.5,1,0,1.0,0.0,0.0,0.0,0.0,0.0\\n5,1,1,completed,83.09859154929578,95,92,93.5,1,0,0.0,0.0,0.0,0.0,1.0,0.0\\n6,1,0,none,15.492957746478872,43,39,41.0,0,1,0.0,0.0,0.0,0.0,1.0,0.0\\n7,3,0,completed,49.29577464788732,64,67,65.5,0,1,0.0,0.0,1.0,0.0,0.0,0.0\\n8,1,0,none,12.676056338028168,60,50,55.0,1,0,0.0,0.0,1.0,0.0,0.0,0.0\\n9,2,1,none,40.84507042253521,54,52,53.0,0,1,1.0,0.0,0.0,0.0,0.0,0.0\\n10,3,1,none,15.492957746478872,52,43,47.5,0,1,1.0,0.0,0.0,0.0,0.0,0.0\\n11,1,1,none,50.704225352112665,81,73,77.0,1,0,0.0,0.0,1.0,0.0,0.0,0.0\\n12,0,1,completed,69.01408450704224,72,70,71.0,0,1,0.0,0.0,0.0,0.0,1.0,0.0\\n13,0,1,none,29.577464788732392,53,58,55.5,1,0,0.0,0.0,0.0,1.0,0.0,0.0\\n14,2,1,none,56.33802816901407,75,78,76.5,1,0,0.0,0.0,0.0,0.0,0.0,1.0\\n15,2,1,none,83.09859154929578,89,86,87.5,0,1,0.0,0.0,1.0,0.0,0.0,0.0\\n16,2,0,completed,23.943661971830984,42,46,44.0,0,1,0.0,0.0,0.0,1.0,0.0,0.0\\n17,2,0,none,35.2112676056338,58,61,59.5,1,0,1.0,0.0,0.0,0.0,0.0,0.0\\n18,3,1,none,52.112676056338024,69,63,66.0,0,1,0.0,0.0,1.0,0.0,0.0,0.0\\n19,1,0,completed,50.704225352112665,75,70,72.5,1,0,0.0,0.0,0.0,0.0,1.0,0.0\\n20,3,1,none,21.12676056338028,54,53,53.5,0,1,0.0,0.0,0.0,0.0,1.0,0.0\\n21,2,1,none,56.33802816901407,73,73,73.0,1,0,0.0,0.0,0.0,0.0,0.0,1.0\\n22,3,0,completed,63.38028169014084,71,80,75.5,0,1,0.0,1.0,0.0,0.0,0.0,0.0\\n23,0,0,none,61.97183098591548,74,72,73.0,0,1,0.0,0.0,0.0,1.0,0.0,0.0\\n24,1,1,none,56.33802816901407,54,55,54.5,0,1,0.0,0.0,0.0,0.0,1.0,0.0\\n25,2,1,none,53.521126760563384,69,75,72.0,1,0,0.0,1.0,0.0,0.0,0.0,0.0\\n26,2,1,none,57.74647887323943,70,65,67.5,0,1,0.0,0.0,1.0,0.0,0.0,0.0\\n27,3,1,none,46.478873239436616,70,75,72.5,1,0,0.0,0.0,0.0,1.0,0.0,0.0\\n28,3,1,none,56.33802816901407,74,74,74.0,1,0,0.0,0.0,0.0,0.0,1.0,0.0\\n29,1,1,none,47.887323943661976,65,61,63.0,1,0,0.0,0.0,0.0,0.0,1.0,0.0\\n30,4,0,none,38.028169014084504,72,65,68.5,1,0,0.0,0.0,0.0,1.0,0.0,0.0\\n31,3,1,none,15.492957746478872,42,38,40.0,0,1,0.0,0.0,0.0,0.0,1.0,0.0\\n32,4,1,none,95.77464788732394,87,82,84.5,0,1,0.0,0.0,0.0,0.0,1.0,0.0\\n33,4,1,completed,73.2394366197183,81,79,80.0,0,1,1.0,0.0,0.0,0.0,0.0,0.0\\n34,3,1,none,63.38028169014084,81,83,82.0,1,0,1.0,0.0,0.0,0.0,0.0,0.0\\n35,3,0,none,29.577464788732392,64,59,61.5,1,0,0.0,0.0,0.0,0.0,0.0,1.0\\n36,3,0,completed,64.7887323943662,90,88,89.0,1,0,1.0,0.0,0.0,0.0,0.0,0.0\\n37,1,0,none,39.43661971830985,56,57,56.5,0,1,1.0,0.0,0.0,0.0,0.0,0.0\\n38,2,0,none,36.61971830985916,61,54,57.5,0,1,1.0,0.0,0.0,0.0,0.0,0.0\\n39,2,1,none,40.84507042253521,73,68,70.5,1,0,1.0,0.0,0.0,0.0,0.0,0.0\\n40,1,1,none,33.80281690140844,58,65,61.5,1,0,1.0,0.0,0.0,0.0,0.0,0.0\\n41,1,0,completed,42.25352112676057,65,66,65.5,0,1,0.0,0.0,0.0,0.0,1.0,0.0\\n42,4,0,none,29.577464788732392,56,54,55.0,1,0,1.0,0.0,0.0,0.0,0.0,0.0\\n43,1,1,none,50.704225352112665,54,57,55.5,0,1,1.0,0.0,0.0,0.0,0.0,0.0\\n44,0,1,completed,36.61971830985916,65,62,63.5,1,0,1.0,0.0,0.0,0.0,0.0,0.0\\n45,2,1,none,52.112676056338024,71,76,73.5,1,0,0.0,0.0,1.0,0.0,0.0,0.0\\n46,3,0,completed,39.43661971830985,74,76,75.0,1,0,1.0,0.0,0.0,0.0,0.0,0.0\\n47,2,1,completed,74.64788732394365,84,82,83.0,0,1,0.0,0.0,1.0,0.0,0.0,0.0\\n48,4,0,completed,67.6056338028169,69,68,68.5,0,1,1.0,0.0,0.0,0.0,0.0,0.0\\n49,2,1,none,33.80281690140844,44,42,43.0,0,1,0.0,0.0,0.0,0.0,1.0,0.0\\n50,3,1,none,83.09859154929578,78,75,76.5,0,1,0.0,0.0,1.0,0.0,0.0,0.0\\n51,2,0,completed,59.15492957746479,84,87,85.5,1,0,0.0,0.0,0.0,0.0,0.0,1.0\\n52,2,0,none,5.633802816901408,41,43,42.0,1,0,0.0,0.0,1.0,0.0,0.0,0.0\\n53,4,1,completed,74.64788732394365,85,86,85.5,1,0,1.0,0.0,0.0,0.0,0.0,0.0\\n54,3,1,none,32.394366197183096,55,49,52.0,0,1,1.0,0.0,0.0,0.0,0.0,0.0\\n55,3,1,completed,40.84507042253521,59,58,58.5,0,1,0.0,0.0,0.0,0.0,1.0,0.0\\n56,4,0,completed,70.42253521126761,74,72,73.0,0,1,0.0,1.0,0.0,0.0,0.0,0.0\\n57,0,0,none,14.08450704225352,39,34,36.5,0,1,0.0,0.0,0.0,0.0,0.0,1.0\\n58,0,0,none,46.478873239436616,61,55,58.0,0,1,1.0,0.0,0.0,0.0,0.0,0.0\\n59,2,1,none,56.33802816901407,80,71,75.5,1,0,1.0,0.0,0.0,0.0,0.0,0.0\\n60,3,1,none,42.25352112676057,58,59,58.5,1,0,0.0,0.0,0.0,0.0,0.0,1.0\\n61,1,1,none,53.521126760563384,64,61,62.5,0,1,0.0,0.0,0.0,0.0,0.0,1.0\\n62,3,0,none,22.535211267605632,37,37,37.0,0,1,0.0,0.0,0.0,0.0,0.0,1.0\\n63,2,1,none,43.66197183098591,72,74,73.0,1,0,0.0,0.0,0.0,0.0,1.0,0.0\\n64,1,0,none,45.07042253521126,58,56,57.0,0,1,1.0,0.0,0.0,0.0,0.0,0.0\\n65,2,1,none,14.08450704225352,64,57,60.5,1,0,1.0,0.0,0.0,0.0,0.0,0.0\\n66,3,0,completed,40.84507042253521,63,73,68.0,1,0,0.0,0.0,0.0,0.0,1.0,0.0\\n67,3,1,completed,47.887323943661976,55,63,59.0,0,1,0.0,0.0,0.0,0.0,1.0,0.0\\n68,0,0,none,16.901408450704224,51,48,49.5,1,0,1.0,0.0,0.0,0.0,0.0,0.0\\n69,2,0,none,45.07042253521126,57,56,56.5,0,1,0.0,0.0,0.0,0.0,0.0,1.0\\n70,2,1,none,28.169014084507033,49,41,45.0,0,1,0.0,0.0,0.0,0.0,0.0,1.0\\n71,1,0,none,21.12676056338028,41,38,39.5,0,1,1.0,0.0,0.0,0.0,0.0,0.0\\n72,0,1,completed,71.83098591549296,78,81,79.5,0,1,0.0,1.0,0.0,0.0,0.0,0.0\\n73,3,1,completed,45.07042253521126,74,72,73.0,1,0,0.0,0.0,0.0,0.0,0.0,1.0\\n74,4,1,none,46.478873239436616,68,68,68.0,1,0,0.0,0.0,0.0,1.0,0.0,0.0\\n75,1,1,none,25.352112676056343,49,50,49.5,1,0,1.0,0.0,0.0,0.0,0.0,0.0\\n76,1,0,none,28.169014084507033,45,45,45.0,0,1,0.0,0.0,1.0,0.0,0.0,0.0\\n77,0,0,completed,29.577464788732392,47,54,50.5,0,1,0.0,0.0,0.0,0.0,1.0,0.0\\n78,4,1,none,60.56338028169014,64,63,63.5,0,1,1.0,0.0,0.0,0.0,0.0,0.0\\n79,3,0,none,18.309859154929576,39,34,36.5,0,1,0.0,0.0,1.0,0.0,0.0,0.0\\n80,2,1,none,61.97183098591548,80,82,81.0,1,0,0.0,0.0,0.0,0.0,1.0,0.0\\n81,2,0,none,66.19718309859155,83,88,85.5,1,0,0.0,0.0,0.0,0.0,1.0,0.0\\n82,3,1,none,59.15492957746479,71,74,72.5,1,0,1.0,0.0,0.0,0.0,0.0,0.0\\n83,0,1,none,40.84507042253521,70,67,68.5,1,0,0.0,0.0,0.0,0.0,1.0,0.0\\n84,3,1,none,61.97183098591548,86,82,84.0,1,0,0.0,0.0,0.0,0.0,0.0,1.0\\n85,2,1,none,50.704225352112665,72,74,73.0,1,0,0.0,1.0,0.0,0.0,0.0,0.0\\n86,2,1,none,59.15492957746479,79,71,75.0,0,1,0.0,0.0,1.0,0.0,0.0,0.0\\n87,2,0,completed,19.718309859154928,45,50,47.5,0,1,1.0,0.0,0.0,0.0,0.0,0.0\\n88,1,1,none,70.42253521126761,86,92,89.0,1,0,0.0,0.0,0.0,0.0,1.0,0.0\\n89,2,0,completed,69.01408450704224,81,82,81.5,0,1,1.0,0.0,0.0,0.0,0.0,0.0\\n90,1,1,completed,50.704225352112665,66,62,64.0,0,1,0.0,0.0,0.0,0.0,0.0,1.0\\n91,4,1,completed,47.887323943661976,72,70,71.0,1,0,0.0,0.0,0.0,0.0,1.0,0.0\\n92,3,0,none,40.84507042253521,67,62,64.5,1,0,0.0,0.0,0.0,0.0,1.0,0.0\\n93,3,1,none,50.704225352112665,67,62,64.5,1,0,0.0,1.0,0.0,0.0,0.0,0.0\\n94,1,1,none,70.42253521126761,67,67,67.0,0,1,0.0,0.0,0.0,0.0,1.0,0.0\\n95,3,1,completed,54.92957746478873,74,74,74.0,0,1,0.0,1.0,0.0,0.0,0.0,0.0\\n96,3,1,none,78.87323943661971,91,89,90.0,1,0,1.0,0.0,0.0,0.0,0.0,0.0\\n97,1,1,completed,43.66197183098591,44,47,45.5,0,1,0.0,0.0,1.0,0.0,0.0,0.0\\n98,2,1,none,40.84507042253521,67,72,69.5,1,0,0.0,0.0,0.0,0.0,1.0,0.0\\n99,3,1,none,81.69014084507043,100,100,100.0,1,0,0.0,0.0,0.0,1.0,0.0,0.0\\n100,4,1,completed,52.112676056338024,63,64,63.5,0,1,1.0,0.0,0.0,0.0,0.0,0.0\\n101,1,0,none,32.394366197183096,76,70,73.0,1,0,1.0,0.0,0.0,0.0,0.0,0.0\\n102,1,1,none,57.74647887323943,64,72,68.0,1,0,0.0,0.0,0.0,0.0,0.0,1.0\\n103,3,0,completed,67.6056338028169,89,98,93.5,1,0,1.0,0.0,0.0,0.0,0.0,0.0\\n104,2,1,none,46.478873239436616,55,49,52.0,0,1,0.0,0.0,1.0,0.0,0.0,0.0\\n105,0,1,none,35.2112676056338,53,47,50.0,0,1,1.0,0.0,0.0,0.0,0.0,0.0\\n106,3,1,none,30.98591549295775,58,54,56.0,1,0,0.0,0.0,0.0,0.0,1.0,0.0\\n107,4,1,completed,98.59154929577466,100,100,100.0,1,0,0.0,1.0,0.0,0.0,0.0,0.0\\n108,2,1,none,77.46478873239437,77,74,75.5,0,1,0.0,0.0,1.0,0.0,0.0,0.0\\n109,1,0,none,64.7887323943662,85,82,83.5,1,0,0.0,1.0,0.0,0.0,0.0,0.0\\n110,3,1,none,69.01408450704224,82,79,80.5,1,0,0.0,1.0,0.0,0.0,0.0,0.0\\n111,3,1,none,30.98591549295775,63,61,62.0,1,0,0.0,0.0,0.0,0.0,0.0,1.0\\n112,2,1,none,36.61971830985916,69,65,67.0,1,0,0.0,0.0,0.0,0.0,1.0,0.0\\n113,2,1,completed,70.42253521126761,92,89,90.5,1,0,0.0,1.0,0.0,0.0,0.0,0.0\\n114,1,1,completed,87.32394366197184,89,92,90.5,0,1,1.0,0.0,0.0,0.0,0.0,0.0\\n115,2,1,completed,83.09859154929578,93,93,93.0,1,0,0.0,0.0,0.0,0.0,1.0,0.0\\n116,3,0,none,47.887323943661976,57,56,56.5,0,1,0.0,0.0,1.0,0.0,0.0,0.0\\n117,4,1,none,76.05633802816902,80,73,76.5,0,1,0.0,0.0,0.0,0.0,1.0,0.0\\n118,1,1,none,81.69014084507043,95,86,90.5,1,0,0.0,0.0,1.0,0.0,0.0,0.0\\n119,1,1,none,60.56338028169014,68,67,67.5,0,1,0.0,0.0,0.0,0.0,0.0,1.0\\n120,3,1,completed,50.704225352112665,77,74,75.5,0,1,0.0,0.0,0.0,0.0,1.0,0.0\\n121,3,1,none,74.64788732394365,82,74,78.0,0,1,0.0,0.0,0.0,1.0,0.0,0.0\\n122,0,1,none,30.98591549295775,49,51,50.0,1,0,0.0,1.0,0.0,0.0,0.0,0.0\\n123,3,1,none,84.50704225352112,84,82,83.0,0,1,0.0,0.0,0.0,1.0,0.0,0.0\\n124,2,0,completed,33.80281690140844,37,40,38.5,0,1,0.0,0.0,0.0,0.0,0.0,1.0\\n125,4,0,completed,81.69014084507043,74,70,72.0,0,1,0.0,0.0,0.0,0.0,1.0,0.0\\n126,2,1,completed,64.7887323943662,81,84,82.5,1,0,0.0,0.0,0.0,0.0,1.0,0.0\\n127,3,0,completed,63.38028169014084,79,75,77.0,0,1,0.0,1.0,0.0,0.0,0.0,0.0\\n128,2,1,none,40.84507042253521,55,48,51.5,0,1,0.0,1.0,0.0,0.0,0.0,0.0\\n129,1,1,completed,30.98591549295775,54,41,47.5,0,1,0.0,0.0,0.0,0.0,0.0,1.0\\n130,4,1,none,57.74647887323943,55,56,55.5,0,1,0.0,0.0,1.0,0.0,0.0,0.0\\n131,2,1,none,42.25352112676057,66,67,66.5,1,0,1.0,0.0,0.0,0.0,0.0,0.0\\n132,3,1,completed,59.15492957746479,61,69,65.0,0,1,0.0,0.0,0.0,0.0,1.0,0.0\\n133,3,1,none,66.19718309859155,72,71,71.5,1,0,0.0,0.0,0.0,0.0,0.0,1.0\\n134,2,0,none,42.25352112676057,62,64,63.0,1,0,0.0,0.0,0.0,0.0,1.0,0.0\\n135,4,0,completed,18.309859154929576,55,54,54.5,1,0,0.0,0.0,0.0,0.0,1.0,0.0\\n136,0,1,none,39.43661971830985,43,47,45.0,0,1,0.0,0.0,1.0,0.0,0.0,0.0\\n137,3,1,none,83.09859154929578,73,78,75.5,0,1,0.0,0.0,0.0,0.0,1.0,0.0\\n138,1,1,none,83.09859154929578,84,75,79.5,0,1,0.0,0.0,0.0,0.0,0.0,1.0\\n139,2,0,none,61.97183098591548,68,66,67.0,0,1,1.0,0.0,0.0,0.0,0.0,0.0\\n140,3,1,completed,54.92957746478873,75,81,78.0,1,0,0.0,1.0,0.0,0.0,0.0,0.0\\n141,4,0,completed,100.0,100,93,96.5,0,1,1.0,0.0,0.0,0.0,0.0,0.0\\n142,0,1,completed,46.478873239436616,67,69,68.0,0,1,0.0,0.0,0.0,0.0,0.0,1.0\\n143,0,1,none,67.6056338028169,67,68,67.5,0,1,0.0,1.0,0.0,0.0,0.0,0.0\\n144,1,1,completed,42.25352112676057,70,66,68.0,1,0,1.0,0.0,0.0,0.0,0.0,0.0\\n145,3,1,none,35.2112676056338,49,47,48.0,0,1,0.0,1.0,0.0,0.0,0.0,0.0\\n146,3,1,none,46.478873239436616,67,61,64.0,0,1,0.0,0.0,0.0,0.0,0.0,1.0\\n147,2,1,completed,57.74647887323943,89,88,88.5,1,0,0.0,0.0,0.0,0.0,1.0,0.0\\n148,4,0,completed,52.112676056338024,74,78,76.0,1,0,0.0,0.0,1.0,0.0,0.0,0.0\\n149,1,0,none,43.66197183098591,60,60,60.0,0,1,0.0,0.0,0.0,0.0,1.0,0.0\\n150,1,1,completed,45.07042253521126,86,87,86.5,1,0,1.0,0.0,0.0,0.0,0.0,0.0\\n151,3,0,none,52.112676056338024,62,64,63.0,0,1,1.0,0.0,0.0,0.0,0.0,0.0\\n152,1,0,completed,74.64788732394365,78,74,76.0,0,1,1.0,0.0,0.0,0.0,0.0,0.0\\n153,4,0,completed,64.7887323943662,88,85,86.5,1,0,0.0,0.0,0.0,0.0,1.0,0.0\\n154,1,0,none,28.169014084507033,53,52,52.5,0,1,0.0,0.0,0.0,1.0,0.0,0.0\\n155,2,1,none,32.394366197183096,53,49,51.0,0,1,0.0,0.0,1.0,0.0,0.0,0.0\\n156,2,1,completed,94.36619718309859,100,100,100.0,1,0,0.0,1.0,0.0,0.0,0.0,0.0\\n157,2,0,completed,33.80281690140844,51,51,51.0,0,1,0.0,0.0,1.0,0.0,0.0,0.0\\n158,1,0,completed,40.84507042253521,76,78,77.0,1,0,0.0,0.0,0.0,1.0,0.0,0.0\\n159,1,1,completed,54.92957746478873,83,78,80.5,1,0,0.0,0.0,1.0,0.0,0.0,0.0\\n160,2,0,completed,53.521126760563384,75,70,72.5,1,0,0.0,0.0,0.0,0.0,1.0,0.0\\n161,0,1,completed,60.56338028169014,73,74,73.5,0,1,0.0,0.0,1.0,0.0,0.0,0.0\\n162,4,1,none,91.5492957746479,88,78,83.0,0,1,0.0,0.0,0.0,0.0,0.0,1.0\\n163,3,1,none,70.42253521126761,86,81,83.5,1,0,0.0,0.0,0.0,0.0,1.0,0.0\\n164,2,1,none,47.887323943661976,67,70,68.5,1,0,1.0,0.0,0.0,0.0,0.0,0.0\\n165,2,0,completed,19.718309859154928,51,54,52.5,1,0,0.0,1.0,0.0,0.0,0.0,0.0\\n166,2,1,completed,73.2394366197183,91,87,89.0,1,0,0.0,0.0,0.0,1.0,0.0,0.0\\n167,1,0,completed,23.943661971830984,54,58,56.0,1,0,0.0,0.0,1.0,0.0,0.0,0.0\\n168,2,1,completed,59.15492957746479,77,77,77.0,1,0,1.0,0.0,0.0,0.0,0.0,0.0\\n169,1,0,completed,32.394366197183096,70,62,66.0,1,0,0.0,0.0,0.0,1.0,0.0,0.0\\n170,3,1,completed,95.77464788732394,100,100,100.0,1,0,0.0,0.0,0.0,0.0,0.0,1.0\\n171,2,0,completed,46.478873239436616,68,75,71.5,0,1,0.0,0.0,0.0,1.0,0.0,0.0\\n172,2,0,none,23.943661971830984,64,66,65.0,1,0,0.0,0.0,0.0,0.0,1.0,0.0\\n173,4,1,none,29.577464788732392,50,47,48.5,1,0,0.0,0.0,1.0,0.0,0.0,0.0\\n174,3,1,none,50.704225352112665,69,70,69.5,1,0,1.0,0.0,0.0,0.0,0.0,0.0\\n175,2,0,completed,22.535211267605632,52,49,50.5,0,1,0.0,0.0,0.0,0.0,0.0,1.0\\n176,2,0,completed,50.704225352112665,67,65,66.0,0,1,1.0,0.0,0.0,0.0,0.0,0.0\\n177,4,1,none,71.83098591549296,76,65,70.5,0,1,0.0,0.0,1.0,0.0,0.0,0.0\\n178,3,1,completed,46.478873239436616,66,68,67.0,0,1,0.0,0.0,0.0,0.0,0.0,1.0\\n179,1,0,none,26.76056338028169,52,45,48.5,0,1,0.0,0.0,0.0,0.0,0.0,1.0\\n180,2,1,none,67.6056338028169,88,87,87.5,1,0,0.0,1.0,0.0,0.0,0.0,0.0\\n181,4,1,none,52.112676056338024,65,69,67.0,1,0,1.0,0.0,0.0,0.0,0.0,0.0\\n182,3,1,completed,66.19718309859155,83,79,81.0,0,1,0.0,0.0,0.0,0.0,1.0,0.0\\n183,3,1,completed,67.6056338028169,62,62,62.0,0,1,0.0,0.0,0.0,0.0,1.0,0.0\\n184,2,1,completed,56.33802816901407,84,85,84.5,1,0,0.0,0.0,0.0,1.0,0.0,0.0\\n185,3,1,none,45.07042253521126,55,52,53.5,0,1,1.0,0.0,0.0,0.0,0.0,0.0\\n186,2,0,completed,42.25352112676057,69,65,67.0,0,1,0.0,0.0,0.0,0.0,0.0,1.0\\n187,4,0,none,36.61971830985916,56,51,53.5,0,1,0.0,0.0,1.0,0.0,0.0,0.0\\n188,1,0,none,22.535211267605632,53,55,54.0,1,0,0.0,0.0,0.0,0.0,1.0,0.0\\n189,1,0,none,69.01408450704224,79,76,77.5,1,0,0.0,1.0,0.0,0.0,0.0,0.0\\n190,2,1,completed,53.521126760563384,84,86,85.0,1,0,1.0,0.0,0.0,0.0,0.0,0.0\\n191,3,0,none,50.704225352112665,81,77,79.0,1,0,0.0,0.0,0.0,0.0,1.0,0.0\\n192,2,1,none,56.33802816901407,77,69,73.0,0,1,1.0,0.0,0.0,0.0,0.0,0.0\\n193,1,1,none,39.43661971830985,69,68,68.5,1,0,1.0,0.0,0.0,0.0,0.0,0.0\\n194,2,1,none,42.25352112676057,41,42,41.5,0,1,0.0,0.0,0.0,0.0,1.0,0.0\\n195,3,1,completed,63.38028169014084,71,78,74.5,0,1,0.0,0.0,0.0,0.0,0.0,1.0\\n196,4,1,none,74.64788732394365,62,62,62.0,0,1,0.0,1.0,0.0,0.0,0.0,0.0\\n197,4,1,completed,73.2394366197183,80,76,78.0,0,1,0.0,0.0,1.0,0.0,0.0,0.0\\n198,1,0,none,63.38028169014084,81,76,78.5,1,0,0.0,0.0,0.0,0.0,1.0,0.0\\n199,1,0,none,40.84507042253521,61,66,63.5,1,0,0.0,0.0,0.0,0.0,1.0,0.0\\n200,3,0,completed,71.83098591549296,79,79,79.0,0,1,0.0,0.0,0.0,0.0,0.0,1.0\\n201,2,0,none,18.309859154929576,62,60,61.0,1,0,0.0,0.0,1.0,0.0,0.0,0.0\\n202,2,0,completed,43.66197183098591,51,56,53.5,0,1,1.0,0.0,0.0,0.0,0.0,0.0\\n203,4,1,completed,81.69014084507043,91,81,86.0,0,1,0.0,0.0,1.0,0.0,0.0,0.0\\n204,1,1,completed,77.46478873239437,83,75,79.0,0,1,0.0,0.0,0.0,0.0,0.0,1.0\\n205,4,0,completed,76.05633802816902,86,88,87.0,1,0,1.0,0.0,0.0,0.0,0.0,0.0\\n206,2,0,none,7.04225352112676,42,39,40.5,1,0,0.0,0.0,1.0,0.0,0.0,0.0\\n207,1,0,none,52.112676056338024,77,70,73.5,0,1,0.0,0.0,1.0,0.0,0.0,0.0\\n208,1,1,completed,45.07042253521126,56,56,56.0,0,1,0.0,0.0,0.0,0.0,0.0,1.0\\n209,3,1,completed,38.028169014084504,68,74,71.0,1,0,0.0,0.0,1.0,0.0,0.0,0.0\\n210,1,1,none,81.69014084507043,85,73,79.0,0,1,1.0,0.0,0.0,0.0,0.0,0.0\\n211,2,0,none,36.61971830985916,65,62,63.5,1,0,0.0,0.0,0.0,0.0,0.0,1.0\\n212,3,1,none,80.28169014084506,80,75,77.5,0,1,0.0,0.0,0.0,0.0,0.0,1.0\\n213,1,1,completed,32.394366197183096,66,73,69.5,1,0,1.0,0.0,0.0,0.0,0.0,0.0\\n214,4,0,none,22.535211267605632,56,54,55.0,1,0,0.0,0.0,0.0,1.0,0.0,0.0\\n215,2,1,none,60.56338028169014,72,71,71.5,1,0,0.0,0.0,0.0,0.0,1.0,0.0\\n216,3,1,none,39.43661971830985,50,54,52.0,0,1,0.0,0.0,1.0,0.0,0.0,0.0\\n217,0,0,none,54.92957746478873,72,64,68.0,0,1,0.0,0.0,0.0,0.0,0.0,1.0\\n218,2,1,completed,83.09859154929578,95,94,94.5,1,0,0.0,0.0,0.0,0.0,1.0,0.0\\n219,3,1,none,66.19718309859155,64,66,65.0,0,1,0.0,0.0,0.0,0.0,1.0,0.0\\n220,2,1,none,23.943661971830984,43,42,42.5,0,1,1.0,0.0,0.0,0.0,0.0,0.0\\n221,1,1,none,53.521126760563384,86,83,84.5,1,0,0.0,1.0,0.0,0.0,0.0,0.0\\n222,4,1,none,88.73239436619718,87,78,82.5,0,1,0.0,0.0,0.0,0.0,0.0,1.0\\n223,2,1,completed,76.05633802816902,82,84,83.0,0,1,0.0,1.0,0.0,0.0,0.0,0.0\\n224,3,1,none,71.83098591549296,75,77,76.0,0,1,1.0,0.0,0.0,0.0,0.0,0.0\\n225,3,0,none,47.887323943661976,66,67,66.5,0,1,0.0,1.0,0.0,0.0,0.0,0.0\\n226,3,1,completed,49.29577464788732,60,74,67.0,1,0,0.0,0.0,0.0,0.0,0.0,1.0\\n227,1,1,none,35.2112676056338,52,51,51.5,0,1,0.0,0.0,0.0,0.0,1.0,0.0\\n228,2,1,none,77.46478873239437,80,80,80.0,0,1,1.0,0.0,0.0,0.0,0.0,0.0\\n229,3,0,completed,61.97183098591548,68,66,67.0,0,1,0.0,0.0,1.0,0.0,0.0,0.0\\n230,4,1,none,71.83098591549296,83,83,83.0,1,0,0.0,1.0,0.0,0.0,0.0,0.0\\n231,3,1,none,38.028169014084504,52,55,53.5,1,0,0.0,0.0,1.0,0.0,0.0,0.0\\n232,4,1,none,42.25352112676057,51,43,47.0,0,1,0.0,0.0,0.0,0.0,1.0,0.0\\n233,3,1,none,64.7887323943662,74,69,71.5,0,1,0.0,0.0,0.0,0.0,0.0,1.0\\n234,2,1,none,78.87323943661971,76,71,73.5,0,1,1.0,0.0,0.0,0.0,0.0,0.0\\n235,4,1,none,84.50704225352112,76,74,75.0,0,1,1.0,0.0,0.0,0.0,0.0,0.0\\n236,1,1,completed,40.84507042253521,70,68,69.0,1,0,0.0,0.0,1.0,0.0,0.0,0.0\\n237,1,1,none,50.704225352112665,64,62,63.0,1,0,0.0,0.0,1.0,0.0,0.0,0.0\\n238,2,1,none,54.92957746478873,60,53,56.5,0,1,0.0,0.0,1.0,0.0,0.0,0.0\\n239,0,1,completed,25.352112676056343,49,49,49.0,0,1,0.0,0.0,0.0,0.0,0.0,1.0\\n240,3,0,none,59.15492957746479,83,83,83.0,1,0,0.0,0.0,0.0,0.0,1.0,0.0\\n241,1,1,completed,43.66197183098591,70,70,70.0,1,0,0.0,0.0,0.0,0.0,0.0,1.0\\n242,3,1,none,71.83098591549296,80,72,76.0,0,1,0.0,0.0,0.0,1.0,0.0,0.0\\n243,3,1,none,35.2112676056338,52,52,52.0,0,1,0.0,0.0,1.0,0.0,0.0,0.0\\n244,4,1,none,46.478873239436616,73,70,71.5,1,0,0.0,0.0,0.0,0.0,1.0,0.0\\n245,2,0,none,49.29577464788732,73,68,70.5,1,0,1.0,0.0,0.0,0.0,0.0,0.0\\n246,2,1,completed,69.01408450704224,77,77,77.0,0,1,1.0,0.0,0.0,0.0,0.0,0.0\\n247,1,1,none,57.74647887323943,75,78,76.5,1,0,0.0,0.0,0.0,0.0,1.0,0.0\\n248,2,0,completed,50.704225352112665,81,81,81.0,1,0,0.0,0.0,0.0,1.0,0.0,0.0\\n249,2,0,completed,49.29577464788732,79,77,78.0,1,0,0.0,0.0,0.0,0.0,0.0,1.0\\n250,2,1,completed,70.42253521126761,79,78,78.5,0,1,0.0,0.0,0.0,0.0,1.0,0.0\\n251,2,0,none,21.12676056338028,50,51,50.5,1,0,0.0,0.0,0.0,0.0,0.0,1.0\\n252,4,1,none,98.59154929577466,93,90,91.5,1,0,0.0,0.0,1.0,0.0,0.0,0.0\\n253,3,1,none,66.19718309859155,73,68,70.5,0,1,0.0,0.0,1.0,0.0,0.0,0.0\\n254,3,0,none,42.25352112676057,42,41,41.5,0,1,0.0,0.0,0.0,0.0,0.0,1.0\\n255,2,1,none,47.887323943661976,75,81,78.0,1,0,0.0,1.0,0.0,0.0,0.0,0.0\\n256,3,1,none,56.33802816901407,72,77,74.5,1,0,0.0,0.0,1.0,0.0,0.0,0.0\\n257,4,0,none,59.15492957746479,76,70,73.0,1,0,0.0,0.0,0.0,0.0,1.0,0.0\\n258,2,1,none,56.33802816901407,63,61,62.0,0,1,0.0,1.0,0.0,0.0,0.0,0.0\\n259,2,1,none,40.84507042253521,49,42,45.5,0,1,0.0,0.0,0.0,0.0,1.0,0.0\\n260,3,0,none,25.352112676056343,53,58,55.5,1,0,1.0,0.0,0.0,0.0,0.0,0.0\\n261,3,1,none,50.704225352112665,70,71,70.5,1,0,0.0,0.0,0.0,0.0,1.0,0.0\\n262,1,1,completed,83.09859154929578,85,76,80.5,0,1,0.0,0.0,0.0,0.0,1.0,0.0\\n263,2,1,none,76.05633802816902,78,73,75.5,0,1,0.0,1.0,0.0,0.0,0.0,0.0\\n264,2,1,completed,78.87323943661971,92,93,92.5,1,0,0.0,0.0,0.0,0.0,0.0,1.0\\n265,4,1,completed,42.25352112676057,63,75,69.0,1,0,0.0,0.0,1.0,0.0,0.0,0.0\\n266,2,0,none,50.704225352112665,86,80,83.0,1,0,0.0,0.0,0.0,0.0,0.0,1.0\\n267,1,0,none,61.97183098591548,56,57,56.5,0,1,0.0,1.0,0.0,0.0,0.0,0.0\\n268,3,1,none,33.80281690140844,52,42,47.0,0,1,0.0,0.0,1.0,0.0,0.0,0.0\\n269,3,1,none,22.535211267605632,48,46,47.0,0,1,0.0,0.0,1.0,0.0,0.0,0.0\\n270,3,0,none,61.97183098591548,79,84,81.5,1,0,0.0,1.0,0.0,0.0,0.0,0.0\\n271,3,0,completed,57.74647887323943,78,78,78.0,1,0,0.0,0.0,0.0,0.0,1.0,0.0\\n272,1,1,none,11.267605633802816,46,46,46.0,1,0,0.0,0.0,0.0,0.0,0.0,1.0\\n273,1,1,completed,73.2394366197183,82,82,82.0,0,1,1.0,0.0,0.0,0.0,0.0,0.0\\n274,4,1,completed,95.77464788732394,82,88,85.0,0,1,1.0,0.0,0.0,0.0,0.0,0.0\\n275,1,1,none,53.521126760563384,89,82,85.5,1,0,0.0,0.0,0.0,0.0,0.0,1.0\\n276,1,0,none,83.09859154929578,75,76,75.5,0,1,0.0,1.0,0.0,0.0,0.0,0.0\\n277,4,1,completed,67.6056338028169,76,77,76.5,0,1,0.0,0.0,0.0,0.0,0.0,1.0\\n278,2,1,none,66.19718309859155,70,68,69.0,0,1,1.0,0.0,0.0,0.0,0.0,0.0\\n279,3,1,none,80.28169014084506,73,70,71.5,0,1,0.0,0.0,0.0,0.0,0.0,1.0\\n280,2,1,completed,47.887323943661976,60,57,58.5,0,1,0.0,0.0,0.0,0.0,0.0,1.0\\n281,4,1,none,50.704225352112665,73,75,74.0,1,0,0.0,1.0,0.0,0.0,0.0,0.0\\n282,3,0,completed,69.01408450704224,77,80,78.5,0,1,0.0,0.0,1.0,0.0,0.0,0.0\\n283,1,0,none,53.521126760563384,62,60,61.0,0,1,1.0,0.0,0.0,0.0,0.0,0.0\\n284,4,1,completed,59.15492957746479,74,68,71.0,0,1,1.0,0.0,0.0,0.0,0.0,0.0\\n285,2,0,completed,15.492957746478872,46,50,48.0,0,1,0.0,0.0,1.0,0.0,0.0,0.0\\n286,3,0,none,85.91549295774647,87,75,81.0,0,1,1.0,0.0,0.0,0.0,0.0,0.0\\n287,0,0,completed,73.2394366197183,78,81,79.5,0,1,0.0,0.0,0.0,0.0,1.0,0.0\\n288,3,0,none,38.028169014084504,54,52,53.0,0,1,0.0,0.0,0.0,0.0,0.0,1.0\\n289,2,1,completed,53.521126760563384,84,81,82.5,1,0,1.0,0.0,0.0,0.0,0.0,0.0\\n290,1,1,none,71.83098591549296,76,64,70.0,0,1,1.0,0.0,0.0,0.0,0.0,0.0\\n291,2,1,none,63.38028169014084,75,83,79.0,1,0,1.0,0.0,0.0,0.0,0.0,0.0\\n292,0,1,none,56.33802816901407,67,69,68.0,0,1,0.0,0.0,0.0,0.0,1.0,0.0\\n293,4,1,completed,98.59154929577466,87,81,84.0,0,1,0.0,0.0,0.0,0.0,1.0,0.0\\n294,2,1,none,30.98591549295775,52,44,48.0,0,1,0.0,0.0,0.0,0.0,0.0,1.0\\n295,1,0,none,33.80281690140844,71,67,69.0,1,0,1.0,0.0,0.0,0.0,0.0,0.0\\n296,3,0,none,28.169014084507033,57,52,54.5,1,0,0.0,0.0,1.0,0.0,0.0,0.0\\n297,1,1,none,61.97183098591548,76,80,78.0,1,0,1.0,0.0,0.0,0.0,0.0,0.0\\n298,1,1,none,52.112676056338024,60,57,58.5,0,1,0.0,1.0,0.0,0.0,0.0,0.0\\n299,3,1,completed,53.521126760563384,61,68,64.5,0,1,0.0,1.0,0.0,0.0,0.0,0.0\\n300,2,0,completed,54.92957746478873,67,69,68.0,1,0,1.0,0.0,0.0,0.0,0.0,0.0\\n301,2,1,completed,42.25352112676057,64,75,69.5,1,0,0.0,1.0,0.0,0.0,0.0,0.0\\n302,2,1,none,59.15492957746479,66,65,65.5,0,1,0.0,0.0,1.0,0.0,0.0,0.0\\n303,3,1,completed,67.6056338028169,82,91,86.5,1,0,0.0,0.0,0.0,1.0,0.0,0.0\\n304,2,1,none,76.05633802816902,72,78,75.0,0,1,1.0,0.0,0.0,0.0,0.0,0.0\\n305,1,1,none,47.887323943661976,71,69,70.0,0,1,0.0,1.0,0.0,0.0,0.0,0.0\\n306,3,0,none,38.028169014084504,65,63,64.0,1,0,1.0,0.0,0.0,0.0,0.0,0.0\\n307,2,0,completed,53.521126760563384,79,84,81.5,1,0,0.0,0.0,1.0,0.0,0.0,0.0\\n308,4,1,none,64.7887323943662,86,79,82.5,1,0,0.0,0.0,1.0,0.0,0.0,0.0\\n309,2,1,none,59.15492957746479,81,80,80.5,1,0,0.0,0.0,0.0,0.0,1.0,0.0\\n310,2,0,none,19.718309859154928,53,53,53.0,1,0,0.0,0.0,0.0,0.0,0.0,1.0\\n311,2,0,none,16.901408450704224,46,43,44.5,1,0,0.0,0.0,1.0,0.0,0.0,0.0\\n312,2,1,none,74.64788732394365,90,94,92.0,1,0,0.0,0.0,0.0,0.0,1.0,0.0\\n313,2,1,none,45.07042253521126,61,62,61.5,0,1,0.0,0.0,0.0,0.0,1.0,0.0\\n314,2,1,completed,74.64788732394365,75,77,76.0,0,1,1.0,0.0,0.0,0.0,0.0,0.0\\n315,1,1,none,16.901408450704224,55,51,53.0,1,0,0.0,0.0,0.0,0.0,0.0,1.0\\n316,2,1,none,59.15492957746479,60,61,60.5,0,1,0.0,0.0,1.0,0.0,0.0,0.0\\n317,2,1,none,25.352112676056343,37,35,36.0,0,1,1.0,0.0,0.0,0.0,0.0,0.0\\n318,4,1,completed,46.478873239436616,56,53,54.5,0,1,1.0,0.0,0.0,0.0,0.0,0.0\\n319,1,1,none,85.91549295774647,78,81,79.5,0,1,1.0,0.0,0.0,0.0,0.0,0.0\\n320,2,1,none,76.05633802816902,93,95,94.0,1,0,0.0,1.0,0.0,0.0,0.0,0.0\\n321,1,0,none,45.07042253521126,68,66,67.0,1,0,0.0,0.0,0.0,0.0,1.0,0.0\\n322,3,1,completed,66.19718309859155,70,69,69.5,0,1,0.0,0.0,0.0,0.0,0.0,1.0\\n323,2,1,none,28.169014084507033,51,43,47.0,0,1,1.0,0.0,0.0,0.0,0.0,0.0\\n324,3,0,none,8.450704225352112,55,60,57.5,1,0,0.0,0.0,0.0,0.0,0.0,1.0\\n325,2,0,none,40.84507042253521,61,52,56.5,0,1,0.0,0.0,1.0,0.0,0.0,0.0\\n326,2,1,none,45.07042253521126,73,63,68.0,1,0,0.0,0.0,1.0,0.0,0.0,0.0\\n327,1,1,completed,56.33802816901407,76,74,75.0,1,0,0.0,0.0,1.0,0.0,0.0,0.0\\n328,3,1,completed,53.521126760563384,72,67,69.5,0,1,1.0,0.0,0.0,0.0,0.0,0.0\\n329,3,1,none,70.42253521126761,73,67,70.0,0,1,0.0,0.0,0.0,0.0,1.0,0.0\\n330,2,1,none,60.56338028169014,80,75,77.5,1,0,0.0,0.0,1.0,0.0,0.0,0.0\\n331,1,1,none,46.478873239436616,61,57,59.0,0,1,0.0,0.0,0.0,0.0,1.0,0.0\\n332,2,1,completed,67.6056338028169,94,95,94.5,1,0,0.0,1.0,0.0,0.0,0.0,0.0\\n333,3,0,none,64.7887323943662,74,66,70.0,0,1,0.0,0.0,1.0,0.0,0.0,0.0\\n334,4,1,none,81.69014084507043,74,76,75.0,0,1,1.0,0.0,0.0,0.0,0.0,0.0\\n335,1,1,none,32.394366197183096,65,69,67.0,1,0,0.0,1.0,0.0,0.0,0.0,0.0\\n336,4,1,none,52.112676056338024,57,52,54.5,0,1,0.0,0.0,0.0,0.0,1.0,0.0\\n337,2,1,completed,47.887323943661976,78,80,79.0,1,0,0.0,0.0,0.0,0.0,1.0,0.0\\n338,2,1,none,23.943661971830984,58,57,57.5,1,0,1.0,0.0,0.0,0.0,0.0,0.0\\n339,2,1,none,42.25352112676057,71,70,70.5,1,0,0.0,0.0,0.0,0.0,1.0,0.0\\n340,1,1,none,45.07042253521126,72,70,71.0,1,0,0.0,1.0,0.0,0.0,0.0,0.0\\n341,0,1,none,47.887323943661976,61,61,61.0,0,1,1.0,0.0,0.0,0.0,0.0,0.0\\n342,2,0,completed,18.309859154929576,66,69,67.5,1,0,0.0,0.0,0.0,0.0,1.0,0.0\\n343,3,0,none,42.25352112676057,62,61,61.5,0,1,0.0,0.0,0.0,0.0,1.0,0.0\\n344,3,1,none,71.83098591549296,90,89,89.5,1,0,0.0,0.0,0.0,0.0,1.0,0.0\\n345,1,1,none,40.84507042253521,62,59,60.5,1,0,0.0,0.0,1.0,0.0,0.0,0.0\\n346,1,1,completed,78.87323943661971,84,78,81.0,0,1,0.0,0.0,0.0,0.0,0.0,1.0\\n347,2,1,none,32.394366197183096,58,58,58.0,1,0,0.0,0.0,0.0,0.0,1.0,0.0\\n348,2,1,none,42.25352112676057,60,58,59.0,0,1,0.0,0.0,0.0,0.0,1.0,0.0\\n349,0,0,completed,28.169014084507033,58,60,59.0,0,1,0.0,1.0,0.0,0.0,0.0,0.0\\n350,2,1,completed,56.33802816901407,58,53,55.5,0,1,0.0,0.0,1.0,0.0,0.0,0.0\\n351,2,0,none,45.07042253521126,66,61,63.5,0,1,0.0,1.0,0.0,0.0,0.0,0.0\\n352,0,0,none,21.12676056338028,64,58,61.0,1,0,0.0,0.0,0.0,0.0,0.0,1.0\\n353,3,1,none,61.97183098591548,84,85,84.5,1,0,0.0,0.0,0.0,0.0,0.0,1.0\\n354,4,1,none,77.46478873239437,77,71,74.0,0,1,0.0,0.0,0.0,0.0,1.0,0.0\\n355,2,0,completed,22.535211267605632,73,70,71.5,1,0,0.0,0.0,0.0,0.0,1.0,0.0\\n356,3,1,none,63.38028169014084,74,72,73.0,0,1,0.0,0.0,0.0,0.0,0.0,1.0\\n357,3,1,completed,74.64788732394365,97,96,96.5,1,0,0.0,0.0,0.0,0.0,1.0,0.0\\n358,3,1,none,42.25352112676057,70,73,71.5,1,0,0.0,1.0,0.0,0.0,0.0,0.0\\n359,4,0,none,23.943661971830984,43,41,42.0,0,1,1.0,0.0,0.0,0.0,0.0,0.0\\n360,3,1,none,71.83098591549296,90,82,86.0,1,0,0.0,0.0,0.0,0.0,0.0,1.0\\n361,3,0,completed,78.87323943661971,95,100,97.5,1,0,0.0,0.0,0.0,1.0,0.0,0.0\\n362,0,1,none,59.15492957746479,83,77,80.0,1,0,0.0,0.0,0.0,0.0,0.0,1.0\\n363,0,1,none,52.112676056338024,64,62,63.0,0,1,0.0,1.0,0.0,0.0,0.0,0.0\\n364,1,1,none,71.83098591549296,86,83,84.5,1,0,1.0,0.0,0.0,0.0,0.0,0.0\\n365,2,1,completed,81.69014084507043,100,95,97.5,0,1,1.0,0.0,0.0,0.0,0.0,0.0\\n366,2,0,none,70.42253521126761,81,71,76.0,0,1,0.0,0.0,0.0,1.0,0.0,0.0\\n367,4,0,none,12.676056338028168,49,45,47.0,1,0,0.0,0.0,0.0,0.0,0.0,1.0\\n368,0,0,none,12.676056338028168,43,43,43.0,1,0,0.0,0.0,0.0,0.0,0.0,1.0\\n369,4,1,none,53.521126760563384,76,75,75.5,1,0,0.0,0.0,0.0,0.0,1.0,0.0\\n370,4,1,none,49.29577464788732,73,70,71.5,1,0,0.0,1.0,0.0,0.0,0.0,0.0\\n371,2,0,none,39.43661971830985,78,67,72.5,1,0,1.0,0.0,0.0,0.0,0.0,0.0\\n372,3,1,none,46.478873239436616,64,64,64.0,1,0,0.0,0.0,1.0,0.0,0.0,0.0\\n373,3,1,none,61.97183098591548,70,75,72.5,0,1,0.0,0.0,0.0,1.0,0.0,0.0\\n374,3,1,none,67.6056338028169,68,77,72.5,1,0,0.0,0.0,0.0,0.0,1.0,0.0\\n375,4,1,none,66.19718309859155,67,67,67.0,0,1,0.0,0.0,0.0,0.0,1.0,0.0\\n376,2,1,completed,39.43661971830985,54,56,55.0,0,1,1.0,0.0,0.0,0.0,0.0,0.0\\n377,2,1,completed,50.704225352112665,74,77,75.5,1,0,0.0,0.0,0.0,0.0,0.0,1.0\\n378,0,0,none,26.76056338028169,45,41,43.0,0,1,0.0,0.0,1.0,0.0,0.0,0.0\\n379,1,0,none,29.577464788732392,67,63,65.0,1,0,0.0,0.0,1.0,0.0,0.0,0.0\\n380,2,1,none,78.87323943661971,89,95,92.0,1,0,1.0,0.0,0.0,0.0,0.0,0.0\\n381,1,1,none,63.38028169014084,63,57,60.0,0,1,0.0,0.0,0.0,0.0,0.0,1.0\\n382,3,1,none,43.66197183098591,59,54,56.5,0,1,0.0,0.0,0.0,0.0,0.0,1.0\\n383,2,1,completed,42.25352112676057,54,67,60.5,1,0,0.0,0.0,0.0,0.0,0.0,1.0\\n384,0,1,none,33.80281690140844,43,43,43.0,0,1,0.0,0.0,0.0,0.0,1.0,0.0\\n385,0,0,none,28.169014084507033,65,55,60.0,1,0,0.0,0.0,0.0,0.0,1.0,0.0\\n386,3,1,completed,83.09859154929578,99,100,99.5,1,0,0.0,0.0,1.0,0.0,0.0,0.0\\n387,2,1,none,35.2112676056338,59,62,60.5,1,0,0.0,0.0,1.0,0.0,0.0,0.0\\n388,2,1,none,47.887323943661976,73,68,70.5,1,0,0.0,0.0,0.0,0.0,0.0,1.0\\n389,1,1,completed,50.704225352112665,65,63,64.0,0,1,1.0,0.0,0.0,0.0,0.0,0.0\\n390,1,1,none,74.64788732394365,80,77,78.5,1,0,1.0,0.0,0.0,0.0,0.0,0.0\\n391,3,0,completed,32.394366197183096,57,56,56.5,1,0,0.0,0.0,1.0,0.0,0.0,0.0\\n392,3,1,completed,81.69014084507043,84,85,84.5,0,1,1.0,0.0,0.0,0.0,0.0,0.0\\n393,3,1,completed,57.74647887323943,71,74,72.5,1,0,0.0,0.0,0.0,1.0,0.0,0.0\\n394,4,1,completed,77.46478873239437,83,78,80.5,0,1,0.0,0.0,0.0,0.0,1.0,0.0\\n395,3,1,none,59.15492957746479,66,60,63.0,0,1,1.0,0.0,0.0,0.0,0.0,0.0\\n396,1,1,completed,47.887323943661976,67,67,67.0,0,1,0.0,0.0,0.0,0.0,0.0,1.0\\n397,2,0,completed,30.98591549295775,72,79,75.5,1,0,0.0,1.0,0.0,0.0,0.0,0.0\\n398,4,1,none,77.46478873239437,73,69,71.0,0,1,0.0,0.0,1.0,0.0,0.0,0.0\\n399,2,1,completed,59.15492957746479,74,68,71.0,0,1,0.0,1.0,0.0,0.0,0.0,0.0\\n400,2,1,none,63.38028169014084,73,67,70.0,0,1,1.0,0.0,0.0,0.0,0.0,0.0\\n401,3,1,none,54.92957746478873,59,62,60.5,0,1,0.0,0.0,0.0,0.0,1.0,0.0\\n402,4,0,completed,39.43661971830985,56,54,55.0,0,1,0.0,0.0,1.0,0.0,0.0,0.0\\n403,2,0,completed,74.64788732394365,93,93,93.0,1,0,1.0,0.0,0.0,0.0,0.0,0.0\\n404,3,1,completed,39.43661971830985,58,64,61.0,1,0,0.0,0.0,1.0,0.0,0.0,0.0\\n405,3,0,completed,25.352112676056343,58,67,62.5,1,0,0.0,0.0,0.0,1.0,0.0,0.0\\n406,0,1,completed,42.25352112676057,85,80,82.5,1,0,0.0,0.0,0.0,0.0,0.0,1.0\\n407,1,0,none,16.901408450704224,39,34,36.5,0,1,0.0,0.0,0.0,0.0,1.0,0.0\\n408,2,0,none,46.478873239436616,67,62,64.5,1,0,0.0,0.0,0.0,0.0,1.0,0.0\\n409,2,1,none,80.28169014084506,83,86,84.5,0,1,0.0,1.0,0.0,0.0,0.0,0.0\\n410,2,0,none,56.33802816901407,71,65,68.0,0,1,0.0,0.0,0.0,0.0,0.0,1.0\\n411,0,0,none,50.704225352112665,59,53,56.0,0,1,0.0,0.0,0.0,0.0,0.0,1.0\\n412,2,0,none,49.29577464788732,66,59,62.5,0,1,1.0,0.0,0.0,0.0,0.0,0.0\\n413,2,1,none,45.07042253521126,72,70,71.0,1,0,0.0,0.0,1.0,0.0,0.0,0.0\\n414,2,1,none,45.07042253521126,56,55,55.5,0,1,0.0,0.0,1.0,0.0,0.0,0.0\\n415,0,0,none,25.352112676056343,59,50,54.5,1,0,0.0,0.0,0.0,0.0,0.0,1.0\\n416,2,1,none,61.97183098591548,66,66,66.0,0,1,0.0,0.0,0.0,0.0,0.0,1.0\\n417,2,0,completed,29.577464788732392,48,53,50.5,0,1,0.0,0.0,0.0,0.0,1.0,0.0\\n418,3,1,none,64.7887323943662,68,64,66.0,0,1,1.0,0.0,0.0,0.0,0.0,0.0\\n419,3,0,none,64.7887323943662,66,73,69.5,0,1,1.0,0.0,0.0,0.0,0.0,0.0\\n420,2,1,none,57.74647887323943,56,51,53.5,0,1,0.0,0.0,1.0,0.0,0.0,0.0\\n421,3,1,completed,84.50704225352112,88,82,85.0,0,1,0.0,0.0,0.0,0.0,0.0,1.0\\n422,2,1,completed,53.521126760563384,81,79,80.0,1,0,0.0,0.0,0.0,0.0,1.0,0.0\\n423,3,1,none,69.01408450704224,81,80,80.5,1,0,0.0,0.0,1.0,0.0,0.0,0.0\\n424,0,0,none,42.25352112676057,73,69,71.0,1,0,0.0,0.0,0.0,0.0,0.0,1.0\\n425,1,1,none,61.97183098591548,83,76,79.5,1,0,1.0,0.0,0.0,0.0,0.0,0.0\\n426,0,0,none,70.42253521126761,82,73,77.5,0,1,0.0,0.0,0.0,0.0,0.0,1.0\\n427,2,1,completed,53.521126760563384,74,77,75.5,1,0,0.0,0.0,0.0,0.0,0.0,1.0\\n428,3,0,none,56.33802816901407,66,60,63.0,0,1,0.0,0.0,0.0,0.0,1.0,0.0\\n429,2,1,completed,80.28169014084506,81,80,80.5,0,1,0.0,0.0,1.0,0.0,0.0,0.0\\n430,1,1,none,25.352112676056343,46,42,44.0,0,1,0.0,0.0,1.0,0.0,0.0,0.0\\n431,1,1,none,73.2394366197183,73,72,72.5,0,1,1.0,0.0,0.0,0.0,0.0,0.0\\n432,2,0,completed,49.29577464788732,85,85,85.0,1,0,0.0,0.0,0.0,0.0,1.0,0.0\\n433,4,1,none,100.0,92,97,94.5,1,0,0.0,0.0,0.0,0.0,1.0,0.0\\n434,2,0,none,50.704225352112665,77,74,75.5,1,0,1.0,0.0,0.0,0.0,0.0,0.0\\n435,2,0,none,50.704225352112665,58,49,53.5,0,1,0.0,0.0,0.0,0.0,1.0,0.0\\n436,2,0,none,33.80281690140844,61,62,61.5,1,0,1.0,0.0,0.0,0.0,0.0,0.0\\n437,2,0,none,11.267605633802816,56,47,51.5,0,1,0.0,1.0,0.0,0.0,0.0,0.0\\n438,3,1,none,70.42253521126761,89,89,89.0,1,0,0.0,1.0,0.0,0.0,0.0,0.0\\n439,3,0,none,33.80281690140844,54,48,51.0,0,1,1.0,0.0,0.0,0.0,0.0,0.0\\n440,4,1,none,100.0,100,100,100.0,1,0,0.0,1.0,0.0,0.0,0.0,0.0\\n441,1,1,none,60.56338028169014,65,68,66.5,0,1,0.0,0.0,1.0,0.0,0.0,0.0\\n442,2,0,none,33.80281690140844,58,55,56.5,0,1,0.0,1.0,0.0,0.0,0.0,0.0\\n443,1,0,none,35.2112676056338,54,45,49.5,0,1,0.0,0.0,0.0,0.0,1.0,0.0\\n444,4,1,none,59.15492957746479,70,76,73.0,1,0,0.0,0.0,0.0,0.0,1.0,0.0\\n445,2,0,none,67.6056338028169,90,91,90.5,1,0,0.0,0.0,0.0,0.0,1.0,0.0\\n446,0,1,completed,64.7887323943662,58,62,60.0,0,1,0.0,1.0,0.0,0.0,0.0,0.0\\n447,2,1,none,77.46478873239437,87,91,89.0,1,0,0.0,0.0,0.0,0.0,1.0,0.0\\n448,0,0,completed,60.56338028169014,67,65,66.0,0,1,0.0,0.0,1.0,0.0,0.0,0.0\\n449,0,0,completed,67.6056338028169,88,85,86.5,1,0,0.0,0.0,1.0,0.0,0.0,0.0\\n450,2,1,none,87.32394366197184,74,76,75.0,0,1,0.0,0.0,0.0,0.0,1.0,0.0\\n451,2,1,completed,76.05633802816902,85,90,87.5,1,0,1.0,0.0,0.0,0.0,0.0,0.0\\n452,2,1,none,47.887323943661976,69,74,71.5,1,0,0.0,0.0,1.0,0.0,0.0,0.0\\n453,2,1,completed,54.92957746478873,86,84,85.0,1,0,1.0,0.0,0.0,0.0,0.0,0.0\\n454,3,1,none,42.25352112676057,67,61,64.0,1,0,0.0,0.0,0.0,0.0,0.0,1.0\\n455,1,1,completed,85.91549295774647,90,91,90.5,1,0,1.0,0.0,0.0,0.0,0.0,0.0\\n456,3,1,completed,59.15492957746479,76,83,79.5,1,0,0.0,1.0,0.0,0.0,0.0,0.0\\n457,4,1,completed,66.19718309859155,62,66,64.0,0,1,0.0,1.0,0.0,0.0,0.0,0.0\\n458,3,1,none,71.83098591549296,68,72,70.0,0,1,1.0,0.0,0.0,0.0,0.0,0.0\\n459,3,1,none,36.61971830985916,64,70,67.0,1,0,0.0,0.0,0.0,1.0,0.0,0.0\\n460,4,1,none,66.19718309859155,71,67,69.0,0,1,1.0,0.0,0.0,0.0,0.0,0.0\\n461,1,1,completed,61.97183098591548,71,68,69.5,0,1,0.0,0.0,1.0,0.0,0.0,0.0\\n462,3,0,none,32.394366197183096,59,56,57.5,1,0,1.0,0.0,0.0,0.0,0.0,0.0\\n463,2,0,none,54.92957746478873,68,61,64.5,0,1,0.0,0.0,0.0,0.0,1.0,0.0\\n464,0,1,none,42.25352112676057,52,46,49.0,0,1,0.0,0.0,1.0,0.0,0.0,0.0\\n465,1,1,none,28.169014084507033,52,54,53.0,1,0,1.0,0.0,0.0,0.0,0.0,0.0\\n466,2,1,none,57.74647887323943,74,71,72.5,0,1,0.0,0.0,1.0,0.0,0.0,0.0\\n467,3,0,none,45.07042253521126,47,56,51.5,0,1,0.0,0.0,0.0,0.0,1.0,0.0\\n468,2,0,none,43.66197183098591,75,74,74.5,1,0,1.0,0.0,0.0,0.0,0.0,0.0\\n469,1,1,completed,49.29577464788732,53,57,55.0,0,1,0.0,0.0,0.0,0.0,0.0,1.0\\n470,0,0,completed,70.42253521126761,82,82,82.0,0,1,1.0,0.0,0.0,0.0,0.0,0.0\\n471,0,0,none,50.704225352112665,85,76,80.5,1,0,1.0,0.0,0.0,0.0,0.0,0.0\\n472,2,1,none,49.29577464788732,64,70,67.0,1,0,1.0,0.0,0.0,0.0,0.0,0.0\\n473,2,1,none,76.05633802816902,83,90,86.5,1,0,0.0,0.0,0.0,0.0,1.0,0.0\\n474,2,1,none,73.2394366197183,88,90,89.0,1,0,0.0,1.0,0.0,0.0,0.0,0.0\\n475,1,1,none,35.2112676056338,64,68,66.0,1,0,0.0,0.0,1.0,0.0,0.0,0.0\\n476,3,1,completed,54.92957746478873,64,66,65.0,0,1,0.0,0.0,1.0,0.0,0.0,0.0\\n477,2,1,none,35.2112676056338,48,52,50.0,1,0,0.0,0.0,0.0,0.0,1.0,0.0\\n478,3,0,completed,42.25352112676057,78,76,77.0,1,0,0.0,0.0,0.0,0.0,1.0,0.0\\n479,1,1,none,52.112676056338024,69,68,68.5,1,0,0.0,0.0,0.0,0.0,0.0,1.0\\n480,4,1,none,66.19718309859155,71,72,71.5,0,1,0.0,0.0,0.0,0.0,1.0,0.0\\n481,3,1,none,63.38028169014084,79,82,80.5,1,0,0.0,0.0,0.0,1.0,0.0,0.0\\n482,1,1,completed,91.5492957746479,87,92,89.5,1,0,1.0,0.0,0.0,0.0,0.0,0.0\\n483,2,0,none,47.887323943661976,61,54,57.5,0,1,0.0,0.0,0.0,0.0,1.0,0.0\\n484,4,1,completed,92.95774647887325,89,92,90.5,1,0,1.0,0.0,0.0,0.0,0.0,0.0\\n485,3,0,none,15.492957746478872,59,54,56.5,1,0,0.0,0.0,0.0,1.0,0.0,0.0\\n486,1,1,none,74.64788732394365,82,80,81.0,1,0,0.0,0.0,0.0,0.0,0.0,1.0\\n487,0,1,none,54.92957746478873,70,66,68.0,0,1,0.0,0.0,1.0,0.0,0.0,0.0\\n488,1,0,none,36.61971830985916,59,54,56.5,0,1,0.0,1.0,0.0,0.0,0.0,0.0\\n489,2,1,none,70.42253521126761,78,77,77.5,0,1,0.0,0.0,0.0,1.0,0.0,0.0\\n490,2,1,none,80.28169014084506,92,87,89.5,1,0,0.0,1.0,0.0,0.0,0.0,0.0\\n491,3,1,none,66.19718309859155,71,73,72.0,0,1,0.0,0.0,0.0,0.0,1.0,0.0\\n492,0,1,none,49.29577464788732,50,43,46.5,0,1,0.0,0.0,0.0,0.0,0.0,1.0\\n493,3,0,none,46.478873239436616,49,52,50.5,0,1,0.0,0.0,0.0,0.0,0.0,1.0\\n494,1,1,completed,35.2112676056338,61,62,61.5,1,0,0.0,0.0,0.0,0.0,0.0,1.0\\n495,1,0,completed,67.6056338028169,97,94,95.5,1,0,0.0,0.0,0.0,1.0,0.0,0.0\\n496,2,1,completed,66.19718309859155,87,85,86.0,1,0,0.0,0.0,0.0,0.0,0.0,1.0\\n497,3,1,none,63.38028169014084,89,84,86.5,1,0,0.0,0.0,0.0,0.0,1.0,0.0\\n498,4,1,completed,52.112676056338024,74,73,73.5,1,0,0.0,0.0,0.0,0.0,1.0,0.0\\n499,3,1,completed,52.112676056338024,78,78,78.0,1,0,0.0,0.0,0.0,0.0,0.0,1.0\\n500,1,0,completed,53.521126760563384,78,79,78.5,1,0,0.0,0.0,1.0,0.0,0.0,0.0\\n501,3,1,none,59.15492957746479,49,52,50.5,0,1,0.0,0.0,0.0,0.0,1.0,0.0\\n502,2,1,none,87.32394366197184,86,84,85.0,1,0,1.0,0.0,0.0,0.0,0.0,0.0\\n503,3,1,none,56.33802816901407,58,57,57.5,0,1,0.0,1.0,0.0,0.0,0.0,0.0\\n504,2,0,none,35.2112676056338,59,50,54.5,0,1,0.0,0.0,0.0,1.0,0.0,0.0\\n505,2,1,completed,33.80281690140844,52,49,50.5,0,1,0.0,0.0,1.0,0.0,0.0,0.0\\n506,4,1,none,54.92957746478873,60,59,59.5,0,1,0.0,0.0,0.0,0.0,1.0,0.0\\n507,2,0,completed,38.028169014084504,61,60,60.5,0,1,0.0,0.0,0.0,0.0,0.0,1.0\\n508,2,0,none,9.859154929577464,53,43,48.0,1,0,0.0,0.0,1.0,0.0,0.0,0.0\\n509,3,0,none,0.0,41,47,44.0,1,0,0.0,1.0,0.0,0.0,0.0,0.0\\n510,2,1,none,46.478873239436616,74,70,72.0,1,0,1.0,0.0,0.0,0.0,0.0,0.0\\n511,2,1,completed,54.92957746478873,67,73,70.0,1,0,1.0,0.0,0.0,0.0,0.0,0.0\\n512,2,1,none,25.352112676056343,54,53,53.5,1,0,0.0,0.0,0.0,0.0,0.0,1.0\\n513,4,1,completed,46.478873239436616,61,58,59.5,0,1,1.0,0.0,0.0,0.0,0.0,0.0\\n514,4,1,completed,70.42253521126761,88,94,91.0,1,0,1.0,0.0,0.0,0.0,0.0,0.0\\n515,1,1,completed,61.97183098591548,69,68,68.5,0,1,0.0,0.0,1.0,0.0,0.0,0.0\\n516,2,0,completed,52.112676056338024,83,83,83.0,1,0,0.0,1.0,0.0,0.0,0.0,0.0\\n517,2,1,completed,30.98591549295775,60,58,59.0,0,1,1.0,0.0,0.0,0.0,0.0,0.0\\n518,3,1,none,30.98591549295775,66,62,64.0,1,0,0.0,0.0,1.0,0.0,0.0,0.0\\n519,4,1,completed,78.87323943661971,66,71,68.5,0,1,0.0,1.0,0.0,0.0,0.0,0.0\\n520,0,1,completed,95.77464788732394,92,86,89.0,0,1,1.0,0.0,0.0,0.0,0.0,0.0\\n521,2,1,completed,64.7887323943662,69,68,68.5,0,1,0.0,0.0,1.0,0.0,0.0,0.0\\n522,3,0,completed,70.42253521126761,82,80,81.0,0,1,1.0,0.0,0.0,0.0,0.0,0.0\\n523,3,1,none,74.64788732394365,95,89,92.0,1,0,1.0,0.0,0.0,0.0,0.0,0.0\\n524,3,1,none,49.29577464788732,63,66,64.5,1,0,0.0,0.0,0.0,1.0,0.0,0.0\\n525,4,0,completed,69.01408450704224,83,80,81.5,0,1,0.0,0.0,0.0,0.0,0.0,1.0\\n526,0,1,completed,88.73239436619718,100,97,98.5,1,0,0.0,0.0,0.0,0.0,0.0,1.0\\n527,2,1,completed,60.56338028169014,67,64,65.5,0,1,0.0,0.0,1.0,0.0,0.0,0.0\\n528,2,0,none,46.478873239436616,67,64,65.5,1,0,0.0,0.0,1.0,0.0,0.0,0.0\\n529,2,1,none,70.42253521126761,72,69,70.5,0,1,0.0,0.0,0.0,1.0,0.0,0.0\\n530,2,0,none,70.42253521126761,76,65,70.5,0,1,0.0,0.0,0.0,0.0,0.0,1.0\\n531,1,0,completed,81.69014084507043,90,88,89.0,0,1,0.0,1.0,0.0,0.0,0.0,0.0\\n532,1,1,none,15.492957746478872,48,50,49.0,1,0,1.0,0.0,0.0,0.0,0.0,0.0\\n533,3,0,none,67.6056338028169,62,64,63.0,0,1,0.0,0.0,0.0,0.0,1.0,0.0\\n534,4,1,none,33.80281690140844,45,40,42.5,0,1,1.0,0.0,0.0,0.0,0.0,0.0\\n535,2,0,none,4.225352112676056,39,33,36.0,1,0,0.0,0.0,0.0,0.0,1.0,0.0\\n536,2,1,completed,36.61971830985916,72,79,75.5,1,0,1.0,0.0,0.0,0.0,0.0,0.0\\n537,2,0,none,45.07042253521126,67,66,66.5,0,1,0.0,0.0,0.0,1.0,0.0,0.0\\n538,1,0,none,33.80281690140844,70,70,70.0,1,0,1.0,0.0,0.0,0.0,0.0,0.0\\n539,3,1,none,61.97183098591548,66,62,64.0,0,1,0.0,0.0,0.0,0.0,0.0,1.0\\n540,3,1,completed,63.38028169014084,75,79,77.0,1,0,0.0,0.0,0.0,0.0,1.0,0.0\\n541,2,1,none,47.887323943661976,74,74,74.0,1,0,0.0,0.0,0.0,0.0,1.0,0.0\\n542,2,1,completed,94.36619718309859,90,92,91.0,0,1,0.0,1.0,0.0,0.0,0.0,0.0\\n543,3,0,completed,47.887323943661976,80,80,80.0,1,0,0.0,0.0,0.0,0.0,1.0,0.0\\n544,1,0,none,26.76056338028169,51,46,48.5,0,1,0.0,1.0,0.0,0.0,0.0,0.0\\n545,1,1,none,26.76056338028169,43,45,44.0,0,1,1.0,0.0,0.0,0.0,0.0,0.0\\n546,4,0,completed,88.73239436619718,100,100,100.0,1,0,0.0,1.0,0.0,0.0,0.0,0.0\\n547,3,0,none,45.07042253521126,71,78,74.5,1,0,0.0,0.0,0.0,1.0,0.0,0.0\\n548,1,0,none,47.887323943661976,48,47,47.5,0,1,0.0,0.0,1.0,0.0,0.0,0.0\\n549,3,0,none,54.92957746478873,68,67,67.5,0,1,0.0,1.0,0.0,0.0,0.0,0.0\\n550,1,1,completed,59.15492957746479,75,70,72.5,0,1,0.0,0.0,0.0,0.0,1.0,0.0\\n551,0,1,none,87.32394366197184,96,92,94.0,0,1,0.0,1.0,0.0,0.0,0.0,0.0\\n552,2,1,none,33.80281690140844,62,56,59.0,1,0,0.0,0.0,0.0,0.0,1.0,0.0\\n553,2,0,completed,29.577464788732392,66,64,65.0,1,0,0.0,0.0,1.0,0.0,0.0,0.0\\n554,4,1,none,63.38028169014084,81,71,76.0,1,0,0.0,0.0,1.0,0.0,0.0,0.0\\n555,0,0,completed,15.492957746478872,55,53,54.0,0,1,1.0,0.0,0.0,0.0,0.0,0.0\\n556,0,1,completed,45.07042253521126,51,52,51.5,0,1,0.0,0.0,0.0,0.0,1.0,0.0\\n557,1,1,none,73.2394366197183,91,89,90.0,1,0,0.0,0.0,1.0,0.0,0.0,0.0\\n558,1,0,completed,26.76056338028169,56,58,57.0,1,0,0.0,0.0,0.0,0.0,1.0,0.0\\n559,3,1,none,33.80281690140844,61,68,64.5,1,0,0.0,0.0,0.0,1.0,0.0,0.0\\n560,3,1,none,73.2394366197183,97,96,96.5,1,0,0.0,0.0,0.0,0.0,0.0,1.0\\n561,4,1,none,67.6056338028169,79,80,79.5,1,0,0.0,0.0,0.0,0.0,0.0,1.0\\n562,3,0,none,47.887323943661976,73,78,75.5,1,0,0.0,1.0,0.0,0.0,0.0,0.0\\n563,3,1,completed,61.97183098591548,75,80,77.5,1,0,1.0,0.0,0.0,0.0,0.0,0.0\\n564,3,1,none,56.33802816901407,77,77,77.0,1,0,0.0,0.0,0.0,0.0,1.0,0.0\\n565,2,1,none,50.704225352112665,76,76,76.0,1,0,1.0,0.0,0.0,0.0,0.0,0.0\\n566,0,1,none,36.61971830985916,73,73,73.0,1,0,0.0,0.0,1.0,0.0,0.0,0.0\\n567,2,0,none,21.12676056338028,63,62,62.5,1,0,0.0,1.0,0.0,0.0,0.0,0.0\\n568,2,1,none,35.2112676056338,64,65,64.5,1,0,0.0,0.0,0.0,0.0,1.0,0.0\\n569,0,1,none,26.76056338028169,66,65,65.5,1,0,0.0,0.0,0.0,0.0,0.0,1.0\\n570,2,0,none,40.84507042253521,57,54,55.5,0,1,0.0,0.0,0.0,0.0,1.0,0.0\\n571,0,1,none,59.15492957746479,62,50,56.0,0,1,0.0,0.0,0.0,0.0,0.0,1.0\\n572,4,1,none,54.92957746478873,68,64,66.0,0,1,0.0,1.0,0.0,0.0,0.0,0.0\\n573,4,1,none,63.38028169014084,76,73,74.5,1,0,0.0,0.0,1.0,0.0,0.0,0.0\\n574,2,1,completed,88.73239436619718,100,99,99.5,1,0,0.0,1.0,0.0,0.0,0.0,0.0\\n575,2,1,completed,38.028169014084504,79,72,75.5,1,0,0.0,1.0,0.0,0.0,0.0,0.0\\n576,0,1,none,33.80281690140844,54,48,51.0,0,1,0.0,0.0,0.0,0.0,0.0,1.0\\n577,3,1,none,56.33802816901407,77,73,75.0,1,0,0.0,0.0,1.0,0.0,0.0,0.0\\n578,3,1,none,50.704225352112665,82,81,81.5,1,0,0.0,0.0,0.0,0.0,0.0,1.0\\n579,3,1,none,35.2112676056338,60,63,61.5,1,0,0.0,0.0,0.0,1.0,0.0,0.0\\n580,4,1,none,66.19718309859155,78,80,79.0,1,0,0.0,0.0,0.0,0.0,1.0,0.0\\n581,3,0,none,43.66197183098591,57,51,54.0,0,1,0.0,0.0,1.0,0.0,0.0,0.0\\n582,3,0,completed,77.46478873239437,89,90,89.5,0,1,0.0,0.0,0.0,1.0,0.0,0.0\\n583,2,1,none,64.7887323943662,72,62,67.0,0,1,0.0,0.0,0.0,0.0,0.0,1.0\\n584,2,1,none,78.87323943661971,84,82,83.0,1,0,1.0,0.0,0.0,0.0,0.0,0.0\\n585,2,0,none,15.492957746478872,58,54,56.0,1,0,0.0,0.0,0.0,1.0,0.0,0.0\\n586,4,1,none,45.07042253521126,64,62,63.0,1,0,0.0,0.0,0.0,0.0,1.0,0.0\\n587,1,1,none,40.84507042253521,63,65,64.0,1,0,1.0,0.0,0.0,0.0,0.0,0.0\\n588,3,0,completed,56.33802816901407,60,63,61.5,0,1,0.0,0.0,0.0,0.0,1.0,0.0\\n589,2,1,none,40.84507042253521,59,66,62.5,1,0,0.0,0.0,0.0,0.0,1.0,0.0\\n590,2,1,completed,91.5492957746479,90,91,90.5,0,1,0.0,1.0,0.0,0.0,0.0,0.0\\n591,2,1,none,50.704225352112665,77,74,75.5,1,0,1.0,0.0,0.0,0.0,0.0,0.0\\n592,0,1,none,74.64788732394365,93,93,93.0,1,0,1.0,0.0,0.0,0.0,0.0,0.0\\n593,2,1,none,43.66197183098591,68,72,70.0,1,0,0.0,0.0,1.0,0.0,0.0,0.0\\n594,4,1,none,11.267605633802816,45,38,41.5,1,0,0.0,1.0,0.0,0.0,0.0,0.0\\n595,3,1,none,83.09859154929578,78,83,80.5,0,1,0.0,1.0,0.0,0.0,0.0,0.0\\n596,3,1,none,92.95774647887325,81,84,82.5,0,1,0.0,0.0,0.0,1.0,0.0,0.0\\n597,2,0,completed,50.704225352112665,73,68,70.5,0,1,1.0,0.0,0.0,0.0,0.0,0.0\\n598,2,0,none,8.450704225352112,61,54,57.5,1,0,0.0,0.0,1.0,0.0,0.0,0.0\\n599,1,0,none,46.478873239436616,63,56,59.5,0,1,0.0,1.0,0.0,0.0,0.0,0.0\\n600,2,0,completed,40.84507042253521,51,52,51.5,0,1,0.0,0.0,1.0,0.0,0.0,0.0\\n601,0,1,completed,100.0,96,86,91.0,0,1,0.0,0.0,0.0,0.0,1.0,0.0\\n602,4,0,none,45.07042253521126,58,62,60.0,1,0,0.0,1.0,0.0,0.0,0.0,0.0\\n603,3,1,completed,100.0,97,99,98.0,0,1,0.0,0.0,0.0,0.0,1.0,0.0\\n604,1,0,completed,56.33802816901407,70,63,66.5,0,1,1.0,0.0,0.0,0.0,0.0,0.0\\n605,3,1,none,45.07042253521126,48,46,47.0,0,1,1.0,0.0,0.0,0.0,0.0,0.0\\n606,3,0,none,28.169014084507033,57,46,51.5,0,1,0.0,0.0,0.0,0.0,1.0,0.0\\n607,2,1,completed,21.12676056338028,51,55,53.0,1,0,0.0,0.0,0.0,0.0,0.0,1.0\\n608,3,1,none,53.521126760563384,64,70,67.0,0,1,0.0,0.0,0.0,0.0,1.0,0.0\\n609,1,1,none,70.42253521126761,60,65,62.5,0,1,0.0,0.0,1.0,0.0,0.0,0.0\\n610,1,1,completed,52.112676056338024,74,81,77.5,1,0,0.0,1.0,0.0,0.0,0.0,0.0\\n611,2,1,none,64.7887323943662,88,85,86.5,1,0,0.0,0.0,1.0,0.0,0.0,0.0\\n612,3,1,none,77.46478873239437,84,80,82.0,0,1,0.0,0.0,0.0,0.0,0.0,1.0\\n613,0,1,none,59.15492957746479,74,64,69.0,0,1,0.0,0.0,1.0,0.0,0.0,0.0\\n614,1,0,completed,53.521126760563384,80,81,80.5,1,0,0.0,0.0,1.0,0.0,0.0,0.0\\n615,3,1,completed,71.83098591549296,92,88,90.0,1,0,0.0,0.0,0.0,0.0,0.0,1.0\\n616,4,1,none,80.28169014084506,76,74,75.0,0,1,0.0,0.0,0.0,0.0,1.0,0.0\\n617,3,1,none,66.19718309859155,74,73,73.5,1,0,1.0,0.0,0.0,0.0,0.0,0.0\\n618,3,1,none,16.901408450704224,52,51,51.5,0,1,0.0,0.0,1.0,0.0,0.0,0.0\\n619,3,0,completed,63.38028169014084,88,90,89.0,1,0,1.0,0.0,0.0,0.0,0.0,0.0\\n620,1,0,none,60.56338028169014,81,79,80.0,1,0,0.0,0.0,0.0,0.0,0.0,1.0\\n621,4,1,completed,63.38028169014084,79,80,79.5,1,0,0.0,0.0,1.0,0.0,0.0,0.0\\n622,1,1,none,57.74647887323943,65,60,62.5,0,1,0.0,0.0,1.0,0.0,0.0,0.0\\n623,1,1,completed,50.704225352112665,81,81,81.0,1,0,0.0,1.0,0.0,0.0,0.0,0.0\\n624,3,1,none,42.25352112676057,70,65,67.5,1,0,1.0,0.0,0.0,0.0,0.0,0.0\\n625,4,0,none,49.29577464788732,62,68,65.0,1,0,0.0,0.0,1.0,0.0,0.0,0.0\\n626,1,1,none,29.577464788732392,53,55,54.0,1,0,0.0,0.0,1.0,0.0,0.0,0.0\\n627,3,1,completed,56.33802816901407,79,81,80.0,1,0,0.0,0.0,0.0,0.0,1.0,0.0\\n628,2,0,completed,30.98591549295775,56,53,54.5,0,1,0.0,0.0,0.0,0.0,0.0,1.0\\n629,0,1,completed,54.92957746478873,80,76,78.0,1,0,0.0,0.0,1.0,0.0,0.0,0.0\\n630,3,1,none,78.87323943661971,86,98,92.0,1,0,0.0,0.0,0.0,0.0,1.0,0.0\\n631,0,1,completed,50.704225352112665,70,74,72.0,1,0,1.0,0.0,0.0,0.0,0.0,0.0\\n632,1,1,none,61.97183098591548,79,79,79.0,1,0,0.0,0.0,0.0,0.0,0.0,1.0\\n633,1,1,none,46.478873239436616,67,67,67.0,1,0,0.0,0.0,0.0,0.0,1.0,0.0\\n634,2,0,none,67.6056338028169,67,64,65.5,0,1,1.0,0.0,0.0,0.0,0.0,0.0\\n635,3,1,none,56.33802816901407,66,61,63.5,0,1,0.0,0.0,0.0,0.0,0.0,1.0\\n636,3,0,none,19.718309859154928,60,58,59.0,1,0,1.0,0.0,0.0,0.0,0.0,0.0\\n637,3,1,none,85.91549295774647,87,85,86.0,0,1,1.0,0.0,0.0,0.0,0.0,0.0\\n638,2,0,none,63.38028169014084,77,73,75.0,0,1,0.0,0.0,0.0,0.0,1.0,0.0\\n639,2,1,none,61.97183098591548,66,63,64.5,0,1,0.0,0.0,0.0,0.0,0.0,1.0\\n640,3,0,none,36.61971830985916,71,69,70.0,1,0,0.0,0.0,0.0,0.0,1.0,0.0\\n641,2,1,none,50.704225352112665,69,67,68.0,1,0,0.0,0.0,1.0,0.0,0.0,0.0\\n642,3,1,none,71.83098591549296,63,63,63.0,0,1,1.0,0.0,0.0,0.0,0.0,0.0\\n643,2,0,completed,29.577464788732392,60,60,60.0,1,0,0.0,0.0,0.0,0.0,0.0,1.0\\n644,2,0,completed,47.887323943661976,73,71,72.0,1,0,0.0,0.0,0.0,0.0,1.0,0.0\\n645,1,0,none,67.6056338028169,85,87,86.0,1,0,0.0,1.0,0.0,0.0,0.0,0.0\\n646,2,1,none,61.97183098591548,74,61,67.5,0,1,0.0,0.0,0.0,0.0,1.0,0.0\\n647,3,1,completed,73.2394366197183,72,77,74.5,0,1,1.0,0.0,0.0,0.0,0.0,0.0\\n648,2,0,none,52.112676056338024,76,68,72.0,1,0,0.0,0.0,1.0,0.0,0.0,0.0\\n649,3,0,none,32.394366197183096,57,50,53.5,0,1,1.0,0.0,0.0,0.0,0.0,0.0\\n650,2,1,none,56.33802816901407,78,76,77.0,1,0,0.0,0.0,0.0,0.0,1.0,0.0\\n651,2,1,completed,50.704225352112665,84,84,84.0,1,0,1.0,0.0,0.0,0.0,0.0,0.0\\n652,3,1,completed,56.33802816901407,77,78,77.5,1,0,0.0,0.0,1.0,0.0,0.0,0.0\\n653,4,1,completed,61.97183098591548,78,76,77.0,1,0,0.0,0.0,0.0,0.0,1.0,0.0\\n654,2,1,completed,57.74647887323943,82,76,79.0,1,0,0.0,0.0,0.0,0.0,0.0,1.0\\n655,3,0,none,73.2394366197183,75,78,76.5,0,1,1.0,0.0,0.0,0.0,0.0,0.0\\n656,3,0,none,47.887323943661976,61,60,60.5,0,1,0.0,0.0,0.0,0.0,1.0,0.0\\n657,3,1,none,53.521126760563384,72,74,73.0,1,0,0.0,0.0,1.0,0.0,0.0,0.0\\n658,1,1,none,43.66197183098591,68,60,64.0,0,1,0.0,0.0,1.0,0.0,0.0,0.0\\n659,1,1,none,46.478873239436616,55,54,54.5,0,1,0.0,0.0,1.0,0.0,0.0,0.0\\n660,2,0,completed,0.0,40,44,42.0,1,0,0.0,0.0,0.0,0.0,0.0,1.0\\n661,1,1,completed,46.478873239436616,66,68,67.0,0,1,0.0,0.0,0.0,0.0,1.0,0.0\\n662,4,1,completed,91.5492957746479,99,100,99.5,1,0,0.0,0.0,0.0,1.0,0.0,0.0\\n663,4,1,completed,78.87323943661971,75,68,71.5,0,1,0.0,0.0,0.0,0.0,1.0,0.0\\n664,3,0,none,67.6056338028169,78,73,75.5,0,1,1.0,0.0,0.0,0.0,0.0,0.0\\n665,0,0,none,33.80281690140844,58,44,51.0,0,1,0.0,0.0,1.0,0.0,0.0,0.0\\n666,4,0,none,90.14084507042253,90,83,86.5,0,1,0.0,0.0,0.0,0.0,1.0,0.0\\n667,2,1,none,28.169014084507033,53,53,53.0,1,0,1.0,0.0,0.0,0.0,0.0,0.0\\n668,4,0,none,61.97183098591548,76,78,77.0,1,0,1.0,0.0,0.0,0.0,0.0,0.0\\n669,2,0,completed,52.112676056338024,74,81,77.5,1,0,0.0,1.0,0.0,0.0,0.0,0.0\\n670,3,1,none,67.6056338028169,77,73,75.0,1,0,1.0,0.0,0.0,0.0,0.0,0.0\\n671,2,1,none,28.169014084507033,63,56,59.5,1,0,0.0,0.0,0.0,0.0,0.0,1.0\\n672,3,0,none,70.42253521126761,89,86,87.5,1,0,0.0,0.0,0.0,0.0,1.0,0.0\\n673,0,1,none,42.25352112676057,72,70,71.0,1,0,0.0,1.0,0.0,0.0,0.0,0.0\\n674,3,1,completed,39.43661971830985,78,79,78.5,1,0,1.0,0.0,0.0,0.0,0.0,0.0\\n675,2,0,none,52.112676056338024,66,59,62.5,0,1,0.0,0.0,1.0,0.0,0.0,0.0\\n676,4,1,completed,70.42253521126761,81,82,81.5,1,0,0.0,1.0,0.0,0.0,0.0,0.0\\n677,1,1,none,39.43661971830985,67,72,69.5,1,0,0.0,0.0,0.0,0.0,0.0,1.0\\n678,0,1,completed,81.69014084507043,84,87,85.5,0,1,0.0,1.0,0.0,0.0,0.0,0.0\\n679,3,1,none,47.887323943661976,64,67,65.5,1,0,0.0,0.0,0.0,0.0,1.0,0.0\\n680,1,0,completed,42.25352112676057,63,64,63.5,1,0,0.0,0.0,0.0,0.0,0.0,1.0\\n681,0,0,none,46.478873239436616,72,65,68.5,0,1,0.0,1.0,0.0,0.0,0.0,0.0\\n682,2,1,none,52.112676056338024,59,52,55.5,0,1,0.0,0.0,0.0,0.0,1.0,0.0\\n683,3,1,none,84.50704225352112,87,79,83.0,0,1,0.0,0.0,1.0,0.0,0.0,0.0\\n684,3,0,completed,18.309859154929576,61,58,59.5,1,0,1.0,0.0,0.0,0.0,0.0,0.0\\n685,2,1,completed,90.14084507042253,84,90,87.0,0,1,0.0,0.0,0.0,0.0,1.0,0.0\\n686,4,1,completed,71.83098591549296,85,85,85.0,1,0,0.0,0.0,0.0,0.0,0.0,1.0\\n687,3,1,none,97.18309859154928,100,99,99.5,1,0,0.0,0.0,0.0,0.0,1.0,0.0\\n688,3,1,none,73.2394366197183,81,84,82.5,0,1,0.0,0.0,0.0,1.0,0.0,0.0\\n689,1,1,completed,43.66197183098591,70,74,72.0,1,0,0.0,0.0,0.0,0.0,0.0,1.0\\n690,1,0,completed,66.19718309859155,94,87,90.5,1,0,1.0,0.0,0.0,0.0,0.0,0.0\\n691,2,1,completed,61.97183098591548,78,72,75.0,0,1,1.0,0.0,0.0,0.0,0.0,0.0\\n692,2,1,none,66.19718309859155,76,74,75.0,1,0,0.0,0.0,1.0,0.0,0.0,0.0\\n693,4,0,completed,87.32394366197184,73,80,76.5,0,1,1.0,0.0,0.0,0.0,0.0,0.0\\n694,2,0,none,46.478873239436616,72,70,71.0,1,0,0.0,0.0,0.0,0.0,1.0,0.0\\n695,3,0,completed,36.61971830985916,59,59,59.0,0,1,0.0,0.0,0.0,0.0,0.0,1.0\\n696,1,0,completed,63.38028169014084,90,88,89.0,1,0,0.0,0.0,0.0,0.0,0.0,1.0\\n697,1,1,none,25.352112676056343,43,41,42.0,0,1,0.0,0.0,0.0,0.0,1.0,0.0\\n698,4,1,completed,73.2394366197183,74,71,72.5,0,1,0.0,0.0,0.0,0.0,1.0,0.0\\n699,4,1,completed,50.704225352112665,75,77,76.0,1,0,1.0,0.0,0.0,0.0,0.0,0.0\\n700,4,1,completed,54.92957746478873,51,57,54.0,0,1,0.0,0.0,0.0,0.0,0.0,1.0\\n701,3,0,none,61.97183098591548,92,84,88.0,1,0,0.0,0.0,1.0,0.0,0.0,0.0\\n702,2,1,none,33.80281690140844,39,37,38.0,0,1,0.0,0.0,0.0,0.0,1.0,0.0\\n703,1,0,completed,54.92957746478873,77,80,78.5,1,0,1.0,0.0,0.0,0.0,0.0,0.0\\n704,0,0,none,36.61971830985916,46,43,44.5,0,1,0.0,0.0,0.0,0.0,0.0,1.0\\n705,2,1,completed,81.69014084507043,89,94,91.5,1,0,0.0,0.0,0.0,0.0,1.0,0.0\\n706,3,1,none,36.61971830985916,47,44,45.5,0,1,0.0,0.0,0.0,0.0,0.0,1.0\\n707,4,0,none,33.80281690140844,58,57,57.5,1,0,0.0,0.0,0.0,0.0,1.0,0.0\\n708,2,1,none,53.521126760563384,57,59,58.0,0,1,0.0,0.0,0.0,1.0,0.0,0.0\\n709,2,1,none,88.73239436619718,79,84,81.5,0,1,1.0,0.0,0.0,0.0,0.0,0.0\\n710,1,0,completed,33.80281690140844,66,73,69.5,1,0,0.0,0.0,0.0,0.0,1.0,0.0\\n711,3,1,none,73.2394366197183,71,73,72.0,0,1,1.0,0.0,0.0,0.0,0.0,0.0\\n712,2,0,none,45.07042253521126,60,55,57.5,0,1,0.0,0.0,1.0,0.0,0.0,0.0\\n713,3,1,none,71.83098591549296,73,72,72.5,0,1,0.0,1.0,0.0,0.0,0.0,0.0\\n714,0,0,none,11.267605633802816,57,56,56.5,1,0,1.0,0.0,0.0,0.0,0.0,0.0\\n715,2,1,none,73.2394366197183,84,82,83.0,1,0,0.0,0.0,1.0,0.0,0.0,0.0\\n716,2,1,completed,42.25352112676057,73,72,72.5,1,0,1.0,0.0,0.0,0.0,0.0,0.0\\n717,1,0,none,36.61971830985916,55,47,51.0,0,1,0.0,0.0,0.0,0.0,1.0,0.0\\n718,3,1,none,60.56338028169014,79,74,76.5,0,1,1.0,0.0,0.0,0.0,0.0,0.0\\n719,3,1,none,56.33802816901407,75,71,73.0,0,1,0.0,0.0,1.0,0.0,0.0,0.0\\n720,2,1,none,56.33802816901407,64,68,66.0,0,1,0.0,0.0,0.0,0.0,1.0,0.0\\n721,2,0,none,29.577464788732392,60,59,59.5,1,0,0.0,1.0,0.0,0.0,0.0,0.0\\n722,1,1,completed,81.69014084507043,84,86,85.0,0,1,0.0,0.0,0.0,0.0,1.0,0.0\\n723,3,1,none,59.15492957746479,69,68,68.5,0,1,0.0,0.0,0.0,0.0,0.0,1.0\\n724,4,1,none,54.92957746478873,72,65,68.5,0,1,0.0,0.0,0.0,0.0,1.0,0.0\\n725,2,0,completed,70.42253521126761,77,75,76.0,0,1,0.0,0.0,0.0,1.0,0.0,0.0\\n726,2,1,completed,67.6056338028169,90,85,87.5,1,0,0.0,0.0,0.0,0.0,0.0,1.0\\n727,2,0,none,40.84507042253521,55,53,54.0,0,1,1.0,0.0,0.0,0.0,0.0,0.0\\n728,4,1,none,77.46478873239437,95,92,93.5,1,0,1.0,0.0,0.0,0.0,0.0,0.0\\n729,3,1,none,36.61971830985916,58,52,55.0,0,1,0.0,0.0,0.0,0.0,1.0,0.0\\n730,4,0,completed,57.74647887323943,68,72,70.0,0,1,0.0,1.0,0.0,0.0,0.0,0.0\\n731,3,0,completed,32.394366197183096,59,65,62.0,1,0,0.0,0.0,0.0,0.0,1.0,0.0\\n732,1,1,completed,56.33802816901407,77,77,77.0,0,1,0.0,0.0,0.0,0.0,1.0,0.0\\n733,2,0,none,33.80281690140844,72,64,68.0,1,0,0.0,0.0,1.0,0.0,0.0,0.0\\n734,3,1,none,26.76056338028169,58,54,56.0,1,0,0.0,0.0,0.0,0.0,0.0,1.0\\n735,3,1,completed,69.01408450704224,81,86,83.5,0,1,0.0,0.0,0.0,0.0,0.0,1.0\\n736,1,1,none,46.478873239436616,62,63,62.5,1,0,0.0,0.0,1.0,0.0,0.0,0.0\\n737,3,1,none,43.66197183098591,63,59,61.0,0,1,0.0,0.0,0.0,0.0,1.0,0.0\\n738,1,1,none,63.38028169014084,72,72,72.0,1,0,0.0,0.0,1.0,0.0,0.0,0.0\\n739,2,1,completed,40.84507042253521,75,77,76.0,1,0,0.0,0.0,1.0,0.0,0.0,0.0\\n740,1,1,completed,66.19718309859155,62,60,61.0,0,1,0.0,0.0,1.0,0.0,0.0,0.0\\n741,3,1,none,54.92957746478873,71,75,73.0,1,0,0.0,0.0,0.0,0.0,0.0,1.0\\n742,0,0,none,40.84507042253521,60,57,58.5,0,1,0.0,0.0,0.0,0.0,1.0,0.0\\n743,1,1,none,32.394366197183096,48,49,48.5,0,1,0.0,0.0,1.0,0.0,0.0,0.0\\n744,3,1,none,64.7887323943662,73,74,73.5,0,1,0.0,1.0,0.0,0.0,0.0,0.0\\n745,1,0,completed,32.394366197183096,67,72,69.5,1,0,0.0,0.0,0.0,0.0,0.0,1.0\\n746,2,0,none,46.478873239436616,78,79,78.5,1,0,0.0,1.0,0.0,0.0,0.0,0.0\\n747,1,1,none,52.112676056338024,65,60,62.5,0,1,0.0,0.0,0.0,0.0,1.0,0.0\\n748,1,0,none,28.169014084507033,58,55,56.5,1,0,0.0,0.0,0.0,0.0,0.0,1.0\\n749,1,1,none,52.112676056338024,72,70,71.0,1,0,0.0,0.0,1.0,0.0,0.0,0.0\\n750,2,0,none,8.450704225352112,44,43,43.5,1,0,0.0,0.0,0.0,0.0,1.0,0.0\\n751,0,1,completed,60.56338028169014,79,82,80.5,1,0,0.0,0.0,0.0,0.0,1.0,0.0\\n752,4,1,completed,91.5492957746479,85,82,83.5,0,1,1.0,0.0,0.0,0.0,0.0,0.0\\n753,3,0,none,23.943661971830984,56,57,56.5,1,0,1.0,0.0,0.0,0.0,0.0,0.0\\n754,1,1,none,67.6056338028169,90,84,87.0,1,0,0.0,0.0,0.0,1.0,0.0,0.0\\n755,1,0,completed,66.19718309859155,85,82,83.5,1,0,0.0,0.0,1.0,0.0,0.0,0.0\\n756,2,1,completed,32.394366197183096,59,62,60.5,1,0,1.0,0.0,0.0,0.0,0.0,0.0\\n757,2,1,completed,87.32394366197184,81,79,80.0,0,1,0.0,1.0,0.0,0.0,0.0,0.0\\n758,1,1,completed,4.225352112676056,51,44,47.5,1,0,0.0,0.0,0.0,0.0,0.0,1.0\\n759,4,0,none,60.56338028169014,79,77,78.0,1,0,0.0,0.0,0.0,0.0,0.0,1.0\\n760,2,0,none,54.92957746478873,65,61,63.0,0,1,1.0,0.0,0.0,0.0,0.0,0.0\\n761,2,0,none,32.394366197183096,65,61,63.0,1,0,0.0,0.0,0.0,1.0,0.0,0.0\\n762,1,1,none,26.76056338028169,62,60,61.0,1,0,0.0,0.0,1.0,0.0,0.0,0.0\\n763,3,0,none,43.66197183098591,66,70,68.0,1,0,0.0,0.0,0.0,0.0,1.0,0.0\\n764,3,0,none,52.112676056338024,74,69,71.5,0,1,0.0,0.0,1.0,0.0,0.0,0.0\\n765,4,1,completed,84.50704225352112,84,77,80.5,0,1,0.0,0.0,0.0,0.0,0.0,1.0\\n766,1,1,none,18.309859154929576,52,51,51.5,1,0,0.0,0.0,1.0,0.0,0.0,0.0\\n767,4,0,completed,39.43661971830985,68,73,70.5,1,0,1.0,0.0,0.0,0.0,0.0,0.0\\n768,3,1,none,57.74647887323943,70,70,70.0,0,1,0.0,0.0,1.0,0.0,0.0,0.0\\n769,4,0,none,57.74647887323943,84,81,82.5,1,0,1.0,0.0,0.0,0.0,0.0,0.0\\n770,4,1,none,56.33802816901407,60,54,57.0,0,1,0.0,0.0,0.0,0.0,1.0,0.0\\n771,2,1,none,32.394366197183096,55,57,56.0,1,0,1.0,0.0,0.0,0.0,0.0,0.0\\n772,2,1,completed,53.521126760563384,73,68,70.5,0,1,0.0,0.0,0.0,0.0,0.0,1.0\\n773,2,1,completed,66.19718309859155,80,73,76.5,0,1,0.0,0.0,0.0,0.0,0.0,1.0\\n774,4,1,none,81.69014084507043,94,95,94.5,1,0,1.0,0.0,0.0,0.0,0.0,0.0\\n775,2,1,none,61.97183098591548,76,78,77.0,1,0,0.0,0.0,0.0,0.0,1.0,0.0\\n776,0,0,none,64.7887323943662,81,74,77.5,0,1,0.0,0.0,0.0,0.0,1.0,0.0\\n777,3,0,none,49.29577464788732,74,75,74.5,1,0,0.0,0.0,0.0,0.0,1.0,0.0\\n778,4,0,none,16.901408450704224,45,40,42.5,1,0,0.0,0.0,1.0,0.0,0.0,0.0\\n779,2,1,none,85.91549295774647,75,69,72.0,0,1,0.0,0.0,1.0,0.0,0.0,0.0\\n780,1,1,none,42.25352112676057,54,51,52.5,0,1,0.0,1.0,0.0,0.0,0.0,0.0\\n781,0,0,none,22.535211267605632,47,49,48.0,0,1,0.0,0.0,1.0,0.0,0.0,0.0\\n782,2,1,completed,35.2112676056338,64,67,65.5,1,0,0.0,0.0,0.0,1.0,0.0,0.0\\n783,4,1,completed,81.69014084507043,84,76,80.0,0,1,0.0,0.0,0.0,0.0,0.0,1.0\\n784,1,1,completed,91.5492957746479,86,87,86.5,0,1,0.0,0.0,0.0,0.0,0.0,1.0\\n785,0,1,none,22.535211267605632,59,64,61.5,1,0,0.0,1.0,0.0,0.0,0.0,0.0\\n786,3,0,completed,45.07042253521126,70,76,73.0,0,1,0.0,1.0,0.0,0.0,0.0,0.0\\n787,1,0,none,43.66197183098591,72,68,70.0,1,0,0.0,0.0,1.0,0.0,0.0,0.0\\n788,2,1,none,67.6056338028169,91,88,89.5,1,0,0.0,0.0,0.0,0.0,0.0,1.0\\n789,0,1,completed,78.87323943661971,90,92,91.0,1,0,0.0,0.0,0.0,0.0,0.0,1.0\\n790,3,0,none,69.01408450704224,90,93,91.5,1,0,0.0,1.0,0.0,0.0,0.0,0.0\\n791,4,0,completed,28.169014084507033,52,51,51.5,0,1,0.0,0.0,0.0,0.0,1.0,0.0\\n792,1,0,none,59.15492957746479,87,82,84.5,1,0,0.0,0.0,1.0,0.0,0.0,0.0\\n793,2,0,none,26.76056338028169,58,52,55.0,1,0,0.0,0.0,0.0,0.0,0.0,1.0\\n794,2,1,none,46.478873239436616,67,58,62.5,0,1,0.0,0.0,1.0,0.0,0.0,0.0\\n795,2,0,completed,38.028169014084504,68,70,69.0,1,0,1.0,0.0,0.0,0.0,0.0,0.0\\n796,2,1,none,50.704225352112665,69,76,72.5,1,0,0.0,0.0,0.0,0.0,0.0,1.0\\n797,3,0,completed,56.33802816901407,86,81,83.5,1,0,0.0,0.0,0.0,0.0,0.0,1.0\\n798,1,1,none,54.92957746478873,54,53,53.5,0,1,0.0,0.0,0.0,0.0,0.0,1.0\\n799,0,0,none,45.07042253521126,60,57,58.5,1,0,0.0,0.0,0.0,0.0,1.0,0.0\\n800,2,0,completed,63.38028169014084,86,89,87.5,1,0,0.0,1.0,0.0,0.0,0.0,0.0\\n801,0,1,none,49.29577464788732,60,58,59.0,0,1,0.0,1.0,0.0,0.0,0.0,0.0\\n802,1,1,completed,67.6056338028169,82,89,85.5,1,0,0.0,0.0,1.0,0.0,0.0,0.0\\n803,1,1,none,40.84507042253521,50,45,47.5,0,1,0.0,0.0,0.0,0.0,1.0,0.0\\n804,2,1,completed,43.66197183098591,64,74,69.0,1,0,0.0,0.0,1.0,0.0,0.0,0.0\\n805,4,1,none,61.97183098591548,64,57,60.5,0,1,0.0,0.0,1.0,0.0,0.0,0.0\\n806,1,0,completed,40.84507042253521,57,53,55.0,0,1,1.0,0.0,0.0,0.0,0.0,0.0\\n807,2,1,none,52.112676056338024,77,73,75.0,1,0,1.0,0.0,0.0,0.0,0.0,0.0\\n808,3,0,none,14.08450704225352,52,46,49.0,1,0,0.0,0.0,1.0,0.0,0.0,0.0\\n809,2,1,none,49.29577464788732,58,51,54.5,0,1,0.0,0.0,0.0,0.0,0.0,1.0\\n810,1,0,completed,63.38028169014084,77,76,76.5,0,1,0.0,0.0,0.0,0.0,1.0,0.0\\n811,3,0,completed,15.492957746478872,65,64,64.5,1,0,0.0,0.0,0.0,0.0,0.0,1.0\\n812,4,1,none,85.91549295774647,85,84,84.5,0,1,0.0,0.0,0.0,1.0,0.0,0.0\\n813,2,1,completed,87.32394366197184,85,85,85.0,0,1,0.0,0.0,0.0,1.0,0.0,0.0\\n814,3,1,none,49.29577464788732,54,50,52.0,0,1,0.0,0.0,1.0,0.0,0.0,0.0\\n815,3,1,none,71.83098591549296,75,69,72.0,0,1,1.0,0.0,0.0,0.0,0.0,0.0\\n816,2,1,none,59.15492957746479,67,67,67.0,0,1,0.0,0.0,0.0,1.0,0.0,0.0\\n817,0,1,none,45.07042253521126,68,63,65.5,1,0,0.0,0.0,1.0,0.0,0.0,0.0\\n818,4,1,none,81.69014084507043,85,93,89.0,1,0,0.0,0.0,0.0,0.0,1.0,0.0\\n819,4,1,none,74.64788732394365,67,61,64.0,0,1,0.0,0.0,0.0,0.0,0.0,1.0\\n820,2,1,none,46.478873239436616,64,55,59.5,0,1,0.0,0.0,0.0,0.0,0.0,1.0\\n821,1,1,none,95.77464788732394,97,96,96.5,1,0,0.0,1.0,0.0,0.0,0.0,0.0\\n822,1,0,none,64.7887323943662,68,65,66.5,0,1,0.0,0.0,0.0,0.0,1.0,0.0\\n823,2,1,none,50.704225352112665,79,81,80.0,1,0,0.0,1.0,0.0,0.0,0.0,0.0\\n824,1,1,completed,32.394366197183096,49,46,47.5,0,1,0.0,0.0,1.0,0.0,0.0,0.0\\n825,2,0,none,81.69014084507043,73,72,72.5,0,1,1.0,0.0,0.0,0.0,0.0,0.0\\n826,2,1,none,33.80281690140844,62,53,57.5,1,0,1.0,0.0,0.0,0.0,0.0,0.0\\n827,4,0,none,73.2394366197183,86,87,86.5,1,0,0.0,0.0,0.0,1.0,0.0,0.0\\n828,3,0,completed,14.08450704225352,42,38,40.0,0,1,0.0,1.0,0.0,0.0,0.0,0.0\\n829,2,1,completed,59.15492957746479,71,80,75.5,1,0,0.0,0.0,0.0,0.0,1.0,0.0\\n830,2,1,none,95.77464788732394,93,91,92.0,0,1,1.0,0.0,0.0,0.0,0.0,0.0\\n831,3,1,completed,74.64788732394365,82,88,85.0,0,1,0.0,0.0,0.0,0.0,1.0,0.0\\n832,2,0,none,42.25352112676057,53,52,52.5,0,1,0.0,0.0,1.0,0.0,0.0,0.0\\n833,1,1,none,45.07042253521126,42,41,41.5,0,1,1.0,0.0,0.0,0.0,0.0,0.0\\n834,4,0,completed,69.01408450704224,74,72,73.0,0,1,1.0,0.0,0.0,0.0,0.0,0.0\\n835,2,0,none,28.169014084507033,51,51,51.0,0,1,1.0,0.0,0.0,0.0,0.0,0.0\\n836,1,1,none,42.25352112676057,58,47,52.5,0,1,0.0,0.0,1.0,0.0,0.0,0.0\\n837,2,1,completed,57.74647887323943,72,76,74.0,1,0,0.0,0.0,0.0,0.0,1.0,0.0\\n838,1,1,completed,74.64788732394365,84,78,81.0,0,1,1.0,0.0,0.0,0.0,0.0,0.0\\n839,4,0,none,85.91549295774647,90,82,86.0,0,1,1.0,0.0,0.0,0.0,0.0,0.0\\n840,2,0,none,19.718309859154928,62,61,61.5,1,0,0.0,1.0,0.0,0.0,0.0,0.0\\n841,2,0,none,71.83098591549296,64,66,65.0,0,1,0.0,0.0,0.0,0.0,1.0,0.0\\n842,3,1,none,73.2394366197183,82,84,83.0,0,1,0.0,0.0,0.0,0.0,1.0,0.0\\n843,2,1,none,39.43661971830985,61,54,57.5,0,1,0.0,0.0,0.0,0.0,0.0,1.0\\n844,3,1,none,42.25352112676057,72,80,76.0,1,0,0.0,0.0,0.0,0.0,0.0,1.0\\n845,3,1,none,49.29577464788732,76,74,75.0,1,0,1.0,0.0,0.0,0.0,0.0,0.0\\n846,2,1,completed,47.887323943661976,64,66,65.0,0,1,0.0,1.0,0.0,0.0,0.0,0.0\\n847,4,1,completed,59.15492957746479,70,70,70.0,1,0,0.0,1.0,0.0,0.0,0.0,0.0\\n848,1,0,none,49.29577464788732,73,71,72.0,1,0,0.0,0.0,1.0,0.0,0.0,0.0\\n849,3,0,none,36.61971830985916,46,44,45.0,0,1,0.0,1.0,0.0,0.0,0.0,0.0\\n850,4,1,none,30.98591549295775,51,54,52.5,1,0,1.0,0.0,0.0,0.0,0.0,0.0\\n851,2,1,completed,46.478873239436616,76,80,78.0,1,0,1.0,0.0,0.0,0.0,0.0,0.0\\n852,4,1,completed,90.14084507042253,100,95,97.5,1,0,1.0,0.0,0.0,0.0,0.0,0.0\\n853,2,0,none,35.2112676056338,72,59,65.5,0,1,0.0,0.0,1.0,0.0,0.0,0.0\\n854,3,0,none,56.33802816901407,65,74,69.5,1,0,0.0,0.0,0.0,0.0,1.0,0.0\\n855,3,0,none,21.12676056338028,51,48,49.5,0,1,0.0,0.0,1.0,0.0,0.0,0.0\\n856,4,1,completed,80.28169014084506,85,91,88.0,1,0,0.0,0.0,0.0,0.0,1.0,0.0\\n857,4,1,none,78.87323943661971,92,85,88.5,1,0,1.0,0.0,0.0,0.0,0.0,0.0\\n858,0,0,none,29.577464788732392,67,73,70.0,1,0,0.0,0.0,0.0,1.0,0.0,0.0\\n859,3,1,completed,83.09859154929578,74,75,74.5,0,1,0.0,0.0,0.0,0.0,0.0,1.0\\n860,4,1,none,42.25352112676057,62,69,65.5,1,0,1.0,0.0,0.0,0.0,0.0,0.0\\n861,4,0,none,4.225352112676056,34,38,36.0,1,0,0.0,0.0,0.0,0.0,0.0,1.0\\n862,1,0,completed,47.887323943661976,78,79,78.5,1,0,0.0,0.0,0.0,0.0,0.0,1.0\\n863,3,1,completed,53.521126760563384,54,63,58.5,0,1,1.0,0.0,0.0,0.0,0.0,0.0\\n864,3,1,completed,50.704225352112665,78,82,80.0,1,0,0.0,0.0,0.0,0.0,0.0,1.0\\n865,3,1,none,78.87323943661971,84,89,86.5,0,1,0.0,0.0,0.0,1.0,0.0,0.0\\n866,2,1,none,61.97183098591548,78,74,76.0,1,0,0.0,0.0,0.0,1.0,0.0,0.0\\n867,0,0,completed,7.04225352112676,48,41,44.5,1,0,0.0,0.0,1.0,0.0,0.0,0.0\\n868,3,0,completed,90.14084507042253,100,100,100.0,1,0,0.0,1.0,0.0,0.0,0.0,0.0\\n869,3,0,none,53.521126760563384,84,84,84.0,1,0,0.0,0.0,0.0,0.0,0.0,1.0\\n870,3,1,none,83.09859154929578,77,77,77.0,0,1,0.0,0.0,0.0,0.0,1.0,0.0\\n871,1,1,none,39.43661971830985,48,51,49.5,0,1,0.0,0.0,1.0,0.0,0.0,0.0\\n872,3,1,completed,70.42253521126761,84,91,87.5,1,0,0.0,0.0,0.0,0.0,1.0,0.0\\n873,2,0,none,53.521126760563384,75,72,73.5,1,0,0.0,1.0,0.0,0.0,0.0,0.0\\n874,4,1,completed,57.74647887323943,64,70,67.0,0,1,0.0,1.0,0.0,0.0,0.0,0.0\\n875,3,0,none,29.577464788732392,42,48,45.0,0,1,0.0,1.0,0.0,0.0,0.0,0.0\\n876,0,1,none,56.33802816901407,84,82,83.0,1,0,0.0,0.0,0.0,0.0,1.0,0.0\\n877,2,1,completed,32.394366197183096,61,66,63.5,1,0,0.0,1.0,0.0,0.0,0.0,0.0\\n878,2,0,completed,25.352112676056343,62,66,64.0,1,0,0.0,1.0,0.0,0.0,0.0,0.0\\n879,1,0,none,23.943661971830984,61,55,58.0,1,0,1.0,0.0,0.0,0.0,0.0,0.0\\n880,4,1,none,54.92957746478873,70,66,68.0,1,0,0.0,0.0,0.0,0.0,1.0,0.0\\n881,4,1,completed,100.0,100,100,100.0,0,1,0.0,1.0,0.0,0.0,0.0,0.0\\n882,2,1,none,21.12676056338028,61,52,56.5,1,0,0.0,0.0,1.0,0.0,0.0,0.0\\n883,2,1,completed,39.43661971830985,77,80,78.5,1,0,1.0,0.0,0.0,0.0,0.0,0.0\\n884,1,1,completed,87.32394366197184,96,91,93.5,0,1,0.0,0.0,0.0,0.0,1.0,0.0\\n885,3,0,none,56.33802816901407,70,67,68.5,0,1,0.0,0.0,1.0,0.0,0.0,0.0\\n886,2,0,none,8.450704225352112,53,46,49.5,1,0,0.0,0.0,1.0,0.0,0.0,0.0\\n887,3,1,none,60.56338028169014,66,66,66.0,0,1,0.0,0.0,1.0,0.0,0.0,0.0\\n888,1,0,none,35.2112676056338,65,65,65.0,1,0,1.0,0.0,0.0,0.0,0.0,0.0\\n889,3,0,none,63.38028169014084,70,69,69.5,0,1,0.0,0.0,1.0,0.0,0.0,0.0\\n890,4,1,completed,63.38028169014084,64,60,62.0,0,1,0.0,0.0,0.0,0.0,0.0,1.0\\n891,4,0,none,49.29577464788732,56,52,54.0,0,1,1.0,0.0,0.0,0.0,0.0,0.0\\n892,3,0,completed,50.704225352112665,61,71,66.0,1,0,0.0,0.0,1.0,0.0,0.0,0.0\\n893,4,0,completed,23.943661971830984,43,44,43.5,0,1,1.0,0.0,0.0,0.0,0.0,0.0\\n894,2,0,none,26.76056338028169,56,51,53.5,1,0,0.0,0.0,0.0,0.0,0.0,1.0\\n895,2,0,completed,53.521126760563384,74,70,72.0,0,1,0.0,0.0,0.0,0.0,1.0,0.0\\n896,3,0,none,46.478873239436616,57,62,59.5,0,1,0.0,0.0,0.0,0.0,1.0,0.0\\n897,3,0,completed,45.07042253521126,71,73,72.0,0,1,1.0,0.0,0.0,0.0,0.0,0.0\\n898,2,0,completed,57.74647887323943,75,74,74.5,0,1,0.0,1.0,0.0,0.0,0.0,0.0\\n899,2,1,completed,97.18309859154928,87,90,88.5,0,1,1.0,0.0,0.0,0.0,0.0,0.0\\n900,3,0,none,57.74647887323943,63,58,60.5,0,1,0.0,0.0,0.0,0.0,1.0,0.0\\n901,0,1,none,53.521126760563384,57,53,55.0,0,1,1.0,0.0,0.0,0.0,0.0,0.0\\n902,4,0,none,39.43661971830985,58,57,57.5,1,0,0.0,0.0,1.0,0.0,0.0,0.0\\n903,3,1,completed,78.87323943661971,81,85,83.0,0,1,0.0,0.0,0.0,0.0,1.0,0.0\\n904,3,1,completed,67.6056338028169,68,69,68.5,0,1,0.0,0.0,0.0,0.0,0.0,1.0\\n905,2,0,completed,60.56338028169014,66,72,69.0,0,1,0.0,0.0,0.0,1.0,0.0,0.0\\n906,3,1,none,69.01408450704224,91,96,93.5,1,0,0.0,0.0,0.0,1.0,0.0,0.0\\n907,2,1,none,73.2394366197183,66,64,65.0,0,1,0.0,0.0,1.0,0.0,0.0,0.0\\n908,0,0,none,45.07042253521126,62,61,61.5,0,1,0.0,0.0,0.0,0.0,0.0,1.0\\n909,1,1,none,40.84507042253521,68,61,64.5,1,0,0.0,0.0,1.0,0.0,0.0,0.0\\n910,2,1,none,35.2112676056338,61,58,59.5,1,0,1.0,0.0,0.0,0.0,0.0,0.0\\n911,1,1,none,74.64788732394365,82,80,81.0,0,1,0.0,0.0,1.0,0.0,0.0,0.0\\n912,1,0,completed,28.169014084507033,50,52,51.0,0,1,0.0,0.0,0.0,0.0,0.0,1.0\\n913,4,0,completed,39.43661971830985,75,73,74.0,1,0,0.0,0.0,1.0,0.0,0.0,0.0\\n914,4,1,none,91.5492957746479,73,71,72.0,0,1,0.0,0.0,1.0,0.0,0.0,0.0\\n915,3,1,completed,64.7887323943662,77,83,80.0,1,0,0.0,0.0,0.0,0.0,1.0,0.0\\n916,4,0,none,63.38028169014084,74,72,73.0,1,0,0.0,0.0,0.0,0.0,0.0,1.0\\n917,2,1,completed,40.84507042253521,52,54,53.0,0,1,0.0,0.0,1.0,0.0,0.0,0.0\\n918,2,1,none,46.478873239436616,69,69,69.0,1,0,0.0,0.0,0.0,0.0,1.0,0.0\\n919,4,1,none,60.56338028169014,57,62,59.5,0,1,1.0,0.0,0.0,0.0,0.0,0.0\\n920,2,1,none,77.46478873239437,87,81,84.0,0,1,0.0,0.0,0.0,0.0,1.0,0.0\\n921,3,1,none,88.73239436619718,100,100,100.0,1,0,0.0,0.0,0.0,1.0,0.0,0.0\\n922,3,1,none,22.535211267605632,63,59,61.0,1,0,0.0,0.0,1.0,0.0,0.0,0.0\\n923,2,1,none,64.7887323943662,81,71,76.0,0,1,0.0,0.0,1.0,0.0,0.0,0.0\\n924,0,1,none,38.028169014084504,58,64,61.0,1,0,0.0,0.0,0.0,0.0,1.0,0.0\\n925,3,0,none,26.76056338028169,54,53,53.5,1,0,0.0,0.0,0.0,0.0,0.0,1.0\\n926,4,1,none,100.0,100,100,100.0,1,0,1.0,0.0,0.0,0.0,0.0,0.0\\n927,2,0,completed,50.704225352112665,76,75,75.5,1,0,0.0,0.0,0.0,0.0,0.0,1.0\\n928,3,1,none,60.56338028169014,57,58,57.5,0,1,0.0,0.0,0.0,0.0,1.0,0.0\\n929,3,1,none,46.478873239436616,70,72,71.0,1,0,0.0,0.0,0.0,0.0,1.0,0.0\\n930,0,1,completed,52.112676056338024,68,64,66.0,0,1,0.0,0.0,0.0,0.0,0.0,1.0\\n931,2,1,none,47.887323943661976,63,60,61.5,0,1,0.0,0.0,0.0,0.0,1.0,0.0\\n932,4,1,none,54.92957746478873,76,67,71.5,1,0,1.0,0.0,0.0,0.0,0.0,0.0\\n933,1,1,none,64.7887323943662,84,80,82.0,1,0,0.0,1.0,0.0,0.0,0.0,0.0\\n934,3,1,none,84.50704225352112,100,100,100.0,1,0,0.0,1.0,0.0,0.0,0.0,0.0\\n935,2,1,completed,69.01408450704224,72,69,70.5,0,1,0.0,0.0,0.0,0.0,0.0,1.0\\n936,0,0,completed,33.80281690140844,50,60,55.0,1,0,0.0,0.0,1.0,0.0,0.0,0.0\\n937,3,0,none,28.169014084507033,65,61,63.0,1,0,0.0,0.0,0.0,0.0,1.0,0.0\\n938,0,1,none,35.2112676056338,63,67,65.0,1,0,0.0,0.0,0.0,0.0,1.0,0.0\\n939,2,1,completed,49.29577464788732,82,77,79.5,1,0,0.0,0.0,0.0,0.0,1.0,0.0\\n940,1,0,completed,43.66197183098591,62,60,61.0,0,1,0.0,0.0,0.0,0.0,1.0,0.0\\n941,2,1,none,46.478873239436616,65,58,61.5,0,1,1.0,0.0,0.0,0.0,0.0,0.0\\n942,3,1,completed,36.61971830985916,41,48,44.5,0,1,0.0,0.0,1.0,0.0,0.0,0.0\\n943,2,1,none,87.32394366197184,95,94,94.5,1,0,1.0,0.0,0.0,0.0,0.0,0.0\\n944,1,1,completed,70.42253521126761,85,86,85.5,0,1,0.0,0.0,0.0,0.0,0.0,1.0\\n945,0,1,completed,69.01408450704224,87,91,89.0,1,0,0.0,0.0,0.0,0.0,1.0,0.0\\n946,2,1,none,63.38028169014084,75,82,78.5,1,0,0.0,0.0,0.0,0.0,0.0,1.0\\n947,0,1,none,39.43661971830985,51,54,52.5,0,1,0.0,0.0,1.0,0.0,0.0,0.0\\n948,2,1,none,15.492957746478872,59,51,55.0,1,0,1.0,0.0,0.0,0.0,0.0,0.0\\n949,4,1,completed,73.2394366197183,75,76,75.5,0,1,0.0,0.0,0.0,0.0,0.0,1.0\\n950,0,0,none,21.12676056338028,45,45,45.0,1,0,0.0,0.0,0.0,0.0,0.0,1.0\\n951,3,0,completed,53.521126760563384,86,83,84.5,1,0,0.0,0.0,0.0,0.0,1.0,0.0\\n952,4,0,completed,80.28169014084506,81,75,78.0,0,1,0.0,0.0,1.0,0.0,0.0,0.0\\n953,1,1,completed,50.704225352112665,82,78,80.0,1,0,0.0,0.0,0.0,0.0,0.0,1.0\\n954,3,0,none,36.61971830985916,76,76,76.0,1,0,1.0,0.0,0.0,0.0,0.0,0.0\\n955,3,0,none,46.478873239436616,72,74,73.0,1,0,0.0,1.0,0.0,0.0,0.0,0.0\\n956,0,1,none,47.887323943661976,63,62,62.5,0,1,0.0,0.0,1.0,0.0,0.0,0.0\\n957,4,1,completed,83.09859154929578,99,95,97.0,1,0,0.0,0.0,0.0,1.0,0.0,0.0\\n958,2,0,none,46.478873239436616,55,55,55.0,0,1,0.0,0.0,1.0,0.0,0.0,0.0\\n959,2,0,completed,42.25352112676057,71,65,68.0,1,0,0.0,0.0,1.0,0.0,0.0,0.0\\n960,3,1,completed,54.92957746478873,78,77,77.5,1,0,0.0,0.0,0.0,0.0,1.0,0.0\\n961,3,0,none,67.6056338028169,86,86,86.0,1,0,0.0,0.0,0.0,0.0,1.0,0.0\\n\""
            ]
          },
          "execution_count": 93,
          "metadata": {},
          "output_type": "execute_result"
        }
      ],
      "source": [
        "students.to_csv()"
      ]
    },
    {
      "cell_type": "code",
      "execution_count": 94,
      "metadata": {
        "colab": {
          "base_uri": "https://localhost:8080/",
          "height": 34
        },
        "id": "IWdWlRZJHzg7",
        "outputId": "34417197-b4c8-476d-d49f-b7675a61314c"
      },
      "outputs": [
        {
          "data": {
            "text/html": [
              "<a href='estudiantes.csv' target='_blank'>estudiantes.csv</a><br>"
            ],
            "text/plain": [
              "/content/estudiantes.csv"
            ]
          },
          "execution_count": 94,
          "metadata": {},
          "output_type": "execute_result"
        }
      ],
      "source": [
        "from IPython.display import FileLink\n",
        "\n",
        "students.to_csv('estudiantes.csv', index=False)\n",
        "#p_df.to_excel('/path/to/data.xlsx', index=False)\n",
        "\n",
        "FileLink('estudiantes.csv')"
      ]
    }
  ],
  "metadata": {
    "colab": {
      "collapsed_sections": [],
      "name": "Análisis Exploratorio detallado de estudiantes.ipynb",
      "provenance": []
    },
    "kernelspec": {
      "display_name": "Python 3 (ipykernel)",
      "language": "python",
      "name": "python3"
    },
    "language_info": {
      "codemirror_mode": {
        "name": "ipython",
        "version": 3
      },
      "file_extension": ".py",
      "mimetype": "text/x-python",
      "name": "python",
      "nbconvert_exporter": "python",
      "pygments_lexer": "ipython3",
      "version": "3.9.7"
    },
    "varInspector": {
      "cols": {
        "lenName": 16,
        "lenType": 16,
        "lenVar": 40
      },
      "kernels_config": {
        "python": {
          "delete_cmd_postfix": "",
          "delete_cmd_prefix": "del ",
          "library": "var_list.py",
          "varRefreshCmd": "print(var_dic_list())"
        },
        "r": {
          "delete_cmd_postfix": ") ",
          "delete_cmd_prefix": "rm(",
          "library": "var_list.r",
          "varRefreshCmd": "cat(var_dic_list()) "
        }
      },
      "types_to_exclude": [
        "module",
        "function",
        "builtin_function_or_method",
        "instance",
        "_Feature"
      ],
      "window_display": false
    }
  },
  "nbformat": 4,
  "nbformat_minor": 0
}
